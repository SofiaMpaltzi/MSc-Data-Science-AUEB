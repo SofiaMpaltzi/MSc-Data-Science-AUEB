{
 "cells": [
  {
   "cell_type": "markdown",
   "metadata": {},
   "source": [
    "## Assignment 1: Gaussian Elimination"
   ]
  },
  {
   "cell_type": "code",
   "execution_count": 1,
   "metadata": {},
   "outputs": [],
   "source": [
    "import numpy as np\n",
    "from numpy.linalg import norm, cond\n",
    "from numpy.random import seed\n",
    "from scipy.linalg import toeplitz, inv, solve, lu_solve, solve_triangular\n",
    "import time\n",
    "import matplotlib.pyplot as plt\n",
    "import pandas as pd"
   ]
  },
  {
   "cell_type": "markdown",
   "metadata": {},
   "source": [
    "## Question 1\n",
    "\n",
    "In this section Partial and Complete pivoting methods are implemented."
   ]
  },
  {
   "cell_type": "markdown",
   "metadata": {},
   "source": [
    "### Partial Pivoting\n",
    "\n",
    "Method gets a nxn matrix A as input and returns three matrices L, U, P such as PA = LU."
   ]
  },
  {
   "cell_type": "code",
   "execution_count": 2,
   "metadata": {},
   "outputs": [],
   "source": [
    "def gauss_pp(A):\n",
    "    #validity of input check\n",
    "    assert A.shape[0]==A.shape[1]\n",
    "    \n",
    "    #copy A matrix to Ac to preserve A\n",
    "    Ac = np.copy(A)\n",
    "    \n",
    "    #rows/columns of A\n",
    "    n = Ac.shape[0]\n",
    "    \n",
    "    #permutation vector p and permutation table P initialization\n",
    "    p = np.arange(0,n)\n",
    "    P = np.eye(n)\n",
    "    \n",
    "    for i in range(n):\n",
    "        #find pivot point(rows to be swaped)\n",
    "        pivot_point = np.argmax(abs(Ac[i:,i]))+i\n",
    "        \n",
    "        #swap rows in table A and permutation vector\n",
    "        Ac[[i, pivot_point]] = Ac[[pivot_point, i]]\n",
    "        p[[i, pivot_point]] = p[[pivot_point, i]]\n",
    "        \n",
    "        #update L part of table A\n",
    "        Ac[i+1:,i] = Ac[i+1:,i]/Ac[i][i]\n",
    "        #update U part of table A\n",
    "        #Ac[i+1:,i+1:] = Ac[i+1:,i+1:] - np.dot(Ac[i+1:,i].reshape((n-i-1,1)), Ac[i,i+1:].reshape((1,n-i-1)))\n",
    "        Ac[i+1:,i+1:] = Ac[i+1:,i+1:] - np.outer(Ac[i+1:,i], Ac[i,i+1:])\n",
    "\n",
    "    L = np.tril(Ac,-1) + np.eye(n)\n",
    "    U = np.triu(Ac)\n",
    "    \n",
    "    return L, U, P[p,:]"
   ]
  },
  {
   "cell_type": "markdown",
   "metadata": {},
   "source": [
    "### Complete Pivoting\n",
    "\n",
    "Method gets a nxn matrix A as input and returns four matrices L, U, P,Q such as PAQ = LU."
   ]
  },
  {
   "cell_type": "code",
   "execution_count": 3,
   "metadata": {},
   "outputs": [],
   "source": [
    "def gauss_cp(A):\n",
    "    \n",
    "    #validity of input check\n",
    "    assert A.shape[0]==A.shape[1]\n",
    "    \n",
    "    #copy A matrix to Ac to preserve A\n",
    "    Ac = np.copy(A)\n",
    "    \n",
    "    #rows/columns of A\n",
    "    n = Ac.shape[0]\n",
    "    \n",
    "    #permutation vectors p(rows) and q(columns) and permutation tables P(rows) and Q(columns) initialization\n",
    "    p = np.arange(0,n)\n",
    "    q = np.arange(0,n)\n",
    "    P = np.eye(n)\n",
    "    Q = np.eye(n)\n",
    "   \n",
    "    for i in range(n):\n",
    "        \n",
    "        #position of largest element\n",
    "        row, col = np.argmax(np.max(abs(Ac[i:,i:]), axis = 1))+i, np.argmax(np.max(abs(Ac[i:,i:]), axis = 0))+i\n",
    "        \n",
    "        #swap rows and columns to bring the largest element up\n",
    "        Ac[[i, row],:] = Ac[[row, i],:]\n",
    "        Ac[:,[i, col]] = Ac[:,[col,i]]\n",
    "        \n",
    "        #update permutation vectors\n",
    "        p[[i, row]] = p[[row, i]]\n",
    "        q[[i, col]] = q[[col, i]]\n",
    "        \n",
    "        #update L part of table A\n",
    "        Ac[i+1:,i] = Ac[i+1:,i]/Ac[i][i]\n",
    "        #update U part of table A\n",
    "        #Ac[i+1:,i+1:] = Ac[i+1:,i+1:] - np.dot(Ac[i+1:,i].reshape((n-i-1,1)), Ac[i,i+1:].reshape((1,n-i-1)))\n",
    "        Ac[i+1:,i+1:] = Ac[i+1:,i+1:] - np.outer(Ac[i+1:,i], Ac[i,i+1:])\n",
    "\n",
    "        \n",
    "    L = np.tril(Ac,-1) + np.eye(n)\n",
    "    U = np.triu(Ac)\n",
    "    \n",
    "    return L, U, P[p,:], Q[:,q]"
   ]
  },
  {
   "cell_type": "markdown",
   "metadata": {},
   "source": [
    "## Question 2"
   ]
  },
  {
   "cell_type": "markdown",
   "metadata": {},
   "source": [
    "Create Toeplitz matrix for n = 64, 128, 256, 1024, by computing a row of length n based on the given sequence and then using the scipy built in function that creates a Toeplitz matrix. "
   ]
  },
  {
   "cell_type": "code",
   "execution_count": 4,
   "metadata": {},
   "outputs": [],
   "source": [
    "def toeplitz_matrix(n):\n",
    "    pi = np.pi\n",
    "    A_t = [(pi**4)/5]\n",
    "    for k in range(1, n):\n",
    "        A_k = (4*((-1)**k)*((pi**2)*(k**2)-6))/k**4\n",
    "        A_t = np.append(A_t, [A_k])\n",
    "    return toeplitz(A_t, A_t)"
   ]
  },
  {
   "cell_type": "markdown",
   "metadata": {},
   "source": [
    "Generate linear systems based on Toeplitz matrices. A vector x is generated randomly and then b (= Ax) is computed."
   ]
  },
  {
   "cell_type": "code",
   "execution_count": 5,
   "metadata": {},
   "outputs": [],
   "source": [
    "def linear_system(A):\n",
    "    seed(123)\n",
    "    x = np.random.randn(A.shape[0], 1)\n",
    "    b = np.dot(A,x)\n",
    "    return A,x,b"
   ]
  },
  {
   "cell_type": "markdown",
   "metadata": {},
   "source": [
    "* Partial Pivoting: $A = P^TLU$ since for permutation matrices $P^{-1}=P^T$\n",
    "\n",
    "$Ax = b$\n",
    "\n",
    "$P^TLUx = b$\n",
    "\n",
    "$LUx = Pb$\n",
    "\n",
    "Set $y = Ux$. Then $Ly = Pb$. Solve the two systems to get x."
   ]
  },
  {
   "cell_type": "code",
   "execution_count": 6,
   "metadata": {},
   "outputs": [],
   "source": [
    "N = [64, 128, 256, 512, 1024]\n",
    "error_partial = []\n",
    "residual_partial = []\n",
    "CPUtime_partial = []\n",
    "cond_num = []"
   ]
  },
  {
   "cell_type": "code",
   "execution_count": 7,
   "metadata": {},
   "outputs": [],
   "source": [
    "for n in N:\n",
    "    #create system\n",
    "    A,x,b = linear_system(toeplitz_matrix(n))\n",
    "    #start timer\n",
    "    start = time.time()\n",
    "    #apply gaussian elimination to A matrix\n",
    "    L,U,P = gauss_pp(A)\n",
    "    #solve systems\n",
    "    y = solve(L,np.dot(P,b))\n",
    "    x_ = solve(U,y)\n",
    "    #end timer\n",
    "    end = time.time()\n",
    "    #keep time elapsed in a list\n",
    "    CPUtime_partial.append(np.round(end-start, 5))  \n",
    "    #error computation\n",
    "    error_partial.append(norm(x_-x, ord=np.inf)) \n",
    "    residual_partial.append(norm(b-A@x_, ord=np.inf))\n",
    "    #condition number computation\n",
    "    cond_num.append(cond(A, p=np.inf))"
   ]
  },
  {
   "cell_type": "markdown",
   "metadata": {},
   "source": [
    "* Complete Pivoting: $A = P^TLUQ^T$ since for permutation matrices $P^{-1}=P^T$\n",
    "\n",
    "$Ax = b$\n",
    "\n",
    "$P^TLUQ^Tx = b$\n",
    "\n",
    "$LUQ^Tx = Pb$\n",
    "\n",
    "Set $y = Q^Tx$, $Uy = z$ and $Lz = Pb$. Solve the three systems to get x."
   ]
  },
  {
   "cell_type": "code",
   "execution_count": 8,
   "metadata": {},
   "outputs": [],
   "source": [
    "N = [64, 128, 256, 512, 1024]\n",
    "error_complete = []\n",
    "residual_complete = []\n",
    "CPUtime_complete = []\n",
    "cond_complete = []"
   ]
  },
  {
   "cell_type": "code",
   "execution_count": 9,
   "metadata": {},
   "outputs": [],
   "source": [
    "for n in N:\n",
    "    #create system\n",
    "    A,x,b = linear_system(toeplitz_matrix(n))\n",
    "    #start timer\n",
    "    start = time.time()\n",
    "    #apply gaussian elimination to A matrix\n",
    "    L,U,P,Q = gauss_cp(A)\n",
    "    #solve systems\n",
    "    z = solve(L,np.dot(P,b))\n",
    "    y = solve(U,z)\n",
    "    x_ = solve(Q.T, y)\n",
    "    #end timer\n",
    "    end = time.time()    \n",
    "    #keep time elapsed in a list\n",
    "    CPUtime_complete.append(np.round(end-start, 5))\n",
    "    #error computation\n",
    "    error_complete.append(norm(x_-x, ord=np.inf))\n",
    "    residual_complete.append(norm(b-A@x_, ord=np.inf))"
   ]
  },
  {
   "cell_type": "code",
   "execution_count": 10,
   "metadata": {},
   "outputs": [
    {
     "name": "stdout",
     "output_type": "stream",
     "text": [
      "Infinity Norms of Errors and Condition Numbers\n",
      "-----------------------------------------------------------------------------------------------------------------------------\n",
      "n      Partial Error            Complete Error           Residual Partial         Residual Complete        Condition Number\n",
      "-----------------------------------------------------------------------------------------------------------------------------\n",
      "64     7.521794298526174e-11    9.466205597163935e-11    3.197442310920451e-14    3.552713678800501e-14    4550789.9329\n",
      "128    9.39581523695665e-10     1.8223194064859172e-09   7.105427357601002e-14    4.973799150320701e-14    70460126.5698\n",
      "256    5.708019640282558e-09    9.262127953491017e-09    1.0658141036401503e-13   8.526512829121202e-14    1108456878.8501\n",
      "512    2.108450097293435e-07    3.151315490779183e-07    1.1368683772161603e-13   1.1368683772161603e-13   17583765297.8573\n",
      "1024   3.870123418459048e-06    1.7517906463204724e-06   2.1316282072803006e-13   1.4210854715202004e-13   280126712803.0266\n"
     ]
    }
   ],
   "source": [
    "print('Infinity Norms of Errors and Condition Numbers')\n",
    "print('-'*125)\n",
    "fmt = '{:<7}{:<25}{:<25}{:<25}{:<25}{}'\n",
    "print(fmt.format('n', 'Partial Error', 'Complete Error', 'Residual Partial', 'Residual Complete', 'Condition Number'))\n",
    "print('-'*125)\n",
    "for n in range(len(N)):\n",
    "    print(fmt.format(N[n],\n",
    "                     error_partial[n],\n",
    "                     error_complete[n],\n",
    "                     residual_partial[n],\n",
    "                     residual_complete[n],\n",
    "                     np.round(cond_num[n],4)))"
   ]
  },
  {
   "cell_type": "code",
   "execution_count": 11,
   "metadata": {},
   "outputs": [
    {
     "data": {
      "image/png": "[encoded data removed]",
      "text/plain": [
       "<Figure size 720x432 with 1 Axes>"
      ]
     },
     "metadata": {
      "needs_background": "light"
     },
     "output_type": "display_data"
    }
   ],
   "source": [
    "plt.figure(figsize=(10,6))\n",
    "plt.title('Condition Number vs n')\n",
    "plt.plot(N, cond_num)\n",
    "plt.scatter(N, cond_num, c='r')\n",
    "plt.xlabel('n')\n",
    "plt.ylabel('Condition Number')\n",
    "plt.show()"
   ]
  },
  {
   "cell_type": "code",
   "execution_count": 12,
   "metadata": {},
   "outputs": [
    {
     "data": {
      "image/png": "[encoded data removed]",
      "text/plain": [
       "<Figure size 720x432 with 1 Axes>"
      ]
     },
     "metadata": {
      "needs_background": "light"
     },
     "output_type": "display_data"
    }
   ],
   "source": [
    "df = pd.DataFrame({'Partial Pivoting':residual_partial, 'Complete Pivoting':residual_complete})\n",
    "plt.figure(figsize=(10,6))\n",
    "plt.title('Residuals vs Condition Number')\n",
    "plt.plot(cond_num, df)\n",
    "plt.scatter(cond_num, residual_partial)\n",
    "plt.scatter(cond_num, residual_complete)\n",
    "plt.legend(df.columns.values)\n",
    "plt.xlabel('Condition Number')\n",
    "plt.ylabel('Residual')\n",
    "plt.show()"
   ]
  },
  {
   "cell_type": "code",
   "execution_count": 13,
   "metadata": {},
   "outputs": [
    {
     "data": {
      "image/png": "[encoded data removed]",
      "text/plain": [
       "<Figure size 720x432 with 1 Axes>"
      ]
     },
     "metadata": {
      "needs_background": "light"
     },
     "output_type": "display_data"
    }
   ],
   "source": [
    "df = pd.DataFrame({'Partial Pivoting':error_partial, 'Complete Pivoting':error_complete})\n",
    "plt.figure(figsize=(10,6))\n",
    "plt.title('Errors vs Condition Number')\n",
    "plt.plot(cond_num, df)\n",
    "plt.scatter(cond_num, error_partial)\n",
    "plt.scatter(cond_num, error_complete)\n",
    "plt.legend(df.columns.values)\n",
    "plt.xlabel('Condition Number')\n",
    "plt.ylabel('Error')\n",
    "plt.show()"
   ]
  },
  {
   "cell_type": "markdown",
   "metadata": {},
   "source": [
    "Computations for n = 2048"
   ]
  },
  {
   "cell_type": "code",
   "execution_count": 14,
   "metadata": {},
   "outputs": [
    {
     "name": "stdout",
     "output_type": "stream",
     "text": [
      "Partial Pivoting for n = 2048: \n",
      "Time elapsed:  33.23\n",
      "Error for n = 2048:  0.00014236314544080475\n",
      "Residual for n = 2048:  3.836930773104541e-13\n",
      "Condition Number:  4472303338839.957\n"
     ]
    }
   ],
   "source": [
    "n = 2048\n",
    "#create system\n",
    "A,x,b = linear_system(toeplitz_matrix(n))\n",
    "#start timer\n",
    "start = time.time()\n",
    "#apply gaussian elimination to A matrix\n",
    "L,U,P = gauss_pp(A)\n",
    "#solve systems\n",
    "y = solve(L,np.dot(P,b))\n",
    "x_ = solve(U,y)\n",
    "#end timer\n",
    "end = time.time()\n",
    "#keep time elapsed in a list\n",
    "print('Partial Pivoting for n = 2048: \\nTime elapsed: ', np.round(end-start, 2))\n",
    "#error computation\n",
    "print('Error for n = 2048: ', norm(x_-x, ord=np.inf))\n",
    "print('Residual for n = 2048: ', norm(b-A@x_, ord=np.inf))\n",
    "#condition number computation\n",
    "print('Condition Number: ',cond(A, p=np.inf))"
   ]
  },
  {
   "cell_type": "code",
   "execution_count": 15,
   "metadata": {},
   "outputs": [
    {
     "name": "stdout",
     "output_type": "stream",
     "text": [
      "Complete Pivoting for n = 2048: \n",
      "Time elapsed:  70.63\n",
      "Error for n = 2048:  3.6749981182568336e-05\n",
      "Residual for n = 2048:  1.8474111129762605e-13\n"
     ]
    }
   ],
   "source": [
    "n = 2048\n",
    "#create system\n",
    "A,x,b = linear_system(toeplitz_matrix(n))\n",
    "#start timer\n",
    "start = time.time()\n",
    "#apply gaussian elimination to A matrix\n",
    "L,U,P,Q = gauss_cp(A)\n",
    "#solve systems\n",
    "z = solve(L,np.dot(P,b))\n",
    "y = solve(U,z)\n",
    "x_ = solve(Q.T, y)\n",
    "#end timer\n",
    "end = time.time()    \n",
    "#keep time elapsed in a list\n",
    "print('Complete Pivoting for n = 2048: \\nTime elapsed: ', np.round(end-start, 2))\n",
    "#error computation\n",
    "print('Error for n = 2048: ', norm(x_-x, ord=np.inf))\n",
    "print('Residual for n = 2048: ', norm(b-A@x_, ord=np.inf))"
   ]
  },
  {
   "cell_type": "markdown",
   "metadata": {},
   "source": [
    "## Question 3\n",
    "\n",
    "In this setion, the CPU run times (computed in previous question), of both methods implemented in question 1, are presented for the different values of n."
   ]
  },
  {
   "cell_type": "code",
   "execution_count": 16,
   "metadata": {
    "scrolled": true
   },
   "outputs": [
    {
     "name": "stdout",
     "output_type": "stream",
     "text": [
      "CPU run times\n",
      "-----------------------------------\n",
      "n      Partial Time   Complete Time\n",
      "-----------------------------------\n",
      "64     0.00697        0.01196\n",
      "128    0.01396        0.02195\n",
      "256    0.03491        0.07779\n",
      "512    0.34604        0.79887\n",
      "1024   3.98041        8.79549\n"
     ]
    }
   ],
   "source": [
    "print('CPU run times')\n",
    "print('-'*35)\n",
    "fmt = '{:<7}{:<15}{}'\n",
    "print(fmt.format('n', 'Partial Time', 'Complete Time'))\n",
    "print('-'*35)\n",
    "for n in range(len(N)):\n",
    "    print(fmt.format(N[n], CPUtime_partial[n], CPUtime_complete[n]))"
   ]
  },
  {
   "cell_type": "markdown",
   "metadata": {},
   "source": [
    "## Question 4\n",
    "\n",
    "Create matrix with -1 in lower triangular part, 1 in main diagonal and last column.\n",
    "Repeat experiments."
   ]
  },
  {
   "cell_type": "markdown",
   "metadata": {},
   "source": [
    "* Partial Pivoting"
   ]
  },
  {
   "cell_type": "code",
   "execution_count": 17,
   "metadata": {},
   "outputs": [],
   "source": [
    "N = [64, 128, 256, 512, 1024]\n",
    "error_partial =[]\n",
    "residual_partial = []\n",
    "CPUtime_partial = []\n",
    "cond_num = []"
   ]
  },
  {
   "cell_type": "code",
   "execution_count": 18,
   "metadata": {},
   "outputs": [
    {
     "name": "stderr",
     "output_type": "stream",
     "text": [
      "<ipython-input-18-0df5ad616d23>:12: LinAlgWarning: Ill-conditioned matrix (rcond=1.69407e-21): result may not be accurate.\n",
      "  y = solve(L,np.dot(P,b))\n",
      "<ipython-input-18-0df5ad616d23>:13: LinAlgWarning: Ill-conditioned matrix (rcond=5.42101e-20): result may not be accurate.\n",
      "  x_ = solve(U,y)\n",
      "<ipython-input-18-0df5ad616d23>:12: LinAlgWarning: Ill-conditioned matrix (rcond=4.59177e-41): result may not be accurate.\n",
      "  y = solve(L,np.dot(P,b))\n",
      "<ipython-input-18-0df5ad616d23>:13: LinAlgWarning: Ill-conditioned matrix (rcond=2.93874e-39): result may not be accurate.\n",
      "  x_ = solve(U,y)\n",
      "<ipython-input-18-0df5ad616d23>:12: LinAlgWarning: Ill-conditioned matrix (rcond=6.74701e-80): result may not be accurate.\n",
      "  y = solve(L,np.dot(P,b))\n",
      "<ipython-input-18-0df5ad616d23>:13: LinAlgWarning: Ill-conditioned matrix (rcond=8.63617e-78): result may not be accurate.\n",
      "  x_ = solve(U,y)\n",
      "<ipython-input-18-0df5ad616d23>:12: LinAlgWarning: Ill-conditioned matrix (rcond=2.91341e-157): result may not be accurate.\n",
      "  y = solve(L,np.dot(P,b))\n",
      "<ipython-input-18-0df5ad616d23>:13: LinAlgWarning: Ill-conditioned matrix (rcond=7.45834e-155): result may not be accurate.\n",
      "  x_ = solve(U,y)\n",
      "<ipython-input-18-0df5ad616d23>:12: LinAlgWarning: Ill-conditioned matrix (rcond=0): result may not be accurate.\n",
      "  y = solve(L,np.dot(P,b))\n",
      "<ipython-input-18-0df5ad616d23>:13: LinAlgWarning: Ill-conditioned matrix (rcond=0): result may not be accurate.\n",
      "  x_ = solve(U,y)\n"
     ]
    }
   ],
   "source": [
    "np.set_printoptions(suppress=True)\n",
    "for n in N:\n",
    "    A = np.tril([-1]*n,-1) +np.eye(n)\n",
    "    A[:,-1] = 1\n",
    "    #create system\n",
    "    A,x,b = linear_system(A)\n",
    "    #start timer\n",
    "    start = time.time()\n",
    "    #apply gaussian elimination to A matrix\n",
    "    L,U,P = gauss_pp(A)\n",
    "    #solve systems\n",
    "    y = solve(L,np.dot(P,b))\n",
    "    x_ = solve(U,y)\n",
    "    #end timer\n",
    "    end = time.time()\n",
    "    #keep time elapsed in a list\n",
    "    CPUtime_partial.append(np.round(end-start, 5))  \n",
    "    #error computation\n",
    "    error_partial.append(norm(x_-x, ord=np.inf))\n",
    "    residual_partial.append(norm(b-A@x_, ord=np.inf))\n",
    "    #condition number computation\n",
    "    cond_num.append(cond(A, p=np.inf))"
   ]
  },
  {
   "cell_type": "markdown",
   "metadata": {},
   "source": [
    "* Complete Pivoting"
   ]
  },
  {
   "cell_type": "code",
   "execution_count": 19,
   "metadata": {},
   "outputs": [],
   "source": [
    "N = [64, 128, 256, 512, 1024]\n",
    "error_complete =[]\n",
    "residual_complete = []\n",
    "CPUtime_complete = []"
   ]
  },
  {
   "cell_type": "code",
   "execution_count": 20,
   "metadata": {},
   "outputs": [],
   "source": [
    "for n in N:\n",
    "    A = np.tril([-1]*n,-1) +np.eye(n)\n",
    "    A[:,-1] = 1\n",
    "    #create system\n",
    "    A,x,b = linear_system(A)\n",
    "    #start timer\n",
    "    start = time.time()\n",
    "    #apply gaussian elimination to A matrix\n",
    "    L,U,P,Q = gauss_cp(A)\n",
    "    #solve systems\n",
    "    z = solve(L,np.dot(P,b))\n",
    "    y = solve(U,z)\n",
    "    x_ = solve(Q.T, y)\n",
    "    #end timer\n",
    "    end = time.time()    \n",
    "    #keep time elapsed in a list\n",
    "    CPUtime_complete.append(np.round(end-start, 5))\n",
    "    #error computation\n",
    "    error_complete.append(norm(x_-x, ord=np.inf))\n",
    "    residual_complete.append(norm(b-A@x_, ord=np.inf))"
   ]
  },
  {
   "cell_type": "code",
   "execution_count": 21,
   "metadata": {},
   "outputs": [
    {
     "name": "stdout",
     "output_type": "stream",
     "text": [
      "Infinity Norms of Errors and Condition Numbers\n",
      "-----------------------------------------------------------------------------------------------------------------------------\n",
      "n      Partial Error            Complete Error           Residual Partial         Residual Complete        Condition Number\n",
      "-----------------------------------------------------------------------------------------------------------------------------\n",
      "64     1.7548861819811095       1.9984014443252818e-15   5.921702358583993        4.440892098500626e-15    64.0\n",
      "128    1048573.87689965         2.1094237467877974e-15   2096136.11442891         6.217248937900877e-15    128.0\n",
      "256    3.2310550079193123       2.3314683517128287e-15   10.375641824000626       1.2434497875801753e-14   256.0\n",
      "512    3.2310550079193123       8.43769498715119e-15     30.062895271478986       2.842170943040401e-14    512.0\n",
      "1024   1025.3262654599405       1.176836406102666e-14    2094.6204680340875       4.618527782440651e-14    1024.0\n"
     ]
    }
   ],
   "source": [
    "print('Infinity Norms of Errors and Condition Numbers')\n",
    "print('-'*125)\n",
    "fmt = '{:<7}{:<25}{:<25}{:<25}{:<25}{}'\n",
    "print(fmt.format('n', 'Partial Error', 'Complete Error', 'Residual Partial', 'Residual Complete', 'Condition Number'))\n",
    "print('-'*125)\n",
    "for n in range(len(N)):\n",
    "    print(fmt.format(N[n],\n",
    "                     error_partial[n],\n",
    "                     error_complete[n],\n",
    "                     residual_partial[n],\n",
    "                     residual_complete[n],\n",
    "                     np.round(cond_num[n],4)))"
   ]
  },
  {
   "cell_type": "markdown",
   "metadata": {},
   "source": [
    "## Question 5"
   ]
  },
  {
   "cell_type": "markdown",
   "metadata": {},
   "source": [
    "In this section, two random vectors will be generated and then divided by their l2 norm, giving vectors whose l2 norm is 1. Then their outer product will be added to A tables of question 2."
   ]
  },
  {
   "cell_type": "code",
   "execution_count": 22,
   "metadata": {},
   "outputs": [],
   "source": [
    "N = [64, 128, 256, 512, 1024]\n",
    "error_partial =[]\n",
    "residual_partial =[]\n",
    "CPUtime_partial = []\n",
    "cond_num = []"
   ]
  },
  {
   "cell_type": "code",
   "execution_count": 23,
   "metadata": {},
   "outputs": [],
   "source": [
    "for n in N:\n",
    "    #create u,v\n",
    "    u = np.random.randn(n)\n",
    "    u = u/norm(u)\n",
    "    u = u.reshape(n,1)\n",
    "    v = np.random.randn(n)\n",
    "    v = v/norm(v)\n",
    "    v = v.reshape(n,1)\n",
    "    #create table A and add outer product of u,v\n",
    "    A = toeplitz_matrix(n)\n",
    "    #apply gaussian elimination to A matrix\n",
    "    L,U,P = gauss_pp(toeplitz_matrix(n))\n",
    "    #create table Anew by adding outer product of u,v to A\n",
    "    Anew = A + u@v.T\n",
    "    Anew,x,b = linear_system(Anew)\n",
    "\n",
    "    #start timer\n",
    "    start = time.time()\n",
    "    \n",
    "    #invert A\n",
    "    Ainv=inv(U)@(inv(L)@P)\n",
    "    \n",
    "    #calculate x_\n",
    "    Anew_inv = Ainv-Ainv@u@v.T@Ainv/(1+v.T@Ainv@u)[0]\n",
    "    x_=Anew_inv@b\n",
    "        \n",
    "    #end timer\n",
    "    end = time.time()\n",
    "    #keep time elapsed in a list\n",
    "    CPUtime_partial.append(np.round(end-start, 5))  \n",
    "    #error computation\n",
    "    error_partial.append(norm(x-x_, ord=np.inf))\n",
    "    residual_partial.append(norm(b-Anew@x_, ord=np.inf))   \n",
    "    #condition number computation\n",
    "    cond_num.append(cond(A, p=np.inf))"
   ]
  },
  {
   "cell_type": "code",
   "execution_count": 24,
   "metadata": {},
   "outputs": [
    {
     "name": "stdout",
     "output_type": "stream",
     "text": [
      "Infinity Norms of Errors, CPU Times and Condition Numbers\n",
      "---------------------------------------------------------------------------\n",
      "n      Partial Error            Partial Residual         CPU Time\n",
      "---------------------------------------------------------------------------\n",
      "64     8.493361569605895e-11    3.018055139136777e-09    0.00398\n",
      "128    3.0004188023013967e-09   6.445382183528636e-08    0.01097\n",
      "256    2.4725397063107835e-08   5.703380310251305e-07    0.02194\n",
      "512    1.7403738770682686e-06   3.449538043298617e-05    0.06483\n",
      "1024   7.355887660098759e-06    0.00020436128597367542   0.22039\n"
     ]
    }
   ],
   "source": [
    "print('Infinity Norms of Errors, CPU Times and Condition Numbers')\n",
    "print('-'*75)\n",
    "fmt = '{:<7}{:<25}{:<25}{}'\n",
    "print(fmt.format('n', 'Partial Error', 'Partial Residual', 'CPU Time', 'Condition Number'))\n",
    "print('-'*75)\n",
    "for n in range(len(N)):\n",
    "    print(fmt.format(N[n],\n",
    "                     error_partial[n],\n",
    "                     residual_partial[n],\n",
    "                     CPUtime_partial[n],\n",
    "                     np.round(cond_num[n],4)))"
   ]
  },
  {
   "cell_type": "code",
   "execution_count": null,
   "metadata": {},
   "outputs": [],
   "source": []
  }
 ],
 "metadata": {
  "kernelspec": {
   "display_name": "Python 3",
   "language": "python",
   "name": "python3"
  },
  "language_info": {
   "codemirror_mode": {
    "name": "ipython",
    "version": 3
   },
   "file_extension": ".py",
   "mimetype": "text/x-python",
   "name": "python",
   "nbconvert_exporter": "python",
   "pygments_lexer": "ipython3",
   "version": "3.8.2"
  }
 },
 "nbformat": 4,
 "nbformat_minor": 4
}
