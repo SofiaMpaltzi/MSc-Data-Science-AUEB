{
 "cells": [
  {
   "cell_type": "markdown",
   "metadata": {},
   "source": [
    "# Assignmnet 3"
   ]
  },
  {
   "cell_type": "markdown",
   "metadata": {},
   "source": [
    "Read retweets csv file"
   ]
  },
  {
   "cell_type": "code",
   "execution_count": 1,
   "metadata": {},
   "outputs": [
    {
     "data": {
      "text/plain": [
       "(13796, 21)"
      ]
     },
     "execution_count": 1,
     "metadata": {},
     "output_type": "execute_result"
    }
   ],
   "source": [
    "import pandas as pd\n",
    "\n",
    "#read file and put into data frame\n",
    "df = pd.read_csv(\"retweets.csv\")\n",
    "\n",
    "#keep rows where lang == english\n",
    "dfen = df[df[\"lang\"] == \"en\"]\n",
    "\n",
    "dfen.shape"
   ]
  },
  {
   "cell_type": "markdown",
   "metadata": {},
   "source": [
    "Drop duplicates"
   ]
  },
  {
   "cell_type": "code",
   "execution_count": 2,
   "metadata": {},
   "outputs": [
    {
     "name": "stderr",
     "output_type": "stream",
     "text": [
      "C:\\Users\\sofia\\Anaconda3\\lib\\site-packages\\ipykernel_launcher.py:1: SettingWithCopyWarning: \n",
      "A value is trying to be set on a copy of a slice from a DataFrame\n",
      "\n",
      "See the caveats in the documentation: http://pandas.pydata.org/pandas-docs/stable/indexing.html#indexing-view-versus-copy\n",
      "  \"\"\"Entry point for launching an IPython kernel.\n"
     ]
    },
    {
     "data": {
      "text/plain": [
       "(10834, 21)"
      ]
     },
     "execution_count": 2,
     "metadata": {},
     "output_type": "execute_result"
    }
   ],
   "source": [
    "dfen.drop_duplicates(subset =\"origTweetId\", keep = 'first', inplace = True) \n",
    "dfen.shape"
   ]
  },
  {
   "cell_type": "markdown",
   "metadata": {},
   "source": [
    "Connect to twitter api"
   ]
  },
  {
   "cell_type": "code",
   "execution_count": 3,
   "metadata": {},
   "outputs": [],
   "source": [
    "import tweepy\n",
    "\n",
    "#configuration file\n",
    "from twitter_config import config\n",
    "\n",
    "#connecting to Twitter\n",
    "auth = tweepy.OAuthHandler(config['consumer_key'], config['consumer_secret'])\n",
    "auth.set_access_token(config['access_token'], config['access_token_secret'])\n",
    "\n",
    "api = tweepy.API(auth,  wait_on_rate_limit=True, wait_on_rate_limit_notify=True)"
   ]
  },
  {
   "cell_type": "markdown",
   "metadata": {},
   "source": [
    "Create id search list"
   ]
  },
  {
   "cell_type": "code",
   "execution_count": 4,
   "metadata": {},
   "outputs": [],
   "source": [
    "dfids = dfen[\"origTweetId\"].astype(str).tolist()"
   ]
  },
  {
   "cell_type": "markdown",
   "metadata": {},
   "source": [
    "Fetch tweets. In each loop get 100 tweets."
   ]
  },
  {
   "cell_type": "code",
   "execution_count": 5,
   "metadata": {},
   "outputs": [],
   "source": [
    "j = 0\n",
    "\n",
    "tweet_text = []\n",
    "for i in range(0, 108):\n",
    "    tweet_text.append(api.statuses_lookup(dfids[j:j+100], map_=True))\n",
    "    j+=100\n",
    "\n",
    "tweet_text.append(api.statuses_lookup(dfids[j:len(dfids)+1], map_=True))"
   ]
  },
  {
   "cell_type": "markdown",
   "metadata": {},
   "source": [
    "Get only the text portion of the tweet."
   ]
  },
  {
   "cell_type": "code",
   "execution_count": 6,
   "metadata": {},
   "outputs": [
    {
     "data": {
      "text/plain": [
       "10834"
      ]
     },
     "execution_count": 6,
     "metadata": {},
     "output_type": "execute_result"
    }
   ],
   "source": [
    "just_text = []\n",
    "for item in tweet_text:\n",
    "    for tweet in item:\n",
    "        try:\n",
    "            just_text.append(tweet.text)\n",
    "        except:\n",
    "            just_text.append(None)\n",
    "len(just_text)"
   ]
  },
  {
   "cell_type": "code",
   "execution_count": 14,
   "metadata": {},
   "outputs": [
    {
     "data": {
      "text/plain": [
       "[\"lord hill's written answers to ep are now on my blog. no transparency on his lobbying past. shame!  ephearings2014\",\n",
       " \"our @sebdance asks @abratusek about global climate talks.'pls tell us how you will push a strong &amp; unified eu voice?' \",\n",
       " \".@ansip_eu agrees with @janalbrecht that opensource is a good way to improve trust in software's integrity. ephearings2014\",\n",
       " 'new:child abuse scandal manchester area - worse than rotherham @janecollinsmep @margotljparker @star_pumpkin ',\n",
       " 'i write for @labourlist tory threat to court of humanrights \"would replace rule of law with rule of mob.\"  @labourchr',\n",
       " '“@ashleyfoxmep: and named her party \"the alliance of alenka bratusek! ephearings2014 mrs bratusek says bratusek',\n",
       " 'good luck to @theprogressives in bulgaria today @eurolabour',\n",
       " \"as ep does not provide coffee in meetings commissioner designate vestager has invited us for it. we'll approve her  vestager ephearing2014\",\n",
       " \"robert halfon raising issue of illegal traveller sites - if ukip had done it he'd have called us nazis  opportunist\",\n",
       " \"read my latest farageonfriday, cameron's speech may have been 'ukip lite' - but he won't deliver \",\n",
       " 'great to have @claudemoraesmep @claremmoody @lucyandersonmep all here @ansip_eu @ep_singlemarket @eurolabour ephearings2014',\n",
       " 'letter i sent today with @marietjeschaake demanding the immediate &amp; unconditional release of @nabeelrajab  bahrain',\n",
       " 'my summary for bienkowska: competent. ephearings2014',\n",
       " \"steven woolfe's magisterial question to lord hill (and his ill-judged response): \",\n",
       " 'vote labour, get tory. vote tory, get labour. vote ukip get ukip  ',\n",
       " 'latest heywood and middleton poll shows that if you vote conservative you get labour ',\n",
       " \"memo to nick clegg: your plan to raise taxes won't deliver extra revenue.  it will just slow economic growth.  r.\",\n",
       " 'answering my question in ecr group j-c juncker has confirmed that the post of chief scientific advisor will be continued in his presidency.',\n",
       " 'looking forward to campaigning tomorrow 4 ukip @johnbickleyukip heywood &amp; middleton. ukip terrific candidate committed to common sense!',\n",
       " 'good presentation of jonathan hill, ready to take on where we are but also keen to listen to parliament, epphearings2014',\n",
       " \"if @junckereu was putting bratusek up as the sacrificial lamb the strategy's working ephearings2014\",\n",
       " '.@anagomesmep and i sent this letter on @nabeelrajab who expressed fear of being arrested after returning to bahrain ',\n",
       " 'hearing dombrovskis no answer to the question \"who will do what?\" @aldegroup',\n",
       " 'yougov poll for heywood and miiddleton shows only ukip can beat lab. a clear case of vote tory get miliband.',\n",
       " 'we must never give in to threat and savagery. fight against is terrorists must continue. eu must stand together. @eppgroup',\n",
       " 'b. lange asked mogherini whether she is prepared to revoke trade privileges in case of grave human rights violations. no clear answer.',\n",
       " 'not convinced that bratusek has the pro-eu track record necessary to push through the needed energy union. ephearings2014',\n",
       " 'mep auken. high energy prices are creating \"an industrial massacre\" in the eu, but all the greens can do is laugh. ',\n",
       " 'socialists &amp; @eppgroup let the cat out of the bag: no 2nd hearing for @pierremoscovici. written qs only. econcoordinators ephearings2014',\n",
       " 'congratulations to cllr. norman dennis in westoe ward, south shields. a big win in a labour seat ',\n",
       " \"now here's a good-looking headline....\\n\",\n",
       " 'now the greens appear to have caught up the lib dems in national polls. liblabcon (ahem) taking a total pasting these days.',\n",
       " 'question to bratušek: why didn\\'t you mention emission trading? which co2 price would help energy transition? \"price should b set by market.\"',\n",
       " 'decision on moscovici postponed ephearing2014 moscovici',\n",
       " \"disappointed @bienkowskaeu didn't answer my question on whether medicines should be under her portfolio ephearings2014\",\n",
       " 'migration can be positive for the uk - only if its controlled! rt ',\n",
       " 'vestager star commissioner on key portfolio ephearings2014',\n",
       " 'question to bratusek: why are you the right person? answer: because i fought off eu suppot for slovenia. odd answer.  ephearings2014',\n",
       " \"hell yeah:)! @linneaengstrom will join us soon in the ep. can't wait!\",\n",
       " 'spent afternoon @debate scots law society edinburgh with snp @tasminasheikh &amp; tory @ianduncanmep etc - had them rolling in aisles',\n",
       " 'meeting of econ &amp; empl coordinators confirms dombrovskis in general but waits for written clarifications ephearings2014 @pierremoscovici',\n",
       " 'hill 2nd hearing tues 1pm-excellent job the first time, no doubt the sequel will be even better @ecrgroup - full support! ephearings2014',\n",
       " \"would have liked concrete answers by bratušek to my questions about her vision on energy isolated ms. didn't get any. ephearings2014\",\n",
       " 'eu budget: member states need to stand by their financial contributions as agreed. eu must not be driven into debt @barrosoeu @eppgroup',\n",
       " 'ignore the labour lies, this is where ukip stands on the nhs ',\n",
       " 'qs on engaging with youth, federalism, delivering members decisions by mps libdemconf ldpresident ',\n",
       " \"next week i'll be grilling eu commissioner candidates about  the environment. what would you ask? askteamjuncker \",\n",
       " \"'@douglascarswell and @markreckless are heroes – and i’m lining up more of them  my latest column for @indyvoices\",\n",
       " 'new child abuse enquiry starts up in manchester @janecollinsmep @margotljparker @star_pumpkin ',\n",
       " 'french socialist attacks dombrovskis for turning latvia to growth,lesson learned:socialist unemployment better than reforms,ephearings2014',\n",
       " 'bienkowska fluffed a simple question from @ashleyfoxmep or further example of junckers edict not to give specific answers?ephearing2014',\n",
       " 'more jobs for young people is my top priority for the eu @socialdemocraterna @maritaulvskog  ep2014 in umea sweden ',\n",
       " \"mogherini suggests being present in european parliament 'much more often' falling short of mentioning 'than ashton' &gt; ephearings2014\",\n",
       " \"ephearings2014 @bienkowskaeu 'lets put europe back to work' @eurolabour\",\n",
       " 'participants in ephearings2014 bratusek finding it hard to see beyond the standard and too general answers. energy deserves more ambition!',\n",
       " '@terryreintke ach nee, dieses wars? ',\n",
       " 'lets get it straight on human rights. whether the conservatives like it or not, we will never be free of the echr while we stay in the eu.',\n",
       " \"fantastic response campaigning for @johnbickleyukip today - @uklabour clearly scared - they've even opened an extra office to try &amp; catch up\",\n",
       " \"tories want us to join an exclusive club with belarus - europe's last dictator! defendourhumanrights \",\n",
       " 'concrete example @anneliesedodds @vestager on how energy market competition has still to help consumers big6fail ',\n",
       " \"after bratušek final statement applause only from commission officials in back of room. as a vice president for energy union she'd b a joke!\",\n",
       " 'well earned teas and sarnies for my team after amazing positive canvass in middleton for @johnbickleyukip. ',\n",
       " \"following @evapaunova's question, @ansip_eu says he will support use of electronic voting systems. ephearings2014\",\n",
       " '@evapaunova @ansip_eu maybe we can do a conference on that issue sometime, how can integrity of vote be assured? ephearings2014',\n",
       " 'euro parliament votes overwhelmingly to reject acta but the commission say they still intend to press ahead. another reason to vote @ukip',\n",
       " 'how to tackle digitaldivide? @ansip_eu coding as part of school curricula, regional funds for broadband, life-long learning ephearings2014',\n",
       " '@spiegelpeter @galliet who said it is easy? commitment to eu treaties&amp;values 2b shown in words&amp;actions to get support @aldegroup',\n",
       " \"according to the papers i can eat a bacon sarnie, so that's something at least \",\n",
       " 'how the ukip effect cd lead to 6 tory seats going lab, but 16 lab seats going tory (+ lots of seats just going ukip) ',\n",
       " 'mogherini has been asked from several angles but not answered clearly on how she sees eu-russia relations now',\n",
       " '@redhotsquirrel @margotljparker margot parker &amp; i will be there tomorrow.',\n",
       " 'ephearings2014 ep has sent 32 further written questions to jourova , 23 to hill , 6 to navracsics after their hearing. answr by sun 21h',\n",
       " 'bienkowska committed to fast and fully enforce the important new directive for public procurement. ephearings2014',\n",
       " 'campaigning in heywood &amp; middleton for @johnbickleyukip great response from ppl on the doorstep looking for change will vote ukip',\n",
       " 'congratulations to @gerbbg and @epp_bg parties in the reformist block. good results. @boykoborissov must lead a stable government @eppgroup',\n",
       " 'congratulations! econ coordinators approve @vestager as competition commissioner. ephearings2014',\n",
       " \"question regarding state aid ruling of commision in favour of supporting nuclear subsidies in the uk. bratušek: i don't know this case.yet.\",\n",
       " 'bienkowska: trademark reform must be handled as fast as possible. this is a very important issue for the smes ephearings2014',\n",
       " \"along with @sebdance i've pledged to help support consumers choose conflictfree products and help end modernslavery \",\n",
       " 'the food police are telling us that 2 or three glasses of wine with dinner make you a marginal alcoholic.  i find that thoroughly offensive.',\n",
       " 'mogherini suggests a white paper (!) in response to threats on the horizon... &gt;&gt; we need action not just thinking ephearings2014',\n",
       " \"what a difference! dombrovskis' answers are short, concrete, and to the point. complete opposite of bratusek hearing. ephearings2014\",\n",
       " 'ephearings2014 bratusek sang \"viva el communismo\" and says it is an antifascist song - very strange!',\n",
       " 'mogherini says not a lot we can do in ukraine. my group does not agree, the eu must be active in defending ukrainians rights to freedom',\n",
       " 'after i ask about \\'russian bear\\' high rep mogherini tells me eu foreign policy \"a mixture of assertiveness &amp; diplomacy.\" ephearings2014',\n",
       " 'great day supporting @johnbickleyukip  with @nigel_farage @paulnuttallukip @jseymourukip @billdudleynorth @mikehookemmep @janecollinsmep',\n",
       " '\"vote ukip, get labour\" says dave. really...? ',\n",
       " \"our @theresamep asks bienkowska what she'll do on social part of industrial pol to tackle inequality ephearings2014 \",\n",
       " 'vestager: in particular markets like energy &amp; digital particular attention needed to prevent dominant positions. ephearings2014',\n",
       " 'ephearings2014 ansip: \"safe harbors do have to be safe!\" dataprotection',\n",
       " 'by leaving the echr, tories want britain to join belarus - the last dictatorship in europe. ',\n",
       " \"priorities mogherini 1) ownership 2) coordination 3) cooperation &gt; really hope she'll get out of this process lingo ephearings2014\",\n",
       " 'dombrovskis recipe for growth: structural reforms towards competitiveness, internal market, investments, innovation. ephearings2014',\n",
       " 'ephearings2014 mogherini-\"how do you confront a russian bear?\"@richardhowitt asks.\"may need nordic advice, but depends on bear\\'s reaction\"',\n",
       " 'cult committee voted against navracsics as culture commissioner ephearing2014, in favour only as member of college',\n",
       " 'hungary is a shining model for other countries, says navracsics. that is an insult to our intelligence',\n",
       " 'us have one currency, one central bank and one govt. europe has one currency, one central bank and...17 govts! cannot go on like this.',\n",
       " 'peter hitchens on a possible ukip/tory pact: \"why sacrifice the country to save the tory party?\".',\n",
       " 'just signed occupycentral petition- hongkong citizens have the right to live in full democracy &amp; not in a mock version of it occupyhk',\n",
       " \"i can't see a single ukip mep present at vote on british commissioner lord hill (who has just been accepted by euro parliament). very poor.\",\n",
       " 'quorum of pro-hinkley commissr so far not reached! barroso urging ashton, borg &amp; other pro-uk commissr to fly in for tmrw’s €20bn decision',\n",
       " 'mogherini gives competent presentation &amp; is tackling questions with self-confidence, realism and some humour, signals some new approaches.',\n",
       " 'bratusek voted down 112 to 13 by the itre and envi committees. she will not be commissioner. ephearings2014',\n",
       " 'we need a qualified commissioner as mr. canete has proven to be ephearings2014',\n",
       " 'eu commitments to ukraine cannot be delayed  @glandsbergis trade @ep_trade @trade_eu',\n",
       " 'this looks deeply troubling ',\n",
       " 'timmermans ephearings2014 \"we need political will to enforce fundamental rights in member states\". so does he have the political will?...',\n",
       " 'parliament rejects bratusek for european commission job:  ft',\n",
       " \"clegg says ukip is about fear, grievance and blame. we say it's about freedom, democracy, self-determination, jobs and growth.\",\n",
       " 'ms mogherini commits both political will &amp; leadership on middle east, \"for first time all parties want eu to be there.\" ephearings2014',\n",
       " \"in first hearing, hill couldn't convince. now he has to try again. live at 13 ephearings2014  \",\n",
       " 'timmermans will become super-commissioner on sustainability &amp; climate. cañete under supervision. ephearings2014',\n",
       " 'fundamental rights can only be guaranteed if common indicators for all ms, ready for that? @nat_griesbeck to timmermans ephearings2014',\n",
       " 'deftly ms mogherini floats idea of white paper on eeas structure, says will explore structured cooperation &amp; mis-reported on south stream.',\n",
       " \"polls have now closed in clacton and in heywood &amp; middleton. let's see what happens. good luck to @douglascarswell and @johnbickleyukip.\",\n",
       " '@vickyford i am paid to further the interests of my constituents. they will be better served by a ukip mp than by a european commissioner.',\n",
       " '@theprogressives looking forward to hearing franstimmermans speak. his reform agenda is key. now delivery. ',\n",
       " \"living in clacton or heywood &amp; middleton? help write history. there's still time to vote. polls close at 10pm. \",\n",
       " '\"@kayswinburnemep: hill approved! 45 in favour 13 against ephearings2014  well done kay. ace negotiating!',\n",
       " 'why @barrosoeu must stop @almuniajoaquin &amp; the vote on hinkley in eucom:  ',\n",
       " \"if canete wasn't epp, he would already be rejected. if moscovici wasn't socialist, he would already have been confirmed ephearings2014\",\n",
       " '@eucouncil finally decided to publicise ttip mandate. this sets a precedent for tisa &amp; other trade negotiations @ep_trade',\n",
       " 'publication of ttip negotiating mandate a welcome step fwd for transparency. ep fought strongly for it ',\n",
       " '38 degrees misrepresenting my views on ttips. ',\n",
       " 'commissioner designate katainen just told me that free movement is a \"core value\" of the eu and he expects uk to defend it. (vid 2 follow)',\n",
       " 'timmermans= impressive! he will make a difference and provide the impact that is so needed in the eu today.',\n",
       " \"when the assistant in the petrol station in clacton asks how it's going and wishes you well, you know something special is happening.\",\n",
       " 'more&amp;more @eppgroup meps joining the youth intergroup: @pablozalba @paulruebig @glandsbergis @smuresan @youthepp @evamajewski @youth_forum',\n",
       " 'starting now ephearing timmermans : we need to see a convincing leadership and a good partner to work with the ep ',\n",
       " 'katainen competitiveness is a friend of welfare society, yes - and that requires a strong public sector and education!  ephearings2014',\n",
       " \"turkish prime minister told cnn turkey'd only send in troops 2 help kurds if getting rid of assad was part of plan:\\xa0\",\n",
       " 'ephearings2014 @nat_griesbeck as minister mr timmermans opposed sanctions for hu. what is his position as commissioner?',\n",
       " 'ttip-breakfast with @repdavecamp @reperikpaulsen @repkevinbrady @berndlange @davidmartinmep @marietjeschaake -but they forgot breakfast :-(',\n",
       " 'good to meet @ansip_eu with @claudemoraesmep post hearing. good to see positive endorsement as digital-commissioner ',\n",
       " 'first meeting of the youthintergroup with @egardiazabal and @brandobenifei:)! reclaimyourfuture ',\n",
       " 'and another reason to vote ukip in heywood &amp; middleton: labour mps are calling on miliband to resign if they lose the seat!',\n",
       " 'at ephearings2014 ms mogherini relaxed &amp; confident replying to being called \"lady south stream\" &amp; when russia called her \"achilles heel.\"',\n",
       " '3 crucial commitments assumed by jourova ephearings2014 on lgbtrights, maternity leave and women on boards. good! ',\n",
       " 'clear consequence of free trade deal with canada: eu scraps plan to label tar sands oil as highly polluting ',\n",
       " \"just heard katainen say that it's smes that create jobs not governments or eu institutions - i'm warming to this chap! ephearings2014\",\n",
       " \"here's the mail on cameron's very pro-eu commissioner \",\n",
       " 'labour reps not looking happy at all tonight heywoodandmiddleton count',\n",
       " 'katainen approved by vote in the joint econ/itre/empl committee. ephearings2014',\n",
       " 'bid for lunch with me to raise money for @makenoise all cash raised helps disadvantaged uk children  last chance today',\n",
       " 'the extent of rough sleeping problem among women is non-detectable - wrs are invisible epconference empoweringwomen ',\n",
       " '@beatrizbecerrab @aldegroup 98 +;41-;5 abs on qualified as comm. 98+;52-;18abs on is he qualified to carry out duties: katainen',\n",
       " 'voters in clacton and also heywood &amp; middleton can make history today. polls are open 7am until 10pm. ',\n",
       " \"i voted against canete because a vote for would have gone against everything i have worked for. some things can't be traded. ephearings\",\n",
       " 'we voted 2times on hill. firstly: if accepted as com. result: 45-13. secondly: if for this portfolio. result: 42-16. ephearings2014',\n",
       " 'meps en masse voting on energy commissioners - no show from ukip \"energy\" spokesman @rogerhelmermep - down the pub??ukipemptychair',\n",
       " 'hill approved for portfolio 42 in favour 16 against ephearings2014 ',\n",
       " 'debate on youth with @terryreintke @brandobenifei and @eleonoraforenza. @jef_europe moveurope ',\n",
       " 'labour reps faces turned from glum to stone - h &amp; m recount',\n",
       " \"eu commission's going 2 vote on huge uk subsidies for nuclear industry 2morrow. so far 7 commissioners opposed. now oettinger shifts 2 yes.\",\n",
       " 'no investment for investment sake. like useless hi speed train in the middle of nowhere @ramontremosa to katainen',\n",
       " 'hearing of commissioner katainen just started. stay tuned. @jyrkikatainen @eppgroup @epp ephearings2014 ',\n",
       " 'european parliament under lockdown. kurdish protestors have gained entry to the building. ',\n",
       " 'so long as hill refuses to publish the names of his financial services clients he looks like a man with something to hide. ephearings2014',\n",
       " 'kurdish protesters have managed to enter the european parliament in brussels. staging protest inside. ',\n",
       " 'brilliant news for ukip - paul sykes has agreed to take on a key election role ',\n",
       " 'ephearings2014 timmermans \"we can protect fundamentalist rights and at the same time provide security\"',\n",
       " 'committee vote for canete is foreseen 6.30 pm and for katainen/hill at 7:00 pm. bratusek withdrew, no vote on her. ephearings2014',\n",
       " 'rt @eurocelt: european parliament shows support to renew youthintergroup  @evapaunova @pablozalba @smuresan @youth_f…',\n",
       " 'hill - we need to be intelligent about different kinds of risk. finally a commissioner who really wants betterregulation ephearings2014',\n",
       " 'hill prioritises engagment with the g20 and fsb, global regulation, with no extraterritoriality. well answered. ephearings2014',\n",
       " \"how i'm working with my colleague @akhanmep so @eurolabour championing eu membership for western balkans countries \",\n",
       " \"historic day for ukip? ladbrokes have us at 1/100 to win in clacton. a couple of years ago we'd have been lucky to be 100/1 let alone 1/100!\",\n",
       " 'also missing gbbofinal to vote for british candiate hill are @ewrop2014 @ashleyfoxmep @juliegirling @c_stihler_mep',\n",
       " 'just been relieved from my shift . turnout estimated at 45% at the polling station i was at heywoodandmiddleton',\n",
       " \"we are on the brink of a new political era - my piece in today's daily express \",\n",
       " 'hill is getting applauses, for firm stand for britain to remain in eu, hope the econ will take the same firm stand, ephearings2014',\n",
       " \"so tomorrow @johnbickleyukip breaks labour's hold on heywood and middleton. you've done us proud john.\",\n",
       " 'timmermanns is giving one of the best performances of all commissioners so far in ephearings2014 @eppgroup',\n",
       " 'how dare labour bang on about protecting the nhs when labour lord winston wants to introduce charges to see gps! pure hypocrisy. retweet!',\n",
       " 'mogherini took ownership and responsibility for re-thinking the eastern partnership failure. i appreciate courage in politicians.',\n",
       " 'when you hear a great candidate, you ideally support that candidate regardless of political group. right?  timmermans georgieva katainen',\n",
       " 'in econ hearing, lord hill said britain outside the eu could not have a satisfactory trade deal with it. palpable nonsense from top eu tory.',\n",
       " '.@timberners_lee makes the case for netneutrality &gt;&gt; hear hear  ',\n",
       " 'lord hill hearing 2 ephearings2014 @eurolabour @maryhoneyball @rcorbettmep @richardhowitt @anneliesedodds @neenagmep ',\n",
       " 'do i stay and vote for hill or slip off to watch gbbofinal? guess better stay!',\n",
       " 'novelfoods must be simpler for small businesses says @intertek \\'s nigel baldwin - \"not everyone has an eu regulatory manager in brussels\"',\n",
       " 'kurdish protestors break through security into the ep and stage a sit-in ',\n",
       " \"timmermans speaks all the languages and doesn't even have an accent. damn. ephearings2014\",\n",
       " \"eve-of-poll for clacton by-election. i'm on labourdoorstep with @tim4clacton tonight &amp; tomorrow. meet 52 meredith rd co15 3ag. join us!\",\n",
       " 'my summary of the katainen hearing: he is very balanced and reasonable. full support. ephearings2014',\n",
       " 'parliament leaves juncker no choice but to reshuffle his team  @euractiv ',\n",
       " 'ephearings2014 currently following  katainen, he is for sustainable and inclusive growth - very important clarification for envi!',\n",
       " \"good luck to @douglascarswell tomorrow, you'll make history. a pleasure to have campaigned for you.  patriot. ukip\",\n",
       " 'goed nieuws: \"@sophieintveld: s&amp;d \"fiscal consolidation shld no longer be 1st priority. investment with public money\". katainen \"i agree\"\"',\n",
       " 'moscovici approved as commissioner. i voted in favour (secret ballot). ephearings2014 ',\n",
       " 'we have a new member in the @greensep: wonderful @linneaengstrom who was also a @fyeg youngcandidate. välkommen:)!',\n",
       " 'peter hitchens urges tory mps to join ukip ',\n",
       " 'good to catch up with @gareththomasmp @eurolabour @paulbrannenne @rcorbettmep @anneliesedodds @sebdance ',\n",
       " 'with @markreckless and @jamesjimcarver in rochester - very positive ',\n",
       " 'inheritance tax, climate change act, australian points system on immigration - voters, beware of expensive imitations. vote ukip.',\n",
       " 'the tories promise to scrap the death tax. they break their word. then before a general election, they make the same promise again.',\n",
       " 'eu unemployment rates:\\nuk 6%\\nbelgium 8.5%\\nfrance 10.2%\\nitaly 12.3%\\nportugal 13.9%\\nspain 24.4%\\ngreece 26.4%',\n",
       " 'video message on the need to create legal routes to the eu for refugees, with @gerardeprez, belgianmep  eupol asylum',\n",
       " 'congratulations to edmund stoiber and eu high level group. saved 33 billion euro. cutting red-tape is a @eppgroup priority.',\n",
       " 'magnificent election results from john bickley and douglas carswell. two ukip superstars with great teams behind them.',\n",
       " 'during last year, more than 3,000 people have died on the eu southern border. this makes it the most deadly border area in the world',\n",
       " 'an unprompted 18% for ukip on sun/yougov today. think that is our best ever with that polling company.',\n",
       " 'can ukip scotland go after labour in scotland? ',\n",
       " \"bulc's transport portfolio will be crucial if we are to deliver an investment program that stimulates economic growth &amp; deliver jobs\",\n",
       " 'decision is better than it could have been. if political landscape continues to change we would expect and ask for inclusion in a 2nd debate',\n",
       " 'ff @jonasfernandez @egardiazabal @enricogasbarra and thank you for your support to the long-term investment intergroup invest4future',\n",
       " \"i'm going to be on bbc 5 live in the next few minutes, do try and tune in!\",\n",
       " \"thank you @politeiauk for inviting me to speak this evening about uk's relationship with eu and communityledsolutions to tackling poverty\",\n",
       " \"how will you vote in next year's general election? i voted ukip in the @dailymirror poll! have your say: \",\n",
       " 'violetta bulc will replace @marossefcovic as commissioner for transport. teamjunckereu',\n",
       " \"i don't think that six month ban by rl for a player punching an unconscious and prone opponent in the face is long enough.\",\n",
       " 'great to be at the opening of google house @google @rozathun ',\n",
       " 'with @margotljparker &amp; pakistan attaches discussing ukip policies on equal &amp; balanced migration for commonwealth ',\n",
       " 'i look forward to working constructively on tisa with shadows @jude_kd @lambsdorff @skakeller @emmamcclarkin, @ep_trade &amp; other committees',\n",
       " '“@lukeming: another seed of change planted @fitzfordail watch us grow.” way to go, guys!',\n",
       " \"following his return to the house of commons, i had tea and fruitcake with ukip's first elected mp @douglascarswell.\",\n",
       " \"why did we win? because we don't play you for fools  my column in today's mail on sunday.\",\n",
       " 'all roads now lead to rochester &amp; strood for the by-election that @markreckless triggered when he joined us ',\n",
       " 'askansip: @ansip_eu, will you also fight for the right to privacy for refugees? civil rights for everyone!',\n",
       " 'btw ukip intends to run lab to the wire in their so-called \"safe\" seats, let alone marginals. we are the party of the working class now.',\n",
       " 'best coverage the mail on sunday has ever given us today - including this nigel farage comment page ',\n",
       " \"a big juicy 17% for ukip on sun/yougov today. and yougov still don't prompt for us!\",\n",
       " \"@tweets2cv @nathangillmep @ukiptaz @markreckless for a moment, i thought i was with the local basketball team, next time, i'll wear stilts!\",\n",
       " 'ff @simonabonafe and thank you for your support to the long-term investment intergroup invest4future keepgoing',\n",
       " 'interesting meeting on ni peace process with @m_mcguinness_sf yesterday together with @seankellymep &amp; irish meps 1/2 ',\n",
       " 'very pleased to meet slovenian commissioner- designate violeta bulc today. looking forward to bulc ephearings2014 ',\n",
       " 'nigel farage rules out election pact with tories - good we dodged that one early on - ',\n",
       " \"credit for those two by-election results is due to so many ukip people. i'm especially proud of the contribution from our 24 ukip meps.\",\n",
       " \"ukip's south yorkshire success story continues - another doncaster councillor joins \",\n",
       " 'with the ambassador of pakistan and amjad bashir mep. ',\n",
       " 'starting in a bit \"youth &amp; employment: giving young workers a voice\" with @terryreintke, myself &amp; more back2ourfuture @effat_press',\n",
       " '\"know, then, my name is douglas, and i do haunt thee in the battle thus!\" nothingescapesshakespeare',\n",
       " 'some impressions of friends of ttip breakfast. thanks to @eu_ttip_team @forfinancewatch @commerzbank @pewresearch ',\n",
       " \"in local elections in czech republic, alde's ano won in 8 out of 10 largest cities! congrats to @telicka @mdlabajova @charanzova @jezekcz\",\n",
       " '.@eppgroup supports all-party talks to renew and secure lasting peace in northern ireland 2/2',\n",
       " 'cameron\\'s audition for king lear going well: \"i shall do such things/i know not what they are/but they shall be the terrors of  the earth.\"',\n",
       " 'dalligate – meps want transparency on eu-olaf tobacco agreements ',\n",
       " 'does anyone else think the latest anti ukip tripe is beginning to look... desperate?     ',\n",
       " 'greeting mayors, ngos, volunteers and authorities exposed to the migratory pressure on eu southern border ',\n",
       " 'collapse of ukip mep group is good news for uk and europe, less airtime and resources for those preaching the politics of fear and division',\n",
       " 'pleased to nominate my colleague @margreteauken for vice-chair of the eu delegation for relations with the palestinian legislative council',\n",
       " \"y'day norway agreed to let statnett &amp; national grid start building world's longest subsea energy interconnector cable \",\n",
       " 'falling oil prices makes a mockery of snp so called economic plan - ',\n",
       " \"3/3 @eppgroup will check @violeta bulc's competence thoroughly in a fair way. she must convince us. ephearings2014\",\n",
       " 'thank you to the pakistan ambassador to brussels for inviting myself &amp;@amjadbashirmep to hear aboutukip trade policy ',\n",
       " 'with amjad bashir, and nicky denning of jaguar landrover, at the british chamber reception. ',\n",
       " '133 additional police and justice powers will handed over to brussels by tories nov 2014 - to augment euro arrest warrant agreed theresa may',\n",
       " 'as one of 1st to warn of  ukip challenge not surprised by clacton result but for those focused on brexit only tories give referendum choice',\n",
       " '.@ansip_eu will you encourage your colleague @goettingereu to also engage in a dialogue with internet users? askansip',\n",
       " 'completely stunning result in heywood and middleton, which proves if you vote conservative in the north you get labour.',\n",
       " 'femm will make a study on \"empowering women in the internet\" on @greensep request. netzfeminismusfuckyeah cc @senficon',\n",
       " \"@beatrizbecerrab @europarl_en @lgbtiintergroup gracias beatriz! let's move forward together!\",\n",
       " \"chuka umanna's comments about ukip are demeaning to voters' intelligence, and will persuade more former labour voters to switch to ukip.\",\n",
       " 'off to the house of commons for our joint uk mep/mp meeting with ttip on the agenda. wonder what eurostar ebola screening will be like?',\n",
       " 'the @europarl_en in coding fever. eudojo codeweekeu ',\n",
       " \"well done @lmcinnes_labour - you'll be a fantastic mp for heywoodandmiddleton! \",\n",
       " 'mps debate the eureferendum bill today. share this to remind people why socialeurope is so important! ',\n",
       " \"ukip isn't the finished article yet. we'll continue to work on our weaknesses and build on our strengths. but what a long way we have come.\",\n",
       " 'ukip disabilities policies are handled by @star_pumpkin - ukip councillor who is a disabled woman  -so angry about @richardhowitt lies',\n",
       " \"well done to @mepstandingup4u elected chair of ep delegation to palestine there's no one who could better outline requirements for peace.\",\n",
       " 'ecb launches new stimulus as eurozone dives again - qe ',\n",
       " 'i am aware of the hopes invested in our party by millions of patriotic, decent and hardworking men and women. it is a huge responsibility.',\n",
       " 'cameron comparing ukip to the green party devalues the support of the millions of those who have placed their trust in ukip this year alone',\n",
       " 'ff @biljanaborzan @mercedesbresso @caterinachinnic and thank you for your support to the long-term investment intergroup invest4future',\n",
       " \"discussing how to support europe's recovery with @jeanarthuis who chairs the powerful ep budgets committee. \",\n",
       " 'lovely to meet the cupar justice and peace group yday with @hudghtonmepsnp talking ttip, fair trade &amp; climate justice ',\n",
       " 'supporting british beer &amp; pubs in ep today with @nathangillmep, @margotljparker, @davidcoburnukip &amp; @billdudleynorth ',\n",
       " 'coderdojo- representatives of 350 clubs in brx, exchanging of experiences, views, learning ones to each others!',\n",
       " 'memo to david cameron: there\\'s only one way to \"claw back powers from brussels\".  it\\'s called brexit.',\n",
       " 'demise of efdd might end up strengthening le pen &amp; her allies, and possibly also ecr, since some of the broken pieces will seek new refuge.',\n",
       " '1/3 @eu_commission must be in place on november 1st. we must avoid any delay. priority is to get to work. @eppgroup ephearings2014',\n",
       " '.@davidcoburnukip really? i assume carswell was also blackmailed by farage?',\n",
       " \"i welcome the nomination of @violeta by the gov't of slovenia. she is a strong, liberal candidate who will be an asset for teamjunckereu\",\n",
       " 'just elected chair of the ep delegation for relations with palestine@lnbdublin @niriada4europe @mattcarthy ',\n",
       " 'on navraciscs. alde wants a change in his portfolio, to be proposed by @juncker_eu ephearings2014 @eureuters @ftbrussels @afp',\n",
       " 'juncker: \"i will not allow secret courts to have final say in disputes between investors &amp; states\" giving himself wriggle room isds ttip',\n",
       " 'as promised: clarification @junckereu on division of competences betw @pierremoscovici &amp; @vdombrovskis @ftbrussels ',\n",
       " 'just been advocating in ep for investment in our rural communities &amp; equal access to transport, public services &amp; high quality broadband',\n",
       " \"i abhor the concept of taxpayers' money subsiding bullfighting and will be mentioning it in my speech in strasbourg later today.\",\n",
       " 'sefcovic is a perfect choice as a commission’s vice-president. his attitude towards energy poverty assures us about that. ephearings2014',\n",
       " 'thank you for confirming cameron is the real fantasist, mr @barrosoeu. my latest speech in the european parliament ',\n",
       " \"juncker on ttip: 'i will not accept that jurisdiction of eu courts limited by isds'. timmermans gets job of ensuring acceptable isds if in\",\n",
       " 'i chair genuinely emotional meeting with outgoing &amp; incoming @eu_enlargement commissioners @stefanfuleeu &amp; @jhahneu ',\n",
       " 'i note british tory jonathan hill is five rows back with 18 of 28 commissioners ahead of him as new juncker commission presented to meps.',\n",
       " 'employment in the digital sector would give europe a growth push of eur 250bn and teamjunckereu can achieve this @digitalagendaeu',\n",
       " '.@giannipittella to juncker demands pact with citizens, action on posting of workers, growth &amp; jobs, maternity leave, equality @eurolabour',\n",
       " 'ep2014 like what i said yesterday on budget: @junckereu said that union should pay its bills, we must finish with the unpaid bills',\n",
       " 'maybe i can change my sex in the long run, but not in short term, says @junckereu with quite good humour',\n",
       " '\"@independent: farage defends outspoken polish mep as having \\'saved\\' ukip   so no ukip red line',\n",
       " 'time for the migration debate to be based on facts not tory propaganda:  while 2.3m eu nationals live in uk, 2.2m brits live in rest of eu!',\n",
       " 'an almost incredible graph showing what the euro has done to spain. industrial production per capita. via @ambroseep: ',\n",
       " 'interesting comments from juncker on isds. labour meps continue to campaign for removing from ttip ttip isds juncker',\n",
       " 'the other parties know that ukip is setting the agenda (via @daily_express) ',\n",
       " '@barrosoeu we managed the constitutional and the financial crisis! and nearly doubled the memberstates in the eu! beeindruckende leistung!',\n",
       " \"great news: finally, nigeria's kidnapped schoolgirls are coming home  bringbackourgirls\",\n",
       " 'bill etheridge: pensioners struggling with heating costs | articles | ukip meps ',\n",
       " \"uk tory meps refuse to back juncker's right of centre commission. another juncker-cameron clash.\",\n",
       " 'in 1977 small pox was eradicated. by 2018 we can eradicate polio across the world.we are almost there but we need to focus on that last mile',\n",
       " 'ephearings2014 sefcovic a lot of knowledge after only five days of preparation - what a difference to bratusek',\n",
       " 'on a delayed train to strasbourg,apparently \"only yoghurt, coke &amp; a little water\" left at bar...there was a stampede after the announcement!',\n",
       " 'voting on trade preferences between the eu and ukraine after the ceasefire and some changes to the association agreement in this regard',\n",
       " 'ephearings2014 sefcovic optimistic outlook on international climate negotian.this is better than to kill the process through pessimism',\n",
       " \"sefcovic comes out with a clear statement: russia's use of gas supply as a political weapon in ukraine is not acceptable. ephearings2014\",\n",
       " 'juncker to ep rules out anything in ttip that wld limit access to regular courts or set up secret courts. isds dead or just waterd down?',\n",
       " \"juncker on isds 'there will be nothing that will allow secret courts to have the final say in disputes between investors + states' ttip\",\n",
       " '@giannipittella @theprogressives we will support junckereu commission to form a europe that connects with its citizens.',\n",
       " 'very good meeting with george pirinski mep re undeclared work &amp; importance of securing workers rights &amp; protections ',\n",
       " \"i urge all mep's to sign the motion in the chamber for an emergency debate with barroso on the failure of eu economic policy! please support\",\n",
       " \"rochester is high noon for cameron - he'll face a leadership challenge if he loses. my latest farageonfriday \",\n",
       " 'good answer from @marossefcovic on my question on energy efficiency. how to convince member states?  ephearings2014 dkgreen',\n",
       " 'great day in northampton with 6th formers for democracy week. incisive questions, new ideas. the future is bright ',\n",
       " \"@junckereu confirms that citizenship will now fall under avramopoulos' portfolio.\",\n",
       " 'europarl has voted to raise case of asia bibi, pakistani woman sentenced to death for blasphemy, with eu high rep for foreign affairs',\n",
       " 'juncker speaking in eu parl says small issues to be left to national governments! brit voters might not agree with him!',\n",
       " '6.1 million people in working households are in poverty. increased numbers of food banks across the uk are a... ',\n",
       " 'ukip facebook has just gone through 275k likes. astonishing growth this year ',\n",
       " 'fg meps and @charlieflanagan in strasbourg today @finegael @deirdreclunefg @maireadmcgmep @seankellymep ',\n",
       " 'brussels gives first glimpse of what it means by “energy union” - ',\n",
       " \"latest @comrespolls poll shows massive difference between prompted and unprompted polling. it's about time @yougov moved with the times.\",\n",
       " 'sefcovic commits to having co2 allowances for heavy eu industry to keep jobs in europe (carbon leakage) ephearings2014',\n",
       " '@junckereu: islamic state (isis) is the enemy of european values and we cannot accept it. \\n\\nteamjunckereu juncker junckerteam',\n",
       " 'as vp of @eu_commission i put justice policies at the service of citizens &amp; businesses: 1 continent, 1 law, same rights everywhere eplenary',\n",
       " 'to the @theprogressives: dutch government including timmermans defended isds with great enthusiasm until now.',\n",
       " '@billdudleynorth good for you bill - i will be confronting @richardhowitt too about his lies when i spot him in ep',\n",
       " 'women &amp; children are main victims of trafficking euobserver / eu counts tens of thousands human trafficking victims ',\n",
       " 'poll:  61 per cent of people think farage should be allowed to debate with other party leaders on tv  ukip',\n",
       " \".@michalboni you're the 1000 follower of my young &amp; newly-created @twitter account.perhaps one day'll reach yr impressive followers nmbr ;)\",\n",
       " 'very exciting moment, @junckereu presenting teamjunckereu in strasbourg plenary. @kgeorgievaeu @eppgroup ',\n",
       " 'lord hill, new uk eu commissioner, sat six rows back from juncker. influence eh?',\n",
       " 'citizenship goes to commissioner for migration and home affairs, and sports to navracsics, navracsics stays for culture, wrong decision',\n",
       " 'ephearings2014 sefcovic quite balanced answer on ecodesign',\n",
       " \"s&amp;d leader @giannipittella says we're proud to have won our battle to get medicines regulation back under health pharma4health\",\n",
       " '@evapaunova  yes, ecdreamteam,with strong support from parliament!',\n",
       " 'just confronted labour mep richard howitt and demanded an explanation for his lies. he would not face me. cowardly as well as a liar !',\n",
       " 'just started: @junckereu presenting teamjunckereu, from 11.45 am onwards votes. ',\n",
       " 'good to hear that @eurolabour demand that medicines &amp; pharma be returned to health commissioner from industry confirmed by teamjunckereu',\n",
       " \"'@markreckless' campaign in rochester is underway, get involved here  \",\n",
       " '.@ernesturtasun in ep calling for more action to fight youth unemployment - also taking gender equality into account ',\n",
       " 'in strasbourg plenary listening to a passionate and convinced european @barrosoeu ',\n",
       " \"to defend eu citizens' rights &amp; to cut red tape! these are battles i fought as commissioner and will continue to lead as mep eplenary\",\n",
       " 'i second @pablozalba: we need joint action by all eu institutions and member states to achieve sustainable growth. europeansemester',\n",
       " 'freedom of movement in europe is a cornerstone of eu. should not be reversed!  @europeanvoiceev',\n",
       " 'putin after giving nato new purpose also wants new enlargement. \"@reuters: sweden: foreign submarine in its waters ',\n",
       " 'ep pres @martinschulz calls on all parties in 6counties to engage in meaningful dialogue; states that ep willing to provide ind mediation',\n",
       " 'yeah, @linneaengstrom joins @greensep after @isabellalovin becomes minister. welcome! ',\n",
       " 'efdd: official press release - normal transmission resumed - we are back! ',\n",
       " \"i'd like to thank @barrosoeu for making it crystal clear that free movement of people is a non- negotiable part of eu membership marrshow\",\n",
       " 'ep plenary day 2 - working breakfast of czech meps with r. khotin from ukrainian @rferl discussing @ukr_elections ',\n",
       " 'sefcovic: improving energy efficiency is essential. we need to share the good practices in different member states. ephearings2014',\n",
       " 'the euro is a failure and its impoverishing millions in europe! see my latest speech in parliament - ',\n",
       " 'weekly report on israeli human rights violations in the occupied palestinian territory (02- 15 october 2014) ',\n",
       " 'the alliance between putin and european far right and nationalists is telling and sad as we can hear in the debate about ukraine eu trade',\n",
       " 'ep conference of presidents unanimously agrees to close ephearings2014 and to have vote on commission tomorrow',\n",
       " 'bulc remains vague on social rights.need to follow up on this!on toll system:polluter pays/user pays; nondiscriminatory. ephearings2014',\n",
       " 'jcj: \"the great loser of this new commission is...me, as i have delegated a great number of my rights and privileges to the vice presidents\"',\n",
       " \"mep from party led by racist could save farage's efdd @euractiv \",\n",
       " 'demonstration for maternity leave directive with @terryreintke @europeanwomen @ernesturtasun eu women ',\n",
       " \"@bbcr4today glad u r highlighting @nigelfarage allying with polish mep with appalling record on women's rights \",\n",
       " 'juncker will leave the question on isds in ttip to timmermans and underlines he wont accept limiting jurisdiction national courts',\n",
       " 'like @manfredweber, i am proud of the consultation process we in @europarl_en had when electing the new @eu_commission. we made history!',\n",
       " 'jasny signal @marossefcovic: \"russia\\'s use of gas supply as a political weapon in ukraine is not acceptable.\" ephearing2014',\n",
       " 'please, mr grayling, no more laws designed to \"send a message\". we already have laws on harrassment and incitement. ',\n",
       " \"nigel farage in eu parl today made point that the commission governs europe in cahoots with big corporate interests. it's an anti democracy.\",\n",
       " \"'@barrosoeu's comments fatally compromise pm's pretence that he do anything to stop large numbers of eu migrants coming to the uk marrshow\",\n",
       " '\"lukashenko accuses russia and says he is ukrainian\\xa0\"  ',\n",
       " 'best line in juncker speech to meps so far: \"europe needs a social \\'triple a\\' a not just a monetary \\'triple a\\' rating.\" teamjunckereu',\n",
       " 'we vote yes for new @eu_commission. we expect a different one with more ambition (credible investment plan) &amp; navracsics under supervision',\n",
       " \"what i'm saying in the guardian tonight about david cameron's chaotic stance on the eu and freedom of movement \",\n",
       " 'help get the ukip calypso by the independents to number 1  ',\n",
       " 'laying a wreath to victims of the 1991 war in vukovar with my friend @ruzatomasic. ',\n",
       " '@junckereu oh mr farage, you are still here ?!? ;-) ep',\n",
       " 'stop bullfighting! @karimadelli @janalbrecht @skakeller @ernesturtasun @senficon @linneaengstrom @greensep ',\n",
       " 'great to discuss ttip &amp; stoiber deregulation agenda with @northerntuc delegates in newcastle today ',\n",
       " \"nearly 1 in 3 brits say they'd vote @ukip if they thought we could win in their seat. we can. so join us today: \",\n",
       " 'from 2030 to twentydirty: new concessions to pl on coal &amp; to uk on blocking future efficiency&amp;renewables-progress make eu2030-deal absurd!',\n",
       " 'support for eu membership highest since 1991, looks like people are starting to realise we are better off in europe ',\n",
       " \"eu project is abt more than economy, it's abt values- i agree with call by artists to remove culture from navrascics \",\n",
       " '.@tonoepp in a very pro-european and sincere speech at the @epp campaign managers meeting in riga ',\n",
       " 'teamjunckereu is a team of competent politicians, we expect them to implement ambitious reformagenda for europe ',\n",
       " '.@eppgroup appalled by execution in iran of reyhanehjabbari. we strongly condemn it.',\n",
       " 'great piece in the daily express today by ukip mep @margotljparker ',\n",
       " 'more bad news for mr cameron, it seems... ',\n",
       " 'note to eurocrats: if you tax successful states to pay unsuccessful states, you get fewer successful states and more unsuccessful ones.',\n",
       " 'at @epp summit with @josephdaul @tonoepp @manfredweber @junckereu @mbarniereu @alexstubb @samaras_antonis @passoscoelho @simonbusuttil ...',\n",
       " 'single seat amendment gets big majority 511-124 in new @europarl_en @singleseateu @ep_belgium @aldegroup good!',\n",
       " '\"i think we should tell [the european union] to get stuffed [over the £1.7bn bill]\". theagenda',\n",
       " 'with jane collins and mike hookem in rotherham. ',\n",
       " 'nearly a third of voters prepared to support ukip  via @guardian',\n",
       " 'european council 23/24 october 2014 conclusions &gt;&gt;&gt; points 17 - 23 on ukraine and moldova ',\n",
       " 'thanks to all of you who have taken me over 4,000 followers....onwards and upwards! my twitter account has grown completely organically.',\n",
       " 'cancellation of tariffs has positive effect on export of ukrainian goods to eu, export grew by 14,7% january/july2014 ',\n",
       " 'looking forward working with you\"@eppgroup @andrejplenkovic to lead delegation to ukraine for sundays election\". @michalboni joachim zeller',\n",
       " \"pm once claimed that he'd reduced eu budget - but the uk contribution went up and now quite incredibly, our contribution goes up a 2nd time\",\n",
       " 'tory splits:mepberatesmep 4 \"columns of ukip fodder screaming to pull out of the eu but still call themselves cons\"  ',\n",
       " 'we will continue to fight for humanright in azerbaijan after leyla yunus ended in top 3 sakharov nominations ',\n",
       " 'the extra money being demanded by brussels - just the extra - would allow us to hire an extra 60,000 nurses and fund their pensions.',\n",
       " 'ceann comhairle you are meant to use the chair to administer a fair debate instead you use it as a weapon to kill the opposition.',\n",
       " '@andrewsparrow just hitch hicked a lift with my friend welsh @nathangillmep from strasbourg to rochester to save taxpayer money',\n",
       " 'facebook paid no corp tax- because eu rules allow that - ',\n",
       " '£1.7 bn for the brussels begging\\xa0bowl ',\n",
       " 'mep vote allows juncker commission marred by conflicts of interest off-the-hook | corporate europe observatory ',\n",
       " 'rt @progressonline: labour in govt was wrong to remove a modern language from gcse requirement, says @tristramhuntmp inconvo14',\n",
       " 'second vote against eu bullfighting subsidies carried in resolution 341 for, 294 against. happier now @eurolabour',\n",
       " 'we support juncker as part of broad coalition in this house, a majority that believes we need to move forward with eu integration',\n",
       " \"marine le pen with a mish mash of populist dogma. she looks like she's sucking a lemon. \",\n",
       " \"hearing commission's plans for ccs in eu2030: key to get eu project of common interest on north sea storage network \",\n",
       " \"govt minister admits what i've been saying for years. no reform or control of immigration while we're in the eu: \",\n",
       " 'commission vote ecr to abstain. i will not. i will vote +',\n",
       " 'those abstaining or voting no to teamjunckereu believe the past is the solution @ecrgroup @nigel_farage @mlp_officiel',\n",
       " 'parliamentary question on hu internet tax by @marietjeschaake and @sophieintveld ',\n",
       " \"we mustn't forget the child victims in rotherham and beyond. but we must remember who let them down... \",\n",
       " 'all human beings are born free and equal in dignity and rights.\\neveryone has the right to life, liberty and security of person.',\n",
       " 'more good news this morning as a comres poll puts ukip on 19%: ',\n",
       " '@iayalasender @zgurmai_en @elke_ferner @iratxegarper @mariearena @annahedh i was there too! missed you on the friday ines',\n",
       " 'first vote in new ep on having a single seat: 511 for, 124 against and 54 abstentions. hope govts finally listen!',\n",
       " 'for my polish followers -  debate - eu climate policy, i debate with  @jerzybuzek ',\n",
       " \"so the tory eu referendum bill is dead. they can't deliver a vote in 2017. more broken promises, mr cameron... \",\n",
       " 'we don’t need a bigger budget…we need a better eu budget\\n eubudget strasbourg @conmeps @eu_budget',\n",
       " 'junker commission elected. 423 for, 209 against, 67 abs epplenary',\n",
       " 'the green party surge  via @guardian',\n",
       " \"everyone in favour of our membership of a reformed eu must keep on shouting it from the rooftops - it's working!\\n\",\n",
       " \"so dave doesn't like the eu migration rules he is bound by or eu budget rules he is bound by. when will he admit we are better off out??\",\n",
       " \"following new revelations about when uk knew what, my updated post on cameron's delayed eu budget reaction: \\n   …\",\n",
       " 'so we know what tory renegotiation in the eu means - £1.7bn extra in payments to brussels.',\n",
       " 'no absolute majority in the european parliament to stop eu subsidies on bullfighting. details on vote will follow. ',\n",
       " 'and the ep confirms again: we want a roadmap to a singleseat. budget',\n",
       " 'once again: the sky is rising. new study on positive effects of digital era on creativity &amp; culture. ',\n",
       " 'thurrock tory mp jackie proice voted no to mp recall -   @tim_aker  ',\n",
       " 'meeting of the delegation for the relations with the united states this morning in strasbourg. ',\n",
       " '@junckereu announced to ep that citizenship will be moved to the portfolio of migration &amp; ha under avramopoulos ',\n",
       " \"anti-bullfighting amendment had majority, but not a qualified one. so it's rejected. fail\",\n",
       " 'the eu says its accounts show that the uk owes an extra £1.7 billion; yet its own accounts covering the same period have failed every audit.',\n",
       " \".@david_cameron's eu coalition? ireland first, then netherlands, now denmark to uk: pay up, move on. @aldegroup \",\n",
       " 'supporting @rcorbettmep at event on sustainable fishing &amp; coastlines in southwest with photos of newlyn fish market! ',\n",
       " 'with john tennant in gateshead tonight ukip ',\n",
       " 'we just lost the vote to de-fund bull-fighting; there was a plurality, but no majority 4 our amendment. you can check later who voted how.',\n",
       " 'not a blanket rejection of @junckereu commission but not convinced at all, to say the least. ',\n",
       " 'nhs wales boss being deconstructed by andrew neil on bbc sunday politics',\n",
       " \"for tonight's theagenda, i was asked to think up an appropriate newspaper front page. eat your heart out the sun... \",\n",
       " 'all ukip is arguing for with regards to the immigration debate is for britain to have control back from the european union. theagenda',\n",
       " 'not fair to say ukip meps never turn up to vote. they do sometimes. ',\n",
       " \"itv: labour slipping in polls while ukip are at 'all-time high'  ukip\",\n",
       " 'italia2014 genderequality beijing20 in rome with @elke_ferner @iratxegarper @mariearena @annahedh on gender equality in labour market',\n",
       " 'at least de gucht is straightforward ... ttip de gucht warns eu that u.s. may cut off free-trade talks ',\n",
       " 'poland and uk killed the energy union, france buried it.  euco eu2030 twentydirty',\n",
       " 'congratulations to the people of tunisia. they have proven that the arab spring can be a success. now eu should give more support.',\n",
       " 'vince cable mocks ukip opposition to ttip ',\n",
       " 'eu budget 2015 amendment to stop bull fighting  not  adopted !!!it eeded absolute majority. it got 323 votes +, 309 against and 58 abstained',\n",
       " 'steve jones, local @ukip member in ashton and bryn! a hard working ukip member doing great work for his community! ',\n",
       " \"preparing to go on bbc2's bbcdp - now that's the sort of typo i like! \",\n",
       " 'juncker has delivered on a more political @eu_commission, now @manfredweber is asking parliament to be less political. absurd. epplenary',\n",
       " \"happy for the ukrainian people, big winner of yesterday's  election. democracy and reforms will bring new hope to ukraine @eppgroup\",\n",
       " 'i sincerely hope that ottawans and canadians in general are able to rely on britain for any support they may need at this difficult time.',\n",
       " 'european parliament votes 423-209 to confirm teamjunckereu @eu_commission just one vote different from the 422-250 vote he got as president',\n",
       " 'the eu asks britain for £1.7 bn more: ukip mep jonathan arnott did a great interview on it on the bbc today programme.',\n",
       " 'just to confirm: the european council has published its ttip negotiating mandate: ',\n",
       " 'teammoody enjoying the beautiful campus of @uniofexeter after full day of fascinating meetings @uoelabour southwest ',\n",
       " \"it's rare to find someone so honest in the media, particularly in comedy. this is very interesting: \",\n",
       " '.@ashleyfoxmep @annamariacb at the single seat campaign today.  would save €114m pa. ',\n",
       " \"france's ambigous role: got veto on interconnections &amp; helped uk to destroy future governance on renewables eu2030 twentydirty euco\",\n",
       " 'women power in ukraine with colleagues @annamariacb and @rebharms ',\n",
       " 'team meeting in the constituency teammoody working hard for the southwest eu britainineurope ',\n",
       " 'in riga for a 2 day @epp campaign managers meeting. thank you @vienotibalv for a warm welcome. @josephdaul @tonoepp ',\n",
       " 'there is something strikingly nostalgic about a german chancellor presenting a british prime minister with an ultimatum.',\n",
       " \"in 2014 the gender pay gap is still increasing, women will 'work for free' from today until new year equalpay @unisontweets @eurolabour\",\n",
       " 'liberal shows like mock the week just can’t understand why ukip has so many supporters:  ',\n",
       " \"why the new trotskyists of the tory right will be rejoicing at merkel's line: \",\n",
       " 'welcome to new commissioner @jhilleu. hope his first day is a new start for betterregulation in financial services, working with @conmeps',\n",
       " 'barzani asks for ground forces to fight is and to help peshmerga advance on the ground while not being seen as seeking to expand kurdistan',\n",
       " '@epp@evapaunova - debate organized by eva: competition and collaboration  as a dilemma or complementary solution for economy?',\n",
       " \"cameron's eu bill has failed. over 13,000 people shared this graphic calling for an end to the lies. add your voice: \",\n",
       " 'of course the european arrest warrant makes it easier to catch criminals. repressive authoritarian measures usually do.',\n",
       " \"@epp@evapaunova - debate: for innovation, for better using of digital tools- let's democratize creativity!\",\n",
       " '@epp@evapaunova: debate on digital single market: e-government: opportunity for effective state&amp;services really oriented on citizens',\n",
       " \"why the trotskyists of tory right will rejoice at merkel's rebuffing of cameron's attempt to abandon free movement:  \",\n",
       " 'a state in which politicians automatically do whatever the police want is, by definition, a police state. europeanarrestwarrant',\n",
       " '.@eppgroup welcomes compromise between russia &amp; ukraine on gas supply, brokered by @goettingereu. people need supply security during winter',\n",
       " \"the european arrest warrant is an abomination. little surprise that mr cameron has called the debate for before rochester. he's terrified.\",\n",
       " 'stepping up pressure on the situation in the mediterranean. just voted in favour of an oral question by @claudemoraesmep to @avramopoulos',\n",
       " ' @bbcdailyukip you mean saving tax payers money!',\n",
       " '\"the swedish government took a fundamental and courageous step towards a two-state solution\" @giannipittella presidentsoc&amp;dem eupol svpol',\n",
       " 'welcome &amp; good luck to new @eu_commission. looking forward to working with teamjunckereu @eppgroup 1/2',\n",
       " 'looking forward to co-operating with all 3 countries as chair of south caucases delegation @eu_armenia @azerbaijanpa ',\n",
       " 'equalpayday reminds us that we still have a long way to go to end the gender pay gap  ',\n",
       " 'who do you trust?\\nleft: un-backed expert panel on climate change\\nright: ukip-backed wooden panel on climate change',\n",
       " 'thanking catherine ashton for her tireless and committed work as eu high rep/key role in irantalks.',\n",
       " 'thank you for sharing your expert opinion, @michalboni. looking forward to working with you on dsm. dsmdebate ',\n",
       " 'german paper der spiegel reports berlin wants uk eu exit if we try and limit immigration. still think you can renegotiate, mr cameron?',\n",
       " 'we members of the european parliament call for release of @nabeelrajab &amp; all political prisoners in bahrain, letter:\\n',\n",
       " 'spot-on analysis by @stewartwood of merkel slapdown of cameron eu strategy :\\n …\\n\\ni agree:\\n …',\n",
       " '\"trains as symbol of europe...  without accepting differerences and diversity there will be no peace\" @ulrikelunacek ',\n",
       " '25 y after fall of iron curtain: proud to meet lech walesa. grateful to this winner of nobel peace price @eppgroup ',\n",
       " 'good meeting with @airbus with @theresamep &amp; @claremoodymep - many supply chain jobs in ne companies',\n",
       " \"mr clegg is going to paris to argue against paying the £1.7bn eu bill. you'll forgive my lack of confidence.\",\n",
       " 'tomorrow at the ep with @koblersrsg koen vervaeke @eu_eeas @anagomesmep @judithineuropa eurac @opensociety rdc ',\n",
       " 'help me to change the face of men’s health this movember by making a donation to my moustache:  @movemberuk',\n",
       " \"vote for jackclarkson in southyorkshire's police &amp; crime commissioner by-election today. we can do this: \",\n",
       " 'chairing @ep_justice, on the agenda: eu anti-money laundering directive, eu-canada agreement on pnr &amp; situation in lampedusa',\n",
       " \"we are paying four times as much as in 2009 to belong to the world's only shrinking trade bloc. \",\n",
       " \"good to hear latest on thalidomide survivors' campaign for justice with @theresamep @stuartkenworthy @fiftyyearfight \",\n",
       " \"a @survation poll for @unitetheunion has just put ukip up by 15 points in rochester. that's up from last week:  …\",\n",
       " 'eu allies getting exasperated with cameron demands \\n',\n",
       " 'interestingly, the tory vote is down 2%, and the labour vote has shrunk by 9%. like ukip, most voters oppose secretive ttip eu-usa deal.',\n",
       " 'in my opinion most important part of 2013 annual report european court of auditors: ',\n",
       " \"concerns about turkey and europe: 'problems with neighbors' in @theeconomist  \",\n",
       " 'shocking stats on child poverty, makes us question what type of progress we are really making!!\\n',\n",
       " 'our exports to the eu continue to plummet.  ',\n",
       " 'hear again me tell @bbc5live \"to deny holiday pay for required overtime is same injustice as zero hours contracts.\" ',\n",
       " '. @carersireland @lukeming delighted to meet annemarie gill,winner of the carer of the year award for co roscommon 14 ',\n",
       " 'ecb is ready to support bulgaria in joining the ssm,said danièle nouy in response to my question during econ hearing ',\n",
       " '@aldegroup will present proposal for real european stimulus &amp; recovery package soon, we cannot loose another decade juncker @ftbrussels',\n",
       " 'i just spoke out against the idea of city regions and in particular greater birmingham in the regional development committee of eu',\n",
       " 'hartlepool deserves better. ukip ',\n",
       " 'today the ep is full of female parliamentarians from many different arab states. springforwardforwomen ',\n",
       " '.@carolinelucas on question time tonight. tweet along and remind the bbc to invitethegreens to the leadersdebates! \\nbbcqt\\nplease rt...',\n",
       " 'video: david cameron can’t ‘pick and choose’ over eu membership ',\n",
       " 'of course no country has copyright on courage but poppy monument is for people of this country &amp; our allies to remember and thank our dead.',\n",
       " 'hope new eu commission will finally answer questions on data portability, ignored by predecessors ',\n",
       " 'now online in @ft :\\n\"largest economies must fix the eurozone\" - our recipe to save the ez\\nrecovery with @jeanarthuis ',\n",
       " \"just to start rt @ep_genderequal: tomorrow @9.30h 'spring forward for women' conference @ep_genderequal: \",\n",
       " 'whether ms sturgeon likes it or not -we are one nation and that was settled at recent indyref',\n",
       " 'dsmdebate group picture! @michalboni @lvnistelrooij @techamerica_eu @eppgroup ',\n",
       " '@toyota_europe hq with @seankellymep. toyota ´s biggest secret behind us :) hydrogen vehicles ',\n",
       " '\"new \\'double majority\\' voting rules come into force\" ',\n",
       " 'my halloween involved managing to hire a car from a garage that no longer exists. returning it proving complicated.',\n",
       " 'ms sturgeon on bbc news talking twaddle as usual - uk entered eec 1972 and uk will soon leave eu intact',\n",
       " 'a special thank you to sir john nott, uk defence sec during falklands war, for voting ukip in the euro elections: ',\n",
       " 'alan johnson: \"we\\'ve got to start making the argument for europe much more than we have done\" \\n\\n\\n\\neu europe labour',\n",
       " '\"elections\" in donetsk and luhansk are illegal and illegitimate. they threaten the peace process ukraine @eppgroup',\n",
       " \"with today's extension of qualified majority voting (qmv), the eu further tightens it's noose - time to make a bold decision &amp; leave the eu\",\n",
       " 'uk sovereignty matters above all - the right to make our own laws not eu - lets get out!',\n",
       " \"100 years ago today, sepoy khudadad khan's heroism at ypres made him the first muslim soldier to win the vc. \",\n",
       " 'a big thank you for your excellent ideas on the digitalsinglemarket, @lvnistelrooij . dsmdebate ',\n",
       " 'so we were up 13 points in rochester last week. now up by 15. and our numbers have shifted up by 8 points since the survation-mos poll ukip',\n",
       " '@ianduncanmep @univofstandrews thanks ian. looking forward to welcoming you back.',\n",
       " 'what ms sturgeon is saying - snp can hold the rest of uk hostage if no vote eu - definitely, categorically not',\n",
       " 'good to speak on genderequality in  vienna @aldeparty @lousewiesvdlaan @floclucas @angelikamlinar @jourovaeu ',\n",
       " 'first hearing of the kurdish friendship group in the european parliament. @ehbildu ',\n",
       " '1/3 thanks to @barrosoeu &amp; outgoing @eu_commission for good and solid eu leadership during hard times. today europe is stronger @eppgroup',\n",
       " 'masrour barazani says light weapons are not enough for peshmerga to eliminate is and asks eu to do more',\n",
       " 'happy halloween, everyone! i think supporters and opponents will all get a kick out of this one... ',\n",
       " '@douglascarswell digital democracy leaves the big parties behind  @ukip',\n",
       " 'about to give the european report at labnw14 with @julie4nw &amp; @akhanmep @eurolabour @theprogressives',\n",
       " 'want to know where our electricity in the uk comes from? check out this website for real time data: ',\n",
       " 'lib/lab/con dont discuss eu uk &amp; italy will stop all sea rescue migrants in mediterranean tomorrow abhorrent bbcqt ',\n",
       " \"women deserve equalpayforequalwork rt to remind people it's equalpayday @theresamep @anneliesedodds @eurolabour \",\n",
       " 'hope to see you at our @northwestukip conference on saturday! tickets are selling out... ',\n",
       " '@epp@evapaunova - debate on digital single market: new digital paradigm for economy,innovation :how to commercialize research?',\n",
       " '@epp@evapaunova - eva: to implement digital single market is the key priority for europe.we can do it!',\n",
       " 'this shows we must leave the eu - and sooner rather than later  ukip',\n",
       " 'no time to lose to deliver on growth, jobs, and reformagenda for europe @junckereu @eppgroup @eu_commission 2/2',\n",
       " 'suspension of internet tax in hu important victory for democracy in europe. internet must stay accessible for everyone @theprogressives',\n",
       " 'you say ukip is a party for blokes? time for a rethink (via @daily_express) ',\n",
       " 'in budget control committee at presentation annual report european court of auditors. 4.7% error rate in 2013, compared to 4.8% 2012.',\n",
       " 'poppy memorial at the tower is humbling &amp; awe-inspiring. a fitting tribute to those who died protecting our freedoms. ',\n",
       " 'today i was privileged and honoured to be appointed rector of the university of st andrews ',\n",
       " 'hearing on energy security. renewables and energy efficiency is key to independence from putins gas dkgreen  eudk ',\n",
       " 'ready to start \"spring forward for women\" @un_women at @ep_genderequal @europarl_en waiting on for @martinschulz ... ',\n",
       " 'follow the @greensep public conference on \"geopolitics, security and the energy transition\" in istanbul live here: ',\n",
       " 'why metric meddling is a recipe for transport trouble ',\n",
       " 'if 20 lab frontbenchers think emil is not up to it (observer), why should the electorate disagree?',\n",
       " \"voted for strong, clear l'ship for eu in un climate talks &amp; support for dev. countries. plsd to see my amndts pass! \",\n",
       " 'at @eu40 event \"we must prioritise, cooperate, enforce &amp; educate to tackle match-fixing\" eusportsbetting ',\n",
       " 'klaus and farage would not be too happy,but in dubai practically all regional organizations see the eu as an example to follow in many areas',\n",
       " \"remembrance sunday isn't just about wars from decades ago. it is about our servicemen and women's sacrifices today: \",\n",
       " \"it's great “@europeangreens: check out this creative @yesillersol campaign video they just showed us:  greencouncil”\",\n",
       " 'ohne worte \"@2014europarl: lunch between @eppgroup chairman @manfredweber and pm berlusconi (pic via @giovannitoti) ',\n",
       " 'goodmorning europe! join me on friday at 14h with pascal lamy &amp; alain minc on state of the eu  ',\n",
       " '\"national security\" often ground for exceptions to legal principles.but eu commission has no definition of the term @ep_justice debate d66',\n",
       " 'town centre is heaving with ukip supporters in rochester today! ',\n",
       " '2/2 freedom &amp; democracy do not come for granted. never allow europe to be divided again fotw25 @eppgroup',\n",
       " 'labour mp embroiled in ‘blackmail smear’ row  ukip',\n",
       " '25 y after the wall came down, our fight 4 freedom &amp; democracy continues, totalitarian regimes are yet to become extinct fallofthewall25',\n",
       " \"the eu sticks us with a bill. ministers double it, apply the rebate, return to the original figure and claim victory. we're meant to cheer?\",\n",
       " 'catalan polls now open. my journey round polling stations begins. my team will cross catalonia to observe. 9n2014 ',\n",
       " 'wow, survation poll tonight puts ukip on 24% with the tories on 27%. boom',\n",
       " 'interesting discussion on @tv3. my role is now complete. back to brussels. catalonia, good luck with the next steps ',\n",
       " 'the wall street journal (today): \\n\"catalans to defy court on vote\" ',\n",
       " 'ukip\\'s deputy leader @paulnuttallukip on a @bbcln special - \"more power to the north\" at 10.35pm this evening. make sure you tune in! ukip',\n",
       " 'labour will fight street by street, @ed_miliband strong message on how@uklabour will change britain for the better. ',\n",
       " ' @nigel_farage does deal with hitler apologist in brussels then expects to lay wreath in london....i dnt think so.',\n",
       " 'artur mas speaks 9n 9n2014 ',\n",
       " 'list of points of participation worldwide. 9n2014 ',\n",
       " \"the implications of mass migration to uk aren't limited to tax. school places, the nhs, wages, policing and more all affected phonefarage\",\n",
       " '9/11/1989 my hometown gottwaldov (now zlin): europe before the berlinwallfall. grateful for the europe we have now. ',\n",
       " 'presentation ttip negotiations in itre, not very secret, not even a closed room,ttip svpol',\n",
       " 'cameron reiterates he wants to stay in a \"reformed eu\" but can\\'t outline his reforms, much less find anyone in eu who will support him pmqs',\n",
       " 'low-skilled labour?no! in fact, 25% of recent arrivals to the uk have completed a degree compared with 24% of the uk-born workforce',\n",
       " 'french-built mistral ships for russia could end up in canadian hands ',\n",
       " \"i've got an idea to improve thurrock @thurrockpolly \",\n",
       " 'next panel at 21st egp council meeting istanbul we are co-speakers with @indrektarand @davorskrlec @javorbenedek greencouncil @greensep',\n",
       " 'there will now be no commons vote on the european arrest warrant on monday &amp; @yvettecoopermp has written to the home secretary to ask why.',\n",
       " 'amusing that if uk leaves eu other eu-27 will have to pay more, every year, to make up for £20bn uk fees. norway pays nothing for eea access',\n",
       " 'as i have repeatedly pointed out, european migrants to the uk are beneficial. yet another proof: http://  @uclnews',\n",
       " \"i wasn't exaggerating about brussels riots: film footage shown here was near gare midi where our car was surrounded: \",\n",
       " 'from 2001-2011, eu migrants paid £20bn more in taxes than they took out in public spending  ',\n",
       " \"so os has agreed to stick another £850m on next year's deficit to fund the eu and wants us to celebrate...\",\n",
       " 'summing up the debate on eu regional representation @stephengethins @ramontremosa @hansolafhenkel &amp; @markdemesmaeker ',\n",
       " 'i think what the labour party really needs now is an intemperate intervention from neil kinnock...',\n",
       " 'new plans to mix metric and imperial measurements on uk road signs are a recipe for chaos. sign my petition here ',\n",
       " 'there is no political majority to go against vested interests to get away with environmentally harmful subsidies. greenbudgeteurope',\n",
       " 'bulgaria :political stability crucial to reform country &amp; put it back on track. good luck to @boykoborissov @ppgerb, dsb &amp; sds (rb)',\n",
       " 'metric madness - breitbart london profiles my petition against compulsory metric measures on many uk road signs ',\n",
       " 'newsnight really going for the miliband story tonight. the only leader at height of powers, leading a united party, is nigel farage.',\n",
       " 'germany lost 40.000 jobs in solarenergy. nobody cared! we need a strong green progressive industry-lobby now greencouncil eudk',\n",
       " 'please, journalists. how much more evidence do you need that the eu-funded cbi is not the voice of british business? ',\n",
       " 'thank you for the support @veronikakovache , velizara and teodora via @tzvetelina7 - you are all great! ',\n",
       " '\"@kgeorgievaeu: read my speech to @ep_budgcontrol on report by @euauditorseca on eu budget: ',\n",
       " '\"polish shale gas: optimistic prospects for the polish shale programme\" ',\n",
       " 'just said on @bbcnews 24 : govt ignored advice from ons officials in may so they could feign surprise last week about eu budget adjustment',\n",
       " \"'expert' who says mass immigration is great predicted only 13,000 would come from eastern europe. oh dear... \",\n",
       " \"i'm not anti-immigration. i'm for controlled immigration. if foreign educated doctors have quals matching uk standards that's a good thing.\",\n",
       " 'just a small number of the people out campaigning for ukip today in rochester! ',\n",
       " 'great sacrifices were made for us to be a free people. today, as with every day, we will remember them.',\n",
       " 'my statement on georgia: \\n\"epp concerned about european course of georgia\" ',\n",
       " 'celebrating @ep_genderequal 30th anniversary surrounded by great women, chair @iratxegarper and @aldegroup femmteam ',\n",
       " 'joint fight 4 equality with @lgbtiintergroup colleagues @ddjong @ulrikelunacek @danieleviotti @spietikainen @tfajon: ',\n",
       " 'on remembrancesunday we recall all the brave men &amp; women who gave their lives in defence of the freedoms we all cherish today\\nlestweforget',\n",
       " 'eu citizens make positive use of freedom of movement. an asset, not a burden! could we stop exploiting immigration for electoral purposes?',\n",
       " 'ttip itre now ongoing debate on the state of play on ttip with representatives of the ec.',\n",
       " \"debate equal right law in @ep_justice. polish ecr mep ranting against lgbti rights. ecr doesn't understand equality is not a privilige\",\n",
       " \"i love these charts. lexical distance between europe's languages... \",\n",
       " '@ddjong and i did send letter to @federicamog @eu_eeas to highlight importance of freedom of religion or belief eu ',\n",
       " \"now the danish and polish finance ministers, too, say britain's surcharge is unchanged. the insularity of some uk journalists is stunning.\",\n",
       " 'example: safeharbour refers to \"national security\", but what does it mean? ec decides on safeharbour but has no definition of the concept',\n",
       " 'where my poll observation journey began this morning. n92014 n9 ',\n",
       " '\"@greensep: our conference in istanbul on geopolitics and energy transition is underway watch the livestream ',\n",
       " '25 years after fallofthewall in berlin we still have war in europe. the conflict in ukraine continues. todays news from donetsk are tragic',\n",
       " \"more questions raised over the link between u.s. election attack dogs and tory hq's nasty tactics in rochester: \",\n",
       " 'speaking to locals on the isle of grain you soon realise why rochester is turning purple ',\n",
       " 'green levies on your energy bill are set to double by 2020, and treble by 2030:   when will the madness stop?',\n",
       " 'faced with a bad thing, eu supporters claim that an even worse one was in the offing, then invite us to applaud when the bad one happens.',\n",
       " \"george osborne's much trumpeted eubudget victory is is nothing more than smoke and mirrors, see my explanation here \",\n",
       " '@transparencyeu @anagomesmep @jessedrucker to demand the resignation of @junckereu only weakens pressure to take action against tax dumping.',\n",
       " '.@eppgroup stands strong against antisemitism. visit of jewish synagogue rome with rabbi di segni. @antonio_tajani ',\n",
       " \"the bleakest chart you'll see today (if you're british). we now have the worst deficit in the eu. via @frasernelson. \",\n",
       " '\"no country in the world where a woman earns as much as a man\" the global gender report  @theresamep @anneliesedodds',\n",
       " 'now at catalan tv @324cat  @ianduncanmep, president of the european parliament delegation at 9n catalan consultation ',\n",
       " '\"member states can do more to improve how eu funds are spent\" say s&amp;ds @iayalasender @europajens on eubudget report ',\n",
       " 'tour de force by @jude_kd in explaining ttip potential&amp;threats to @yorkshirelabour policyforum w @johnhealey_mp \\n',\n",
       " '.@ramontremosa says language matters. catalan not permitted in ep so he speaks (perfect) english ',\n",
       " \"another big win for nigel farage at pmqs today and he doesn't even have to attend - phenomenally efficient use of time and resources.\",\n",
       " \"@transparencyeu @anagomesmep @jessedrucker we have to end the eu's tax scam not to please us with a victim. @junckereu has to act. now.\",\n",
       " 'greencouncil: exmep @fionahalleu: businesseurope like ostriches putting head in sand on climate change because 1/2 ',\n",
       " '5th polling station of the day n92014 ',\n",
       " \"ukip vote share 20% or more in seven out of 12 lab/con marginals polled by ashcfort. in loads of seats we're now in it to win it.\",\n",
       " \"i support @usdawunion's freedom from fear campaign respect14. rt to show your support for protection of workers bill \",\n",
       " 'fantastic @yorkshirelabour policy forum on ttip with @johnhealey_mp @lindamcavanmep &amp; @rcorbettmep this am in... ',\n",
       " 'on luxleaks : commission should come to ep immediately to explain if these practices are in accordance with eulaw ',\n",
       " 'congrats gop for taking us senate! now, more progress on tpa needed. ttip essential for jobs on both sides of the atlantic. usmidterms',\n",
       " 'the flags are out in barcelona. big weekend ahead. glad to be here in catalonia ',\n",
       " 'now @ianduncanmep at @tv3cat prime time as leader of mep delegation in catalonia @markdemesmaeker @izaskunbilbaob 9n ',\n",
       " 'government opts-out of eu police&amp;justice cooperation, then realises its mistake and wants to opt-back-in to eaw .itsmps revolt. shambles!',\n",
       " 'juncker promised ep to actively combat tax evasion and tax fraud. luxleaks is evasion. greens urge @junckereu to propose legislation now.',\n",
       " '@hennavirkkunen @toyota_europe. we learned a lot at toyota hq last night.exciting times ahead for the car industry &amp; reduction of emissions',\n",
       " 'greencouncil of @europeangreens: welcome @orahrvatske as new member of green family and @sfpolitik as a full member! ',\n",
       " 'congratulations to new bg govt on its election. a strong govt is key to tackling economic &amp; foreign affairs challenges @boykoborissov',\n",
       " '@goettingereu promised to present a draft on copyrightreform in the next six months. time to enter in the debate to be prepared. @senficon',\n",
       " 'thanks to @petitelouvre5 for great chat about time at dra &amp; @standrewsunion gd to see you working for @theresamep ',\n",
       " 'happy national independence day to poland! wishing unity and prosperity @donaldtusk @bienkowskaeu @rozathun @michalboni mypolska',\n",
       " 'sign my petition for an eu action plan against illegal wildlife trade  ',\n",
       " 'here is the raw data that forms the basis for intervention of @leonidobusch at @europarl_en fixcopyright hearing: ',\n",
       " '2/4 @eppgroup wants to put an end to tax injustice. we want new initiatives for more transparency in member states tax regimes luxleaks',\n",
       " 'the failure to offer the commons a vote, &amp; thusly the british public a say on the european arrest warrant, is a farce ',\n",
       " 'if he was pm @ed_miliband says he would never risk british jobs &amp; british prosperity playing political games with eu membership cbi2014',\n",
       " 'labour government would focus on apprenticeships &amp; training for young people &amp; work to ban zero hours contracts @ed_miliband tells cbi2014',\n",
       " 'cultural heritage in a digital europe. important debate on copyright in ep. thanks to @senficon for organizing. ',\n",
       " 'looking forward to good debate @eucarboncapture hearing this pm - key to ne jobs &amp; @tvu_lep is leading the way ',\n",
       " '3/4 member states must make proposals for more fiscal fairness. taxation is competence of the member states luxleaks @eppgroup',\n",
       " 'catalan voters overwhelmingly support breaking away from spain — but vote is called ‘illegal’\\xa0 ',\n",
       " 'theresa may just downgraded tory pledge to cut net-migration to tens of thousands from a promise to a \"comment\"! today',\n",
       " '.@beppe_grillo tells packed brussels meeting that italy should leave the euro. if berlin wall can fall so can euro ',\n",
       " 'colleague @eutheurer @aldegroup proposes ep special committee to investigate tax avoidance, evasion, fraud in eu, following luxleaks',\n",
       " 'the wwi commemorations across the uk &amp; commonwealth today are truly breathtaking. we will forever be in debt to those who gave their lives.',\n",
       " 'meeting greek workers to hear about their working conditions and their fight for more rights. thanks to @kkuneva! ',\n",
       " 'just about to start highlands&amp; islands european partnership video conference @hudghtonmepsnp &amp; i are early birds ',\n",
       " 'hosted today for @aldegroup the social progress index 2014. as @beatrizbecerrab said \"getting beyond gdp to measure... what really matters\"',\n",
       " 'sign here to support my call for an eu action plan against wildlife crime ',\n",
       " 'fantastic closing remarks by @edouardmartineu of @theprogressives on the importance of ccs4growth @eucarboncapture ',\n",
       " \"very honoured to lay the wreath on behalf of @ecrgroup at today's remembrance service in antwerp  lestweforget\",\n",
       " 'fifteen years ago, the cbi was shrilly insisting that it would be a disaster to keep the pound. why do we listen to anything it now says?',\n",
       " 'brilliant words from vaclav klaus saying there were more socialists in the university of california than czechoslovakia in the 80s',\n",
       " '@eppgroup in brussels the proposals of the italian mayors for pattodistabilita with @alesindaco and @comilara ',\n",
       " \"i'm supporting @amnesty campaign to @endfgm_network \",\n",
       " 'the vote tonight... 38 tories opposed... does this mean there are only 38 eurosceptics in the conservative parliamentary party?',\n",
       " 'webacked also because he has the courage to speak out on why eu vital for britain: \\n\\n\\n.',\n",
       " 'great to join @eurolabour team at @euroblind @rnib event blinddate this evening inclusiveeurope ',\n",
       " 'so juncker is trying to dodge tax evasion debate today? meps vote at 3pm to insist he appears. how will irish meps in his epp group vote?',\n",
       " 'theprogressives discuss luxleaks in group meeting - preparation of eplenum this afternoon',\n",
       " 'bxl@epp- the fall of the berlin wall- anniversary in ep.kalniete from latvia is speaking on iron courtain collapse ',\n",
       " \"@nathangillmep i'm off to give a speech in prague to czech freedom &amp; democracy group on friday\",\n",
       " 'mini-plenary in brussels starts with powerful speech from @martinschulz about 25th anniversary of fall of berlin wall ',\n",
       " 'finally using the plenary chamber in brussels rather than the one 350km from our offices in strasbourg moreplease ',\n",
       " \"i'll never understand why principled, anti-corporate leftists are not more upset about the eu racket. \",\n",
       " 'here are ukip activists, standing in the pouring rain outside parliament protesting against the eu arrest warrant: ',\n",
       " '@gonzalofanjul of @isglobalor says many crisis- hit countries cut spending on health after 2009. long term consequences. a2meurope',\n",
       " 'latest @lordashcroft poll says majority of  voters (56%) think ukip “says things that need to be said that other parties are scared to say”',\n",
       " \"meeting with first minister peter robinson earlier to discuss ep resolution i've co-written on northern ireland \",\n",
       " 'i join @amnesty campaign @endfgm_network. we must stop and raise further support to end fgm @aldegroup @europarl_en ',\n",
       " 'conferenza techitaly2014 - boosting european growth through investments in innovation ',\n",
       " '.@anneliesedodds \"we need you to help communicate our message!\" on eu positive contribution to uk @fabianwomen ',\n",
       " 'just hosted very gd hearing on importance of ccs4growth @eucarboncapture @jude_kd @edouardmartineu @theprogressives ',\n",
       " 'seb dance mep and i both get a chance to quiz commissioner canete, responsible for energy and climate change, on... ',\n",
       " \"don't miss live web event 1230uk @nigel_farage @vaclavklaus fall of iron curtain  retweet ukip \",\n",
       " '.@vaclavklaus says the degree of oppression under communism was not understood by the west. it has not gone away. still in the minds of men',\n",
       " 'new trade commissioner confirmed what we knew there will be controversial investor protection ttip clauses-over 850,000 anti-ttip signatures',\n",
       " 'humbling to hear former czech president vaclav klaus speaking at @efdgroup after being welcomed by @nigel_farage ',\n",
       " '@niriada4europe -electrocuted yesterday - hairdryer blew up in her hand - held overnight in hospital - at work today ',\n",
       " 'with @akhanmep, speaking in brussels to pakistani tv in support of peace and human rights in kashmir ',\n",
       " 'second standing room only meeting by ukips efdd group - this time the great vaclav klaus addressing us ',\n",
       " 'nigel farage introducing vaclav klaus, president of czech republic for 10 years, to speak to our group on democracy. ',\n",
       " 'govt opts-out of eu eaw , realises its mistake, wants to opt-back-in , tries2avoid commons vote, own backbenchers in revolt.... shambles!',\n",
       " 'commemorating the 25th anniversary of the fall of the berlinwall @theprogressives fallofthewall25 ',\n",
       " '@vestager there are only 8 (eight!) staff in your dg working on tax based state aid. time to increase the efforts dramatically! luxleaks',\n",
       " 'the european union needs a unified understanding  of what is a work fixcopyright',\n",
       " 'extremely worrying news from @bbcnewsbreak on russian troops entering ukrain via nato',\n",
       " 'in the streets of rochester, the ukip bandwagon etc etc ',\n",
       " 'congrats t. piketty author of capital in 21st century winner of @ft business book 2014. his warnings on dangers of inequality fundamental',\n",
       " '@oflynnmep thanking beppe grillo for giving his people democracy and a say on €uro ',\n",
       " \"today's debate on eu justice powers, highlights mp's contempt for electorate. they ignore @ukip at their peril. history will be their judge.\",\n",
       " 'standing ovation for former pres vaclav klaus, excellent speech',\n",
       " \"great speech @ed_miliband says will work with business to build fairer country but won't play political games with eu membership cbi2014\",\n",
       " \"rofl, cameron's favourite columnist is blaming john bercow for the shambles of the eaw debate \",\n",
       " 'discussion ahead of eu debate on ni with @mikenesbittni @dupleader @manfredweber @dianedoddsmep &amp; @jnicholsonmep ',\n",
       " 'despite me beeing rapporteur on ttip for @ep_justice, i was denied having access to the documents. german television ',\n",
       " 'i join @akhanmep from kashmir mep group to meet lobbyists for peace &amp; human rights in kashmir. @julie4nw @sionsimon ',\n",
       " 'rochester and strood poll (lord ashcroft):\\nukip - 44%\\ncon - 32%\\nlab - 17%\\nldem - 2%',\n",
       " 'incidentally, ucl - which tells us how beneficial eu immigration is - has had €276 million from brussels since 2007. ',\n",
       " 'letter – exposing more of labour’s lies  ukip ',\n",
       " '1/4 discussions on tax deals is no discussion @junckereu, but for all eu member states. luxleaks @eppgroup',\n",
       " '.@vestager welcomes aldegroup proposal for ep special committee on tax avoidance/evasion/fraud as arena for indepth public debate',\n",
       " '.@anneliesedodds calling for tough action on tax avoidance &amp; tax evasion luxleaks @theprogressives @eurolabour ',\n",
       " \"very beautiful wreaths at today's service in antwerp including one brought from scotland by @ianduncanmep \",\n",
       " 'at the parliamentary network on @worldbank &amp; @imfnews in @europarl_en, increased transparency and accountability in development cooperation',\n",
       " '+1 “@helgatruepel: it is a big mistake, that juncker is not ready to express himself in front of ep plenary on luxleaks”',\n",
       " 'meeting @fabianwomen in the european parliament to talk about the labour message and being pro-european @eurolabour ',\n",
       " \"miliband makes his pitch to british business and it turns out there's plenty they might like -  \",\n",
       " '4/4 we fully support @eu_commission in the investigation on tax rulings in several member states luxleaks @eppgroup',\n",
       " 'if eu pnr is really urgent, then member states should get their act together and adopt data protection directive first',\n",
       " 'those taking brussels cash include ngos, charities, green groups, trade unions, councils and, of course, the cbi. ',\n",
       " 'investigate tax avoidance/evasion/fraud not technical matter, but 2b discussed in public hearings in parliament @eutheurer @aldegroup',\n",
       " '\"empirically, the interests of creators and investors are distinct\", says prof. kretschmer. fixcopyright',\n",
       " 'the government adopts another ukip policy: a british sovereign wealth fund based on shale gas: ',\n",
       " 'lot of criticism on @junckereu in green group for not showing up in plenary. but clear that problem is broader. netherlands often mentioned.',\n",
       " 'at 10, watch my event cultural heritage in a digital europe with @weidenholzer!  copyright ',\n",
       " 'nigel farage’s new friend &amp; official ally in europe: ‘when women say no, they don’t always mean it’    via @guardian',\n",
       " '.@vestager ep&amp;ec need to convince member states of need for more common corporate tax legislation in europe. but will not be easy',\n",
       " 'luxleaks alde supports my idea of an econ-special enquiry committee @eu_commission @fdp @junckereu @europarlpress @aldegroup @ep_economics',\n",
       " 'meet the new co-chair of the european parliament platform for secularism in politics eppsp : @vroziere',\n",
       " 'so @ed_miliband has bottled a head-to-head debate with me before the general election campaign... ',\n",
       " \"so the respect party is standing in dudley north looking forward to debating with someone who doesn't try to fake our policies as their own\",\n",
       " 'miliband rejects tv debate with farage - ukip labour ',\n",
       " 'british labour mep @claudemoraesmep speaks eloquently of his support for irish peace process resolution &amp; his experience of working with sf',\n",
       " \"if you want to know what ukip's nhs policy is, best to ask us, rather than the guardian: \",\n",
       " '@mepstandingup4u calls for full implementation of good friday agmt &amp; welcomes yesterdays visit of unionist leaders. ',\n",
       " 'sinn féin meps work as a team. its is crucial that ireland is represented by a strong, committed and hardworking... ',\n",
       " \"the express says we're on the way to a win in rochester but we can't be complacent. all hands to the pump this week. \",\n",
       " 'exi italian minister - eurozone is a shipwreck - like titanic -',\n",
       " \"sir john major: there's 'very real risk of separation' between uk &amp; eu, &amp;\\nchance of brexit 'just under 50%':  agreed!\",\n",
       " 'why conservatives should cheer up! my speech to the wonderful @actoninstitute in grand rapids, michigan. ',\n",
       " 'rt @euobs: \"eu states to be consulted on commission \\'s 2015 programme\"  back to intergovernmentalism? @timmerfrans',\n",
       " 'only a european approach can deliver results. less europe will not enable us to counter fiscal evasion &amp; fraud  luxleaks @lemonde_europe',\n",
       " 'paul nuttall totally nailed juncker on tax haven racket in euparl today. see nearby tories trying not 2 look jealous! ',\n",
       " 'my point of order earlier today. our choice? either vote yes, or abstain. democracy eu-style. ',\n",
       " 'ep cowardly removes \"blasphemous art\" before papal visit ( just like in 1988 (',\n",
       " '.@giannipittella calls for stoptaxdodging, make multinationals not paying full tax unlawful, country by country reporting @theprogressives',\n",
       " \"very enjoyable debate with pupils at rugby high school yesterday with @markpawsey baroness walmsley, and the labour green ppc's for rugby.\",\n",
       " \"farage not even attending debate on luxleaks  - only group leader who can't be bothered to be there!\\n\\nukip\",\n",
       " 'ff dear @simonabonafe member of the long term investment intergroup bureau invest4future ',\n",
       " 'stop mud-slinging, @uklabour. your expensive american election strategist may tell you to, but people want truth: ',\n",
       " 'great to see eofeng council leaders taking control in european parliament! with @64bumble @stayrc @dcbmep ',\n",
       " 'five star movement say end of democracy on dodgy election deals for positions ',\n",
       " 'branding europe with brando! brandingeurope @brandobenifei ',\n",
       " \"'we are the only party that can save nhs', declares ukip's nigel farage (via @daily_express) \",\n",
       " 'brilliant short commercial from business for britain: ',\n",
       " 'just getting a few selfies with supporters after our public meeting in rochester! ',\n",
       " 'in a bit speaking on how to foster europeanidentity through branding&amp;graphic design. brandingeurope @brandobenifei ',\n",
       " \"'we are the only party who can save nhs', declares ukip's nigel farage \",\n",
       " 'the first thing we should do when we leave the eu is offer free trade and free movement to australia and new zealand.',\n",
       " \"red ed can sling all the mud he wants. here are the facts about ukip's nhs policies: \",\n",
       " 'interviewed earlier today on the ni peace process motion to be debated in @europarl_en soon @uuponline @ecrgroup ',\n",
       " \"labour's endless lies about ukip and the nhs are a sign of total and utter desperation: \",\n",
       " 'farage hosted an event here today but skipped debate on luxleaks, @guyverhofstadt missed his expertise on taxevasion ',\n",
       " '25th anniversary of the fall of the berlin wall in european parliament ',\n",
       " 'debate on peace process about to start in eu parliament - joint resolution from 6 groups calls for full implementation of gfa- vote on thurs',\n",
       " 'why not come &amp; work for your meps in brussels paidinternship ',\n",
       " 'us &amp; china create window of opportunity for ambitious goals @ climate summit. eu must play leading role in ambitious climate policy. actnow',\n",
       " 'my @ecrgroup speech questioning @junckereu on luxleaks- full transparent investigation by @vestager required ',\n",
       " \"it's world remembrance day for road victims, this week meps mps &amp; commission will prioritise road  safety @lucyandersonmep @steverotherammp\",\n",
       " '\"we believe in giving powers away,\" says ed miliband. yep. to brussels.',\n",
       " 'am not massively surprised that miliband will not go head to head with nigel farage. i assume he thought he would lose pretty badly.',\n",
       " 'moldova has worked hard for the integration with the eu and is a great example for the rest of the eastern partnership countries. ep dcfta',\n",
       " \"if there is anything where we need more europe above all, it's the issue of taxation, says @guyverhofstadt. luxleaks epplenary\",\n",
       " \"strong beginning of @junckereu's speech to meps in brussels eplenary @europarl_en luxleaks \",\n",
       " 'historian timothy snyder: ukrainian crisis is not about ukraine, it’s about europe - en.delfi ',\n",
       " 'in case you missed it: i was on @lbc this morning, reiterating my challenge to @ed_miliband. debate me by christmas: ',\n",
       " '\"no illegal practice, just differences in tax law.\" @junckereu likes avoiding: taxation and responsibility. luxleaks',\n",
       " '. @junckereu about to give statement on luxleaks. follow livestream at ',\n",
       " \"manfred weber mep: 'this is a problem for luxembourg the state. we trust juncker to address matter'  or he might avoid it... like the tax...\",\n",
       " 'come and have a go, @ed_miliband ',\n",
       " \"a long-serving councillor in yorkshire has been asked to resign as chairman of a school's governing body because he is a member of ukip.\",\n",
       " 'so, in front of @europarl_en @junckereu announces new rules on taxation in the eu. will that be effective or just a show? luxleaks',\n",
       " 'so, what will @junckereu concretely propose on tax harmonisation? actorgo',\n",
       " \"5 star efdd candidate fabio massimo castalda withdrew from election of vice-president of ep because of d'hondt abuse \",\n",
       " 'speaking about the future of digitalrights policy this saturday at orgcon14 @openrightsgroup ',\n",
       " \".@jeppekofod: 8 out of 10 jobs in europe created by smes, who just can't compete vs tncs engaged in aggressive tax avoidance luxleaks\",\n",
       " \"welsh voters are moving towards ukip. we're the only party offering people a real say in decisions that affect them: \",\n",
       " 'no consensus so eu trade ministers steering clear of isds in draft conclusions on ttip negotiations for 21 nov mtg ',\n",
       " 'it was great to speak to so many new ukip supporters and members in rochester tonight ',\n",
       " '.@eu_buster, take a look at my @ecrgroup colleague, @kayswinburnemep, speech calling for an investigation luxleaks ',\n",
       " 'meps supporting today the re-establishment of socialeconomy intergroup at @europarl_en \\nthanks @jensni @eu_social ',\n",
       " '\"ukraine and russia take center stage as leaders gather for g20\" ',\n",
       " 'outrage as argentina milks millions out of uk foreign aid budget (via @daily_express) ',\n",
       " '.@maireadmcgmep has articulated exactly why we must never return to the horrors of the past.',\n",
       " 'we expect juncker to go for clear change to avoid tax evasion, his speech was not committed enough',\n",
       " \"essential: @eu_commission's investigation on tax fraud and tax evasion to be fast-tracked with answers before the end of the year luxleaks\",\n",
       " 'farage hosted an event here today but skipped debate on luxleaks, @verhofstadt missed his expertise on tax evasion ',\n",
       " '@ewrop2014 speaking on behalf of ecr group. \"proper enforcement of existing legislation needed\" ',\n",
       " 'our five star colleagues protest the undemocratic allocation of posts in the european parliament. ',\n",
       " 'active young people can create a snowball effect, empowering more youngsters to embrace the european identity @brandobenifei brandingeurope',\n",
       " \"president martin schulz introduces a new voting procedure in the ep: you can vote yes or abstain, but you can't vote no.\",\n",
       " \"does not appointing a new chief scientist for @eu_commission signal the end of science-based policy making? lets make sure it doesn't!\",\n",
       " '@steven_woolfe @junckereu and then he is trying to numb our minds with monotone waffle',\n",
       " 'my dad is loving the schweinfurt mugs thanks to the wonderful kerstin westphal mep @theprogressives ',\n",
       " 'only ukip voiced concerns about opening door unconditionally to bulgaria &amp; romania on jan 1st, migration up 50,000 ',\n",
       " 'john major: \"there\\'s a 50/50 chance that the uk will leave the eu\". great. let\\'s make it happen!',\n",
       " 'when it was legal, what luxemburg did on tax evasion  the worse for the laws, they have to be changed',\n",
       " 'packed early morning briefing re ttip protection of nhs, public services, standards, rights, etc. uk minister not convincing.',\n",
       " \"i think it is appalling what has happened to cllr mike ward, 71. the school's headteacher owes an explanation: \",\n",
       " 'miliband u-turn: lab calls ukip \"racist\" for speaking out on mass immigration. suddenly, now he says it\\'s not prejudiced to worry about it.',\n",
       " '@junckereu : on all these points we want to act and we will act with ambition and  responsibility @europarl_en',\n",
       " 'european week for employment of disabled people @sylvieguillaume access to &amp; safeguard of employment for disabled people @theprogressives',\n",
       " \"bbc news africa - operation triton: europe's humanitarian border patrol with my comments this morning  \",\n",
       " 'needed: european tax compliance legislation &amp; convergence code to be applied in taxation field - thereby enabling ms to determine the rates',\n",
       " \"come on ed miliband - how about a head to head tv debate with nigel farage?! it could do us *both* good (that's what we told nick clegg ;-0)\",\n",
       " 'passionate speech from @giannipittella to stoptaxfiddling: blacklist fraudsters, introduce country-by-country reporting, act vs tax havens',\n",
       " 'good report: ccs needed for both climate and growth, establishes european parliament event  ',\n",
       " 'today during debate luxleaks, i missed @nigel_farage, expert on tax evasion (read more: ) ---',\n",
       " 'my movember \"bandito\" is taking shape.please can u help men\\'s cancer &amp; mental health awareness\\n ',\n",
       " '\"@uniglobalunion: the world needs a pay rise! l20summit g20brisbane  and europe too! @etuc_ces',\n",
       " 'now live: @junckereu and @pierremoscovici in the european parliament on luxleaks:  ',\n",
       " 'here is @steven_woolfe on how ukip has been proved right in regard to rising migration from romania and bulgaria ',\n",
       " 'very disappointed that@eu_sciencechief position has been scrapped by @junckereu despite his clear commitment to me &amp; @ecrgroup to retain it',\n",
       " 'as @david_cameron arrives in australia, the oz spectator ponders how our relations might improve following brexit: ',\n",
       " 'our efdd group has tabled a motion of censure in the ep calling for the resignation of jean claude juncker over the luxembourg tax scandal.',\n",
       " 'simple but essential principle enshrined in eu treaties: personal data belongs to citizens not to companies 6eis @ep_justice',\n",
       " 'velvetrevolution: this peaceful transition from dictatorship to flourishing democracy 25 years ago is still is an example for world today',\n",
       " 'two visitors meet nigel farage:  (and write up their experience afterwards).',\n",
       " 'fm of ukraine klimkin answering questions at the european parliament &gt;&gt;&gt; trying to find light in a black tunnel ',\n",
       " 'cameron to announce £600 million foreign aid \"to fight climate change\". how many votes will that be worth in rochester?',\n",
       " \"here we go again. mr cameron is marching off around the world with the british taxpayers' hard-earned cash: \",\n",
       " 'nobel prize winner medicine -how our brain works. scientists &amp; politicians &amp; truth.. brainlecture2014 @paulruebig ',\n",
       " 'an enjoyable reminder from dan hannan about those who would have had us in the euro (emf applied to emu!) ',\n",
       " \"mr cameron warns if ukip wins rochester, we'll celebrate with a pint in a pub. as if that's a bad thing?  outoftouch\",\n",
       " 'spoke to irish journalists in brussels today &amp; gave them plenty of copy but .@shonamurraynt was not paying attention. ',\n",
       " '120 countries pledge action against poaching in boost to campaign with sunday mirror/born free  ',\n",
       " '2/2 we are curious to see whether @greensep @ecrgroup will vote together with the far right in @europarl_en',\n",
       " \"today's eu council conclusions on ukraine\\n \",\n",
       " 'governance of food chain vital for equitable access to food says un special rapporteur whosgotthepower @c_stihler_mep @traidcraft',\n",
       " \"peter kellner on ukip's dramatic success at making inroads into the labour vote \",\n",
       " 'inspiring meeting with the creator of the worldwideweb @timberners_lee. @vickyford @europarl_en @digitalagendaeu ',\n",
       " 'snp supporters keep proving the everything-before-the-but-is-bullshit hermeneutic rule: \"of course we accept the referendum result, but...\"',\n",
       " 'thanks to olivier de schutter, former un rapporteur on the right to food whosgotthepower',\n",
       " 'the same as their clacton campaign, tories are now briefing that house prices in rochester will fall if ukip is elected. desperate times...',\n",
       " 'whosgotthepower :voluntary initiatives on unfair trade not enough says eu commission @c_stihler_mep @fairtradeuk',\n",
       " 'co-hosting and speaking at \"disrupt europe\" event this evening. @eyif @euromentors disrupteuropeyear startup innovaton',\n",
       " 'good blog today on @eurolabour position on ttip from @rcorbettmep: red lines on ttip ',\n",
       " \"gosh, i don't think i have never been accused of being too left-wing before! all relative, i suppose.\",\n",
       " 'labour candidate wants woman born to immigrants deported for disagreeing with her policy. will the media cover this? ',\n",
       " 'the hectoring tone in which net beneficiaries of the eu budget berate net contributors is starting to grate.',\n",
       " 'great grandson of labour co founder stands for ukip ',\n",
       " 'tory mps travelling to rochester en masse.. but only staying for 57mins. what disdain they treat voters with... ',\n",
       " 'excellent article by @jude_kd on ttip- if only the uk coalition government had her clarity! cf ',\n",
       " 'just sat through a three hour econ committee with mario draghi, have i missed anything? :-)',\n",
       " \"rachel reeves thinks the labour party can change all the rules of the european union. you can't, ms. reeves: \",\n",
       " \"there's never been a better time to join the people's army. come and sign up today:  ukip\",\n",
       " '@ukip is the only party holding the eu commission to account! we are the eu rebels with a cause!  ',\n",
       " \"we won't abandon @victor_ponta. premier and new president must cooperate for the romanian people's sake.\",\n",
       " 'all companies playing on our ground must comply with our rules 6eis eudatap',\n",
       " 'good to see a vivid civil society in georgia waking up against soft neo-sovietism in their country &amp; demonstrating in tbilisi',\n",
       " 'full house at disrupteuropeyear @eyif. my intervention coming up in a bit. enterpreneurship digital startups ',\n",
       " 'delighted to host in parliament @merseysidelab @wirralynglabour @akhanmep @julie4nw @labournorthwest @theprogressives ',\n",
       " \"uk meps at today's meeting with @timberners_lee @ashleyfoxmep @timkirkhopemep @dcbmep @c_stihler_mep \",\n",
       " \"at 10h30 press conference on alde 's european investment and recovery act --live tweet via @aldegroup alde4growth \",\n",
       " 'labour pfi is crippling nhs - ',\n",
       " 'council could not agree any position on eubudget. conciliation between parliament and council failed. commission needs to draft new budget.',\n",
       " 'pablo iglesias anti- austerity podemos party could form govt if ge held in spain tomorrow only started 8 months ago - ',\n",
       " 'exciting event in @europarl on @enalgae_nwe with @whebgroup great to support welsh biotech innovation ',\n",
       " 'preparing eu investment &amp; growth pack. together wth @jyrkikatainen at epp chairmen summit reform2grow @eppgroup ',\n",
       " 'in ep itre cttee, horizon 2020 emergency e24m allocated for ebola vaccination research @lindamcavanmep @eurolabour @jude_kd @claremoodymep',\n",
       " 'you can watch my appearance on bbcdp earlier today here: ',\n",
       " '@europarl_en - innovative summit: data are gathering not for having those, but for making  services much more efficient and personalized!',\n",
       " '1/2 vote on motion of censure on the @eu_commission prob. next thursday in @europarl_en. teamjunckereu has full support of @eppgroup',\n",
       " '\"britain is granting citizenship to more migrants than any other eu country\" according to new stats  ',\n",
       " 'i want to salute the people in czech slovakia to have lived up to their ambitions- they must take pride in their enormous achievements',\n",
       " '@sunshinejoanie thank you, joanie. and fully agree: \"may czech leaders do the same.\" ',\n",
       " '\"poroshenko: ukraine ready for full-scale war scenario with russia\" ',\n",
       " 'foreign affairs committe of ep just voted in favour of ratification of association of georgia with eu &gt; see results &gt; ',\n",
       " 'my report on eu competition well received in econ. highlights mayor priorities in coming years. thanks to  @ramontremosa and other shadows',\n",
       " 'propaganda by c flanagan.  😡 \"the “vast majority” of anti-water charges protesters are “led by forces who have no regard for democracy”,',\n",
       " \"data is the currency of the digital market. but like any currency, it relies on trust. let's restore it by finalising eudatap reform 6eis\",\n",
       " \"another super response in rochester &amp; strood for @markreckless.  lovely people walking up with good wishes. i've never seen anything like it\",\n",
       " 'welcome back @renateweber, romanian liberal mep who has rejoined the @aldegroup bringing us back to 68 meps',\n",
       " \"@guyverhofstadt thank you for your support! we're honoured to have witnessed this peaceful transition. may there be more velvetrevolution s\",\n",
       " \"what else could we spend that £650m on? halt borrowing? pay debt? stop army cuts? veterans' dept? ukip won't give your money away.\",\n",
       " 'no digital continent without single eudatap law. @eu_commission and ep2014 have done their work. @eucouncil must act without delay! 6eis',\n",
       " 'tomorrow, when eu foreign affairs ministers meet, a new course and base for dealing with russia must be found @federicamog',\n",
       " 'some amusing anti-ukip efforts in the sunday papers today. i especially enjoyed the conceptual approach of vincent moss in the sunday mirror',\n",
       " 'great to team up with @steverotherammp to campaign against qatar labour abuses thx too @theresamep @callaghan2015 ',\n",
       " 'tomorrow 11am press conference at ep on google antitrust case by @ramontremosa &amp; @andreas_schwab competition ',\n",
       " '@sergicorbalan great to be whosgotthepower with @maireadmcgmep @paulbrannenne @lindamcavanmep',\n",
       " \"juncker macron says 30bn of 'real money' not enough. so far only real thing we have is 30bn of eu debt @eurobriefing \",\n",
       " 'during @aldegroup meeting today, i stressed my support &amp; confidence in @jeanarthuis in conducting budget negotiations with the @eccouncil',\n",
       " 'voters would have a bit more respect for labour\\'s immigration policy if it started with \"sorry\".',\n",
       " 'labour promised not to impose tuition fees.  now they promise to control immigration.  you can only judge a horse by its form.',\n",
       " 'tory mp tells the express: \"we ran a spiteful, negative campaign against mark [reckless] which has not worked\" &gt;&gt; ',\n",
       " 'a roundtable with experts from westernbalkans on media freedom in the region organized by my colleague @tfajon ',\n",
       " 'eu member states should not water down netneutrality as voted in ep, tell your government or representative now! ',\n",
       " \"'25 years ago i created the web, because i could, i needed it &amp; was frustrated it didn't exist': sir tim berners lee \",\n",
       " 'i demand ian austin mp sets a date to face me in public debate to justify his stealing ukip immigration policy + lying about our nhs policy',\n",
       " 'the catalan question: europe and the right to choose:  via @youtube',\n",
       " \"it's time to tell the truth about ukip and the nhs. enough of the mud-slinging. \",\n",
       " \"discussing  refit attacks on workers' rights at traden union coordination meeting ep. @a_jongerius @juttasteinruck \",\n",
       " 'euro network for rural development briefing  keep leader in the community!  @damoquigg @colmcarthy @mepstandingup4u ',\n",
       " 'labour have been getting in a twist all day about migration! first they attack us - now they try to emulate us! @ukip ',\n",
       " 'we need proper investigation into juncker tax allegations not ukip opportunistic grandstanding, i tell @bbcnews ',\n",
       " 'great intervention from @theresagriffinmep on need to join up r&amp;d spending with good job creation, esp youth jobs ',\n",
       " '@evapaunova i hope we will have many common meetings and actions:)',\n",
       " 'independent foreign aid assessors just 2 wks ago said uk aid funding bribery &amp; corruption. so mr cameron cuts another £650m cheque today...',\n",
       " 'italy should leave the euro by referendum @beppe_grillo leader of our eurorealist partners in eu @5stelleeuropa ',\n",
       " '.@theprogressives conference on: ttip &amp; consumers starting in 3 min, webstream:  debatettip ',\n",
       " 'the sick abuse of girls and women by is should be protested much more outspokenly ',\n",
       " 'a motion of censure against @eu_commission would weaken both the commission and the eu as a whole. @eppgroup will not let this happen',\n",
       " '.@berndlange concludes debatettip \"@theprogressives don\\'t want isds in ttip. commission should recognise it.\" ',\n",
       " 'even after it was seriously watered down, senate republicans block landmark nsa surveillance reform bill ',\n",
       " 'breaking: efdd motion of censure to sack @junckereu commission to be debated by @europarl_en  @ukip peoplesarmy',\n",
       " 'delighted that manchester unites to condemn homophobic tram attack @lgbtlabournw @labournorthwest @mcrlabour ',\n",
       " \"now labour claims it'll restrict migrants' benefits, which is illegal, so long as we are part of the european union. deceit or ignorance?\",\n",
       " 'ms sturgeon urges voters to destroy labour in scotland by voting snp but says she will help labour into govt in england - hypocrite?? snp',\n",
       " '.@connemarafarmer @lukeming @mattcarthy just a section of crowd at hill meeting in maam cross. ',\n",
       " 'visiting altec with @tpicula @constanzekrehl @derekvaughan second day in piedmont with s&amp;d mep in regi comm ',\n",
       " 'my ttip discussion doc launch 11am, 1st dec, ep dublin office. speakers: @lnbdublin @toibin1 &amp; @jhilary ',\n",
       " 'pure and simple - if you are here legally you will be allowed to stay!  ',\n",
       " '\"eu set to approve historic deal to cut plastic bag use\" dkpol eudk ',\n",
       " \"spent morning in omagh with @mepstandingup4u &amp; @patdohertymp talking to cross border bodies.n leitrim all a'noon engaging on local/eu issues\",\n",
       " \"@goettingereu today @cdu meeting: 'google will see next year what happens if you don't stick to european rules' @eppgroup @ramontremosa\",\n",
       " '@lukeming @simoncoveney ming you heard commission say collective contracts are an option not a requirement. loud &amp; clear ms have flexibility',\n",
       " 'rigavery good @eppgroup meeting on growth with @manfredweber @jyrkikatainen @vdombrovskis @krisjaniskarins @grossetetef @egardini @comilara',\n",
       " 'incredibly positive vibe in rochester today for polling day for @markreckless - looking good! ',\n",
       " 'report on my eu-regional govt event - ',\n",
       " 'opening of @eppgroup meeting in riga. discussing our way to jobs &amp; growth with pm @straujuma @kalniete reform2grow ',\n",
       " '\"in other parties, differences, diversity are a problem. in our party, it is our strength\" @xavier_bettel aldecongress',\n",
       " 'tories still making personal and snide attacks on mark reckless on social media. he has withstood it all with dignity and grace. impressive.',\n",
       " \"spain's public prosecutor has just filed charges against catalan presidentmas &amp; other cabinet ministers for allowing the 9n indy vote.\",\n",
       " \".@douglascarswell in commons debating europeanarrestwarrant. ukip 100% attendance. shame other parties didn't show. \",\n",
       " \"'britain is full - shut the door': meltdown at no10 summit  via @mailonline\",\n",
       " 'i hope to speak shortly in @epsocialaffairs ctte on supported employment for people with disabilities. watch live: ',\n",
       " 'abbey court primary school polling station is bustling this morning. the school does great work helping disabled kids ',\n",
       " 'slovakia is planning to hold 3 referendums on anti-lgbti laws; @miriamdalli &amp; i say 3nos @rainbowrose_pes ',\n",
       " '\"what a ukrainian financial meltdown might look like an how  it can still be prevented\" &gt;&gt;&gt; by anders aslund  ',\n",
       " 'new yougov poll has ukip second ahead of labour: ',\n",
       " 'last meeting in piemonte with president  @sergiochiampa and s&amp;d mep @constanzekrehl @tpicula @derekvaughan ',\n",
       " 'ukip education spokesman paul nuttall mep has expressed backing for students who are protesting today in london: ',\n",
       " \"@valentineukip @paulnuttallukip i've been called many things but posh isn't one of them\",\n",
       " 'proudly hosting @constanzekrehl @tpicula @derekvaughan in piemonte at altec headquarters ',\n",
       " 'letter to @martinschulz on papalvisit to ep together with eppsp co-chair @vroziere:  secularism',\n",
       " 'ukip canvassers also confirm it is the disenchanted working class former lab voters who are backing us in huge numbers bluecollarkippers',\n",
       " 'going to riga for @eppgroup bureau with @manfredweber @jyrkikatainen @krisjaniskarins @egardini @pablozalba',\n",
       " \"thanks to @juliegirling for chairing today's airq14 discussion on necd \",\n",
       " 'reuters 600 are rescued by italian coastguard off sicily &amp; 270 syrian refugees off cyprus last night, 30 children - where are the other  ms?',\n",
       " 'lively debate on motion of censure on juncker this eve...grim to hear ukip jeering as pitella calls for eu to act on jobs &amp; tax justice',\n",
       " '@jleichtfried: \"if we don\\'t find the answers soon, it might be too late!\" my democracy matters - how to protect it? ',\n",
       " 'moderating a debate on cultural education as a catalyst for social &amp; eco development @2014europarl @theprogressives ',\n",
       " 'tories support labour motion on the european arrest warrant, handing more uk powers away. passed by 421 votes to 29 votetorygetlabour',\n",
       " \"congratulations to @markreckless and the people of rochesterandstrood. ukip will fight hard for you and as mark said... you're his bosses!\",\n",
       " \"what is labour's emily thornberry trying to imply about rochesterandstrood? i suspect she's let miliband's mask slip \",\n",
       " '@ukip leads the pack on migration - the tories are huffing &amp; puffing behind in last place... tory policy = shambolic ',\n",
       " 'quite sensible of george osborne to drop his legal challenge against the eu... we always seem to lose anyway. betteroffout rochester',\n",
       " '\"finally they are outing their hidden relationship\" @guyverhofstadt @aldegroup on le pen-farage joint campaign against eu commission',\n",
       " \"how i wish it were april 1st. but it's not. it's just another day in the eu's britain: \",\n",
       " 'thank you again to the people of rochesterandstrood. now to make a difference in westminster... ',\n",
       " \"@ukipromsey @billdudleynorth  i'm a ukip supporter.  and i even read polly toynbee.  but not often.\",\n",
       " '“@rickytrips: a big thank you to @paulruebig &amp; @seankellymep for attending @ebc_smes breakfast this morning builders4growth”. v worthwhile.',\n",
       " \"voters have been out in force today, opting for votemarkreckless and the people's army in rochesterandstrood ukip \",\n",
       " \"join us at today's @pes_pse public debate at 2pm 'my democracy matters. how to protect it?' in vienna  democracy\",\n",
       " 'questions about ttip? find answers here:  thanks to @jude_kd @eurolabour',\n",
       " \"@europarl_en-weber's strong speech on europe:why those extremists are not the new europe,they are the old europe- no vision for the future!\",\n",
       " \"government have heard; they just haven't listened - time to drive message home irishwater watercharges \",\n",
       " 'the radical tradition in britain is alive and well in ukip from levellers to chartists to suffragettes  says @markreckless',\n",
       " 'ambition is needed to guide europe out of the crisis &amp; make european growth a reality. more on alde4growth via ',\n",
       " 'great news: coreper (council) has confirmed deal on plasticbags.',\n",
       " \"erdogans' views on women from the stone age. sadly there are plenty more cavemen like him, political and religious leaders.\",\n",
       " 'senior religious figures to speak at youth radicalisation conference on 5th december  @sundersays',\n",
       " \"great buzz about the ukip hq while the tory shop looked rather flat and understaffed. let's hope that's an omen for polling day.\",\n",
       " 'with @sanchezcastejon @sergio_gp and @sergeistanishev talking about the challenges of the european socialdemocracy ',\n",
       " \"with @margotljparker in rochester today.  busiest ukip shop i've been in \",\n",
       " 'good to hear concrete ccs case studies from france, norway &amp; uk in @gasnaturally event this am with @evakaili ',\n",
       " 'thanks @scotlandeuropa for a great event @davidmartinmep @hudghtonmepsnp ',\n",
       " 'european parliament report- i slam \"least generous in eu\" uk govt for cutting in half job help to disabled people. ',\n",
       " '\"liberals do not fear change\" @xavier_bettel aldecongress',\n",
       " ...]"
      ]
     },
     "execution_count": 14,
     "metadata": {},
     "output_type": "execute_result"
    }
   ],
   "source": [
    "text_clean"
   ]
  },
  {
   "cell_type": "markdown",
   "metadata": {},
   "source": [
    "Add the text in a new column"
   ]
  },
  {
   "cell_type": "code",
   "execution_count": 7,
   "metadata": {},
   "outputs": [
    {
     "name": "stderr",
     "output_type": "stream",
     "text": [
      "C:\\Users\\sofia\\Anaconda3\\lib\\site-packages\\ipykernel_launcher.py:1: SettingWithCopyWarning: \n",
      "A value is trying to be set on a copy of a slice from a DataFrame.\n",
      "Try using .loc[row_indexer,col_indexer] = value instead\n",
      "\n",
      "See the caveats in the documentation: http://pandas.pydata.org/pandas-docs/stable/indexing.html#indexing-view-versus-copy\n",
      "  \"\"\"Entry point for launching an IPython kernel.\n"
     ]
    }
   ],
   "source": [
    "dfen[\"text\"] = just_text\n",
    "dfen = dfen.dropna(subset=[\"text\"], axis = 0)"
   ]
  },
  {
   "cell_type": "markdown",
   "metadata": {},
   "source": [
    "Group by MEP member and keep those who have over 50 tweets"
   ]
  },
  {
   "cell_type": "code",
   "execution_count": 8,
   "metadata": {},
   "outputs": [],
   "source": [
    "grouped = dfen.groupby([\"origMepGroupShort\"])[\"origMepName\", \"origUserId\"].count()\n",
    "filtered = grouped[grouped[\"origUserId\"]>=50].reset_index()"
   ]
  },
  {
   "cell_type": "code",
   "execution_count": 9,
   "metadata": {},
   "outputs": [
    {
     "data": {
      "text/plain": [
       "(10107, 22)"
      ]
     },
     "execution_count": 9,
     "metadata": {},
     "output_type": "execute_result"
    }
   ],
   "source": [
    "dffinal = dfen[dfen[\"origMepGroupShort\"].isin(filtered[\"origMepGroupShort\"])]\n",
    "dffinal.shape"
   ]
  },
  {
   "cell_type": "markdown",
   "metadata": {},
   "source": [
    "## Clustering"
   ]
  },
  {
   "cell_type": "markdown",
   "metadata": {},
   "source": [
    "Imports for the clustering section"
   ]
  },
  {
   "cell_type": "code",
   "execution_count": 11,
   "metadata": {},
   "outputs": [],
   "source": [
    "import re\n",
    "from sklearn.feature_extraction.text import CountVectorizer\n",
    "from yellowbrick.cluster import KElbowVisualizer\n",
    "from sklearn.cluster import KMeans\n",
    "from yellowbrick.cluster import SilhouetteVisualizer\n",
    "import matplotlib.pyplot as plt\n",
    "from yellowbrick.cluster import InterclusterDistance"
   ]
  },
  {
   "cell_type": "markdown",
   "metadata": {},
   "source": [
    "First some text transformations\n",
    "* Convert to lowercase\n",
    "* Remove urls from text"
   ]
  },
  {
   "cell_type": "code",
   "execution_count": 12,
   "metadata": {},
   "outputs": [],
   "source": [
    "text_clean = []\n",
    "\n",
    "#get the text into a list from dataframe\n",
    "text = dffinal[\"text\"].tolist()\n",
    "\n",
    "for t in text:\n",
    "    #use regular exression to strip url\n",
    "    text_clean.append(re.sub(r'https?://\\S+', '', t.replace(\"#\", \"\")).lower())"
   ]
  },
  {
   "cell_type": "markdown",
   "metadata": {},
   "source": [
    "Create and fit Vectorzer"
   ]
  },
  {
   "cell_type": "code",
   "execution_count": 20,
   "metadata": {},
   "outputs": [
    {
     "data": {
      "text/plain": [
       "CountVectorizer(analyzer='word', binary=False, decode_error='strict',\n",
       "                dtype=<class 'numpy.int64'>, encoding='utf-8', input='content',\n",
       "                lowercase=True, max_df=0.5, max_features=None, min_df=10,\n",
       "                ngram_range=(1, 1), preprocessor=None, stop_words='english',\n",
       "                strip_accents='unicode', token_pattern='(?u)\\\\b\\\\w\\\\w+\\\\b',\n",
       "                tokenizer=None, vocabulary=None)"
      ]
     },
     "execution_count": 20,
     "metadata": {},
     "output_type": "execute_result"
    }
   ],
   "source": [
    "vectorizer = CountVectorizer(strip_accents=\"unicode\", stop_words='english', max_df=0.5, min_df=10)\n",
    "vectorizer"
   ]
  },
  {
   "cell_type": "code",
   "execution_count": 21,
   "metadata": {},
   "outputs": [
    {
     "data": {
      "text/plain": [
       "<10107x1948 sparse matrix of type '<class 'numpy.int64'>'\n",
       "\twith 71936 stored elements in Compressed Sparse Row format>"
      ]
     },
     "execution_count": 21,
     "metadata": {},
     "output_type": "execute_result"
    }
   ],
   "source": [
    "matrix = vectorizer.fit_transform(text_clean)\n",
    "matrix"
   ]
  },
  {
   "cell_type": "markdown",
   "metadata": {},
   "source": [
    "Investigate for optimal number of clusters.\n",
    "* Elbow method\n",
    "* Silhouette score method"
   ]
  },
  {
   "cell_type": "code",
   "execution_count": 22,
   "metadata": {},
   "outputs": [
    {
     "data": {
      "image/png": "[encoded data removed]",
      "text/plain": [
       "<Figure size 432x288 with 2 Axes>"
      ]
     },
     "metadata": {},
     "output_type": "display_data"
    },
    {
     "data": {
      "text/plain": [
       "<matplotlib.axes._subplots.AxesSubplot at 0x2725e230f98>"
      ]
     },
     "execution_count": 22,
     "metadata": {},
     "output_type": "execute_result"
    }
   ],
   "source": [
    "kmeans = KMeans(random_state=0)\n",
    "visualizer = KElbowVisualizer(kmeans, k=(2, 11))\n",
    "\n",
    "visualizer.fit(matrix)\n",
    "visualizer.show()"
   ]
  },
  {
   "cell_type": "code",
   "execution_count": 23,
   "metadata": {},
   "outputs": [
    {
     "data": {
      "image/png": "[encoded data removed]",
      "text/plain": [
       "<Figure size 720x2880 with 8 Axes>"
      ]
     },
     "metadata": {
      "needs_background": "light"
     },
     "output_type": "display_data"
    }
   ],
   "source": [
    "plt.figure(figsize=(2 * 5,  10 * 4))\n",
    "\n",
    "scores = {}\n",
    "for n_clusters in range(2, 10):\n",
    "    plt.subplot(10, 2, n_clusters - 1)\n",
    "    kmeans = KMeans(n_clusters, random_state=42)\n",
    "    visualizer = SilhouetteVisualizer(kmeans, colors='yellowbrick')\n",
    "    visualizer.fit(matrix)\n",
    "    scores[n_clusters] = visualizer.silhouette_score_\n",
    "    plt.title(f'clusters: {n_clusters} score: {visualizer.silhouette_score_}')"
   ]
  },
  {
   "cell_type": "code",
   "execution_count": 24,
   "metadata": {},
   "outputs": [
    {
     "data": {
      "text/plain": [
       "KMeans(algorithm='auto', copy_x=True, init='k-means++', max_iter=300,\n",
       "       n_clusters=6, n_init=10, n_jobs=None, precompute_distances='auto',\n",
       "       random_state=None, tol=0.0001, verbose=0)"
      ]
     },
     "execution_count": 24,
     "metadata": {},
     "output_type": "execute_result"
    }
   ],
   "source": [
    "number_of_clusters=6\n",
    "km = KMeans(n_clusters = number_of_clusters)\n",
    "km.fit(matrix)"
   ]
  },
  {
   "cell_type": "code",
   "execution_count": 25,
   "metadata": {},
   "outputs": [
    {
     "name": "stdout",
     "output_type": "stream",
     "text": [
      "Top terms per cluster:\n",
      "Cluster 0: digital thanks market single great today work good europe europarl_en big michalboni discussion debate agenda\n",
      "Cluster 1: meeting amp eppgroup today eu public good great ep european group europarl_en tonight migration epp\n",
      "Cluster 2: amp eu eppgroup europe today meps need good european ttip people uk ep vote support\n",
      "Cluster 3: eu uk leave cameron referendum today need britain vote meps people membership support european just\n",
      "Cluster 4: european today europe eppgroup ep people ttip great parliament vote good new greece europarl_en support\n",
      "Cluster 5: ukip vote labour today party nhs people amp immigration policy just uk lab debate mep\n"
     ]
    }
   ],
   "source": [
    "print(\"Top terms per cluster:\")\n",
    "order_centroids = km.cluster_centers_.argsort()[:, ::-1]\n",
    "terms = vectorizer.get_feature_names()\n",
    "for i in range(number_of_clusters):\n",
    "    top_ten_words = [terms[ind] for ind in order_centroids[i, :15]]\n",
    "    print(\"Cluster {}: {}\".format(i, ' '.join(top_ten_words)))"
   ]
  },
  {
   "cell_type": "markdown",
   "metadata": {},
   "source": [
    "Although elbow diagram shows that the optimal number of clusters is 3, in the silhouette diagram we see that when choosing 3 clusters, we end up with disproportionate clusters. Also, in the second cluster there are a lot of words that are included in the cluster but should not have. By eliminating 2 and 3 clusters, the next best number is 6 based on silhouette score. There is still the large cluster but the rest are a lot more uniform.\n",
    "\n",
    "Now for the meaning of the clusters:\n",
    "\n",
    "\n",
    "Cluster 0: migration eu amp policy net ukip crisis europe need eppgroup>> Conservative or right parties involved\n",
    "\n",
    "\n",
    "Cluster 1: today europe eppgroup ep great people good ttip vote new\n",
    "\n",
    "\n",
    "Cluster 2: ukip vote labour today eu party nhs people amp immigration\n",
    "\n",
    "\n",
    "Cluster 3: european parliament amp eu union gt just debate today eppgroup>>Related to votings or speeches in the parliament \n",
    "\n",
    "\n",
    "Cluster 4: eu uk leave cameron today referendum need britain vote meps >> Brexit related words\n",
    "\n",
    "\n",
    "Cluster 5: amp eu eppgroup today good meps europe ttip need meeting\n"
   ]
  },
  {
   "cell_type": "code",
   "execution_count": 26,
   "metadata": {},
   "outputs": [
    {
     "data": {
      "image/png": "[encoded data removed]",
      "text/plain": [
       "<Figure size 720x720 with 2 Axes>"
      ]
     },
     "metadata": {
      "needs_background": "light"
     },
     "output_type": "display_data"
    },
    {
     "data": {
      "text/plain": [
       "<matplotlib.axes._subplots.AxesSubplot at 0x2725efe7c18>"
      ]
     },
     "execution_count": 26,
     "metadata": {},
     "output_type": "execute_result"
    }
   ],
   "source": [
    "plt.figure(figsize=(10,10))\n",
    "\n",
    "visualizer = InterclusterDistance(km)\n",
    "\n",
    "visualizer.fit(matrix)\n",
    "visualizer.show()"
   ]
  },
  {
   "cell_type": "markdown",
   "metadata": {},
   "source": [
    "#### Classification"
   ]
  },
  {
   "cell_type": "markdown",
   "metadata": {},
   "source": [
    "Imports for Classification section"
   ]
  },
  {
   "cell_type": "code",
   "execution_count": 27,
   "metadata": {},
   "outputs": [],
   "source": [
    "from sklearn.model_selection import train_test_split\n",
    "from sklearn.pipeline import Pipeline\n",
    "from sklearn.feature_extraction.text import TfidfTransformer\n",
    "from sklearn.model_selection import GridSearchCV\n",
    "from sklearn.naive_bayes import MultinomialNB\n",
    "from sklearn import metrics\n",
    "from sklearn.linear_model import SGDClassifier\n",
    "from sklearn.dummy import DummyClassifier"
   ]
  },
  {
   "cell_type": "markdown",
   "metadata": {},
   "source": [
    "Target variable y for our models will be the id of the Mep Group.\n",
    "Training features x will de the tweet texts."
   ]
  },
  {
   "cell_type": "code",
   "execution_count": 28,
   "metadata": {},
   "outputs": [],
   "source": [
    "for i in range(0, len(text_clean)):\n",
    "    text_clean[i] = re.sub(r'\\b\\w{1,7}\\b', '', text_clean[i])"
   ]
  },
  {
   "cell_type": "code",
   "execution_count": 29,
   "metadata": {},
   "outputs": [],
   "source": [
    "y = dffinal.origMepGroupId\n",
    "x = text_clean"
   ]
  },
  {
   "cell_type": "markdown",
   "metadata": {},
   "source": [
    "Split bag of words and y varible to train (70%) and test(30%) sets"
   ]
  },
  {
   "cell_type": "code",
   "execution_count": 30,
   "metadata": {},
   "outputs": [],
   "source": [
    "x_train, x_test, y_train, y_test = train_test_split(x, y, test_size = 0.3, random_state = 0)"
   ]
  },
  {
   "cell_type": "markdown",
   "metadata": {},
   "source": [
    "* Classification with Multinomial NB"
   ]
  },
  {
   "cell_type": "markdown",
   "metadata": {},
   "source": [
    "Setting different parameters to be checked"
   ]
  },
  {
   "cell_type": "code",
   "execution_count": 31,
   "metadata": {},
   "outputs": [],
   "source": [
    "parameters = {'vect__min_df': [0, 0.001, 0.02],\n",
    "              'vect__max_df': [0.4, 0.5, 0.6],\n",
    "              'vect__token_pattern':['(?u)\\\\b\\\\w\\\\w+\\\\b','(?u)\\\\b\\\\w\\\\w\\\\w+\\\\b'],\n",
    "              'tfidf__use_idf': (True, False),\n",
    "              'clf__alpha': (0.05, 0.1, 0.15, 0.2)\n",
    "             }"
   ]
  },
  {
   "cell_type": "markdown",
   "metadata": {},
   "source": [
    "Pipeline"
   ]
  },
  {
   "cell_type": "code",
   "execution_count": 32,
   "metadata": {},
   "outputs": [],
   "source": [
    "text_clf = Pipeline([('vect', CountVectorizer(strip_accents=\"unicode\", stop_words='english')),\n",
    "                    ('tfidf', TfidfTransformer()),\n",
    "                    ('clf', MultinomialNB()),\n",
    "                    ])"
   ]
  },
  {
   "cell_type": "markdown",
   "metadata": {},
   "source": [
    "Grid search between parameters"
   ]
  },
  {
   "cell_type": "code",
   "execution_count": 33,
   "metadata": {},
   "outputs": [
    {
     "data": {
      "text/plain": [
       "{'clf__alpha': 0.05,\n",
       " 'tfidf__use_idf': True,\n",
       " 'vect__max_df': 0.4,\n",
       " 'vect__min_df': 0.02,\n",
       " 'vect__token_pattern': '(?u)\\\\b\\\\w\\\\w+\\\\b'}"
      ]
     },
     "execution_count": 33,
     "metadata": {},
     "output_type": "execute_result"
    }
   ],
   "source": [
    "gs_clf = GridSearchCV(text_clf, parameters, n_jobs=-1, cv=5)\n",
    "gs_clf = gs_clf.fit(x_train, y_train)\n",
    "gs_clf_best = gs_clf.best_estimator_\n",
    "gs_clf.best_params_"
   ]
  },
  {
   "cell_type": "code",
   "execution_count": 34,
   "metadata": {},
   "outputs": [
    {
     "data": {
      "text/plain": [
       "Pipeline(memory=None,\n",
       "         steps=[('vect',\n",
       "                 CountVectorizer(analyzer='word', binary=False,\n",
       "                                 decode_error='strict',\n",
       "                                 dtype=<class 'numpy.int64'>, encoding='utf-8',\n",
       "                                 input='content', lowercase=True, max_df=0.4,\n",
       "                                 max_features=None, min_df=0.02,\n",
       "                                 ngram_range=(1, 1), preprocessor=None,\n",
       "                                 stop_words='english', strip_accents='unicode',\n",
       "                                 token_pattern='(?u)\\\\b\\\\w\\\\w+\\\\b',\n",
       "                                 tokenizer=None, vocabulary=None)),\n",
       "                ('tfidf',\n",
       "                 TfidfTransformer(norm='l2', smooth_idf=True,\n",
       "                                  sublinear_tf=False, use_idf=True)),\n",
       "                ('clf',\n",
       "                 MultinomialNB(alpha=0.05, class_prior=None, fit_prior=True))],\n",
       "         verbose=False)"
      ]
     },
     "execution_count": 34,
     "metadata": {},
     "output_type": "execute_result"
    }
   ],
   "source": [
    "gs_clf_best.fit(x_train, y_train)"
   ]
  },
  {
   "cell_type": "code",
   "execution_count": 36,
   "metadata": {},
   "outputs": [
    {
     "name": "stdout",
     "output_type": "stream",
     "text": [
      "              precision    recall  f1-score   support\n",
      "\n",
      "           0       0.00      0.00      0.00        75\n",
      "           1       0.23      0.04      0.07       689\n",
      "           2       0.00      0.00      0.00       292\n",
      "           3       0.00      0.00      0.00       430\n",
      "           4       0.00      0.00      0.00       484\n",
      "           5       0.00      0.00      0.00       293\n",
      "           6       0.25      0.96      0.40       770\n",
      "\n",
      "    accuracy                           0.25      3033\n",
      "   macro avg       0.07      0.14      0.07      3033\n",
      "weighted avg       0.12      0.25      0.12      3033\n",
      "\n"
     ]
    }
   ],
   "source": [
    "predicted = gs_clf_best.predict(x_test)\n",
    "\n",
    "print(metrics.classification_report(y_test, predicted))"
   ]
  },
  {
   "cell_type": "markdown",
   "metadata": {},
   "source": [
    "* Classification with SGV"
   ]
  },
  {
   "cell_type": "markdown",
   "metadata": {},
   "source": [
    "Setting different parameters to be checked"
   ]
  },
  {
   "cell_type": "code",
   "execution_count": 37,
   "metadata": {},
   "outputs": [],
   "source": [
    "parameters = {'vect__min_df': [5, 10, 15],\n",
    "              'vect__max_df': [0.25, 0.5, 0.75],\n",
    "              'tfidf__use_idf': (True, False),\n",
    "              'clf__alpha': (0.001, 0.003, 0.006),\n",
    "             }"
   ]
  },
  {
   "cell_type": "markdown",
   "metadata": {},
   "source": [
    "Pipeline"
   ]
  },
  {
   "cell_type": "code",
   "execution_count": 38,
   "metadata": {},
   "outputs": [],
   "source": [
    "text_clf_1 = Pipeline([('vect', CountVectorizer(strip_accents=\"unicode\", stop_words='english')),\n",
    "                    ('tfidf', TfidfTransformer()),\n",
    "                    ('clf', SGDClassifier(loss='hinge',  penalty='l2', random_state=42)),\n",
    "                    ])"
   ]
  },
  {
   "cell_type": "markdown",
   "metadata": {},
   "source": [
    "Grid search between parameters"
   ]
  },
  {
   "cell_type": "code",
   "execution_count": 39,
   "metadata": {},
   "outputs": [
    {
     "data": {
      "text/plain": [
       "{'clf__alpha': 0.001,\n",
       " 'tfidf__use_idf': True,\n",
       " 'vect__max_df': 0.25,\n",
       " 'vect__min_df': 15}"
      ]
     },
     "execution_count": 39,
     "metadata": {},
     "output_type": "execute_result"
    }
   ],
   "source": [
    "gs_clf_1 = GridSearchCV(text_clf, parameters, n_jobs=-1, cv=5)\n",
    "gs_clf_1 = gs_clf_1.fit(x_train, y_train)\n",
    "gs_clf_best_1 = gs_clf_1.best_estimator_\n",
    "gs_clf_1.best_params_"
   ]
  },
  {
   "cell_type": "code",
   "execution_count": 40,
   "metadata": {},
   "outputs": [
    {
     "name": "stdout",
     "output_type": "stream",
     "text": [
      "              precision    recall  f1-score   support\n",
      "\n",
      "           0       0.00      0.00      0.00        75\n",
      "           1       0.25      0.32      0.28       689\n",
      "           2       0.04      0.00      0.01       292\n",
      "           3       0.13      0.03      0.04       430\n",
      "           4       0.16      0.04      0.07       484\n",
      "           5       0.16      0.01      0.03       293\n",
      "           6       0.28      0.67      0.39       770\n",
      "\n",
      "    accuracy                           0.26      3033\n",
      "   macro avg       0.14      0.15      0.12      3033\n",
      "weighted avg       0.19      0.26      0.18      3033\n",
      "\n"
     ]
    }
   ],
   "source": [
    "gs_clf_best_1.fit(x_train, y_train)\n",
    "predicted_1 = gs_clf_best_1.predict(x_test)\n",
    "\n",
    "print(metrics.classification_report(y_test, predicted_1))"
   ]
  },
  {
   "cell_type": "markdown",
   "metadata": {},
   "source": [
    "Trying the Dummy Classifier. As per expected score is too low, with 25% accuracy"
   ]
  },
  {
   "cell_type": "code",
   "execution_count": 41,
   "metadata": {},
   "outputs": [
    {
     "data": {
      "text/plain": [
       "0.25387405209363667"
      ]
     },
     "execution_count": 41,
     "metadata": {},
     "output_type": "execute_result"
    }
   ],
   "source": [
    "dummy_clf = DummyClassifier(strategy=\"most_frequent\")\n",
    "dummy_clf.fit(x_train, y_train)\n",
    "dummy_clf.score(x_test, y_test)"
   ]
  }
 ],
 "metadata": {
  "kernelspec": {
   "display_name": "Python 3",
   "language": "python",
   "name": "python3"
  },
  "language_info": {
   "codemirror_mode": {
    "name": "ipython",
    "version": 3
   },
   "file_extension": ".py",
   "mimetype": "text/x-python",
   "name": "python",
   "nbconvert_exporter": "python",
   "pygments_lexer": "ipython3",
   "version": "3.7.1"
  }
 },
 "nbformat": 4,
 "nbformat_minor": 2
}
