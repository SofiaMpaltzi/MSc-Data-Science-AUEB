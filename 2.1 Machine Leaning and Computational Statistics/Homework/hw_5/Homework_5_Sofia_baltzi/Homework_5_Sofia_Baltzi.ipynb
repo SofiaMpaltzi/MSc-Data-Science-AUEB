{
 "cells": [
  {
   "cell_type": "markdown",
   "metadata": {},
   "source": [
    "## Homework 5\n",
    "### Exercise 4"
   ]
  },
  {
   "cell_type": "markdown",
   "metadata": {},
   "source": [
    "First the imports..."
   ]
  },
  {
   "cell_type": "code",
   "execution_count": 1,
   "metadata": {},
   "outputs": [],
   "source": [
    "import scipy.io as sio\n",
    "import numpy as np\n",
    "import matplotlib.pyplot as plt\n",
    "from sklearn.metrics import mean_squared_error"
   ]
  },
  {
   "cell_type": "markdown",
   "metadata": {},
   "source": [
    "Loading the data from .mat file\n",
    "\n",
    "* t is for $θ$: temperature\n",
    "* R is for resistance"
   ]
  },
  {
   "cell_type": "code",
   "execution_count": 2,
   "metadata": {},
   "outputs": [],
   "source": [
    "data = sio.loadmat(\"HW5.mat\")\n",
    "Data = data[\"Data\"]\n",
    "Data_test = data[\"Data_test\"]"
   ]
  },
  {
   "cell_type": "code",
   "execution_count": 3,
   "metadata": {},
   "outputs": [],
   "source": [
    "t = [d[0] for d in Data]\n",
    "R = [d[1] for d in Data]\n",
    "t_test = [d[0] for d in Data_test]\n",
    "R_test = [d[1] for d in Data_test]"
   ]
  },
  {
   "cell_type": "markdown",
   "metadata": {},
   "source": [
    "Compute means of variables and the covariance matrix"
   ]
  },
  {
   "cell_type": "code",
   "execution_count": 4,
   "metadata": {},
   "outputs": [],
   "source": [
    "#mean temperature\n",
    "mean_t = np.mean(t)\n",
    "#mean Resistance\n",
    "mean_R = np.mean(R)\n",
    "#mean matrix of mean t and mean R\n",
    "m = np.array([mean_t, mean_R]).reshape(2,1)\n",
    "\n",
    "#covariance matrix Σ\n",
    "sigma = 0\n",
    "for n in range(len(Data)):\n",
    "    sigma+=((m-Data[n].reshape(2,1)).dot((m-Data[n].reshape(2,1)).transpose()))/len(Data)"
   ]
  },
  {
   "cell_type": "code",
   "execution_count": 5,
   "metadata": {},
   "outputs": [
    {
     "name": "stdout",
     "output_type": "stream",
     "text": [
      "Mean matrix is:\n",
      " [20.0016] \n",
      " [26.9967]\n",
      "Covariance matrix is:\n",
      " [300.9644 105.3611] \n",
      " [105.3611  36.8875]\n"
     ]
    }
   ],
   "source": [
    "print(\"Mean matrix is:\\n\", m[0].round(4), \"\\n\",  m[1].round(4))\n",
    "print(\"Covariance matrix is:\\n\", sigma[0].round(4), \"\\n\",  sigma[1].round(4))"
   ]
  },
  {
   "cell_type": "markdown",
   "metadata": {},
   "source": [
    "Assuming that $t$ and $R$ are jointly distributed according to the normal distribution $p(t, R) = N(μ,Σ)$ and knowing the mean and covariance matrices of $t$, $R$; we can easily compute $E[R|t]$:\n",
    "\n",
    "$E[R|t]=μ_R +α \\frac{σ_R}{σ_t}(t-μ_t)$, where $α=\\frac{σ_{tR}}{σ_tσ_R}$\n",
    "\n",
    "$α \\frac{σ_R}{σ_t}=\\frac{σ_{tR}}{σ_tσ_R}\\frac{σ_R}{σ_t}=\\frac{σ_{tR}}{{σ_t}^2}=\\frac{105.3611}{300.9644}=0.35$\n",
    "\n",
    "Thus, $R = f(θ) = E[R|t]=26.9967+0.35(t-20.0016)$"
   ]
  },
  {
   "cell_type": "markdown",
   "metadata": {},
   "source": [
    "Now, to test the performance of our regressor:"
   ]
  },
  {
   "cell_type": "code",
   "execution_count": 6,
   "metadata": {},
   "outputs": [],
   "source": [
    "#estimations of R based on the model we came up with\n",
    "R_est = [26.9967+0.35*(t-20.0016) for t in t_test]"
   ]
  },
  {
   "cell_type": "code",
   "execution_count": 7,
   "metadata": {},
   "outputs": [
    {
     "data": {
      "text/plain": [
       "'MSE: 0.000015'"
      ]
     },
     "execution_count": 7,
     "metadata": {},
     "output_type": "execute_result"
    }
   ],
   "source": [
    "#computation of mse between the ral and the estimated values of R\n",
    "mse = mean_squared_error(R_est, R_test)\n",
    "\"MSE: {:f}\".format(mse)"
   ]
  },
  {
   "cell_type": "code",
   "execution_count": 8,
   "metadata": {},
   "outputs": [
    {
     "data": {
      "image/png": "[encoded data removed]",
      "text/plain": [
       "<Figure size 432x288 with 1 Axes>"
      ]
     },
     "metadata": {
      "needs_background": "light"
     },
     "output_type": "display_data"
    }
   ],
   "source": [
    "fig = plt.figure()\n",
    "ax  = fig.add_subplot(111)\n",
    "\n",
    "ax.plot(t_test, R_est,\n",
    "        label = \"Estimation of R\",\n",
    "        linewidth = 7.0)\n",
    "ax.plot(t_test, R_test,\n",
    "        label = \"Real R\",\n",
    "        linewidth = 4.0)\n",
    "leg = plt.legend()\n",
    "plt.show()"
   ]
  },
  {
   "cell_type": "markdown",
   "metadata": {},
   "source": [
    "As we can see, both real and estimated values of R lie on the same line. Thus, the hypothesis that the joint pdf is normal seems to be valid.\n",
    "Also, mse's value is low."
   ]
  },
  {
   "cell_type": "code",
   "execution_count": null,
   "metadata": {},
   "outputs": [],
   "source": []
  }
 ],
 "metadata": {
  "kernelspec": {
   "display_name": "Python 3",
   "language": "python",
   "name": "python3"
  },
  "language_info": {
   "codemirror_mode": {
    "name": "ipython",
    "version": 3
   },
   "file_extension": ".py",
   "mimetype": "text/x-python",
   "name": "python",
   "nbconvert_exporter": "python",
   "pygments_lexer": "ipython3",
   "version": "3.7.1"
  }
 },
 "nbformat": 4,
 "nbformat_minor": 2
}
