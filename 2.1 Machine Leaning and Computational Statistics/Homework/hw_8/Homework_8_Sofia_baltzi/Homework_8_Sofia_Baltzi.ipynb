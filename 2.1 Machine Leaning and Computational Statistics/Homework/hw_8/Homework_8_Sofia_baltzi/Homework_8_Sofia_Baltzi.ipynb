{
 "cells": [
  {
   "cell_type": "markdown",
   "metadata": {},
   "source": [
    "### Homework 8\n",
    "#### Exercise 2"
   ]
  },
  {
   "cell_type": "code",
   "execution_count": 6,
   "metadata": {},
   "outputs": [],
   "source": [
    "import numpy as np\n",
    "import matplotlib.pyplot as plt\n",
    "import scipy.io as sio\n",
    "from scipy.stats import multivariate_normal, norm\n",
    "from numpy import matlib"
   ]
  },
  {
   "cell_type": "code",
   "execution_count": 9,
   "metadata": {},
   "outputs": [],
   "source": [
    "z = np.arange(-10,10)\n",
    "a =[0,0.1,1,2,1000]"
   ]
  },
  {
   "cell_type": "code",
   "execution_count": 11,
   "metadata": {},
   "outputs": [
    {
     "data": {
      "image/png": "[encoded data removed]",
      "text/plain": [
       "<Figure size 432x288 with 1 Axes>"
      ]
     },
     "metadata": {
      "needs_background": "light"
     },
     "output_type": "display_data"
    }
   ],
   "source": [
    "fig = plt.figure()\n",
    "sp = [231,232,233,234,235,236]\n",
    "for i in range(5):\n",
    "    #plt.subplot(sp[i])\n",
    "    plt.plot(z, 1/(1+ np.exp(-a[i]*z)), label = \"a = %s\"%a[i])\n",
    "    plt.legend()\n",
    "plt.show()"
   ]
  },
  {
   "cell_type": "markdown",
   "metadata": {},
   "source": [
    "#### Exercise 4"
   ]
  },
  {
   "cell_type": "markdown",
   "metadata": {},
   "source": [
    "Import data. Then calculate probabilities for each class."
   ]
  },
  {
   "cell_type": "code",
   "execution_count": 4,
   "metadata": {},
   "outputs": [],
   "source": [
    "Dataset = sio.loadmat('HW8.mat')\n",
    "train_x = Dataset['train_x']\n",
    "train_y= Dataset['train_y']\n",
    "\n",
    "test_x = Dataset['test_x']\n",
    "test_y = Dataset['test_y']"
   ]
  },
  {
   "cell_type": "code",
   "execution_count": 5,
   "metadata": {},
   "outputs": [],
   "source": [
    "#positions of class 1 and 2 as T/F\n",
    "indx = []\n",
    "indx.append((train_y==1).reshape(len(train_y)))\n",
    "indx.append((train_y==2).reshape(len(train_y)))"
   ]
  },
  {
   "cell_type": "code",
   "execution_count": 6,
   "metadata": {},
   "outputs": [
    {
     "name": "stdout",
     "output_type": "stream",
     "text": [
      "P1= 0.50, P2= 0.50 \n",
      "Therefore classes are equiprobable.\n"
     ]
    }
   ],
   "source": [
    "#calculate probabiblities\n",
    "n_i = np.append(np.count_nonzero(indx[0]), np.count_nonzero(indx[1]))\n",
    "n = np.sum(n_i)\n",
    "\n",
    "p = np.append(n_i[0]/n, n_i[1]/n)\n",
    "\n",
    "print(\"P1= %.2f, P2= %.2f \\nTherefore classes are equiprobable.\"%(p[0], p[1]))"
   ]
  },
  {
   "cell_type": "code",
   "execution_count": 7,
   "metadata": {},
   "outputs": [],
   "source": [
    "def error(pred, true):\n",
    "    sum = 0\n",
    "    for i in range(200):\n",
    "        if pred[i] != true[i]:\n",
    "            sum+=1\n",
    "    return(sum/len(test_x))"
   ]
  },
  {
   "cell_type": "markdown",
   "metadata": {},
   "source": [
    "(a) Bayesian classifier"
   ]
  },
  {
   "cell_type": "code",
   "execution_count": 8,
   "metadata": {},
   "outputs": [],
   "source": [
    "#calculations of mean and covariance matrices\n",
    "m = []\n",
    "s = []\n",
    "\n",
    "for i in range(2):\n",
    "    m.append(np.mean(train_x[indx[i],:],0))\n",
    "    s.append(1/n_i[i]*((train_x[indx[i],:] - np.matlib.repmat(m[i],n_i[i],1)).T).dot((train_x[indx[i],:] - np.matlib.repmat(m[i],n_i[i],1))))\n"
   ]
  },
  {
   "cell_type": "code",
   "execution_count": 9,
   "metadata": {},
   "outputs": [],
   "source": [
    "#scores calculation\n",
    "scores = []\n",
    "\n",
    "for i in range(2):\n",
    "    scores.append(multivariate_normal(m[i],s[i]).pdf(test_x)*p[i])"
   ]
  },
  {
   "cell_type": "code",
   "execution_count": 10,
   "metadata": {},
   "outputs": [],
   "source": [
    "#classify x_test based on calssifier\n",
    "Btest_y = np.zeros((n,1))\n",
    "for i in range(n):\n",
    "    if scores[0][i]>scores[1][i]:\n",
    "        Btest_y[i] = 1\n",
    "    else:\n",
    "        Btest_y[i] = 2"
   ]
  },
  {
   "cell_type": "code",
   "execution_count": 11,
   "metadata": {},
   "outputs": [
    {
     "name": "stdout",
     "output_type": "stream",
     "text": [
      "Error of Bayesian classifier is 0.15\n"
     ]
    }
   ],
   "source": [
    "eb = error(Btest_y, test_y)\n",
    "print(\"Error of Bayesian classifier is %.2f\"%eb)"
   ]
  },
  {
   "cell_type": "markdown",
   "metadata": {},
   "source": [
    "(b) Naive Bayes"
   ]
  },
  {
   "cell_type": "code",
   "execution_count": 12,
   "metadata": {},
   "outputs": [],
   "source": [
    "from sklearn.naive_bayes import GaussianNB\n",
    "\n",
    "model = GaussianNB()\n",
    "\n",
    "# Train\n",
    "model.fit(train_x, train_y.ravel())\n",
    "\n",
    "#Predict\n",
    "Btest_y = model.predict(test_x)"
   ]
  },
  {
   "cell_type": "code",
   "execution_count": 13,
   "metadata": {},
   "outputs": [
    {
     "name": "stdout",
     "output_type": "stream",
     "text": [
      "Error of Bayesian classifier is 0.165\n"
     ]
    }
   ],
   "source": [
    "enb = error(Btest_y, test_y)\n",
    "print(\"Error of Bayesian classifier is %.3f\"%enb)"
   ]
  },
  {
   "cell_type": "markdown",
   "metadata": {},
   "source": [
    "(c) K-NN"
   ]
  },
  {
   "cell_type": "code",
   "execution_count": 14,
   "metadata": {},
   "outputs": [],
   "source": [
    "from sklearn.neighbors import KNeighborsClassifier\n",
    "\n",
    "model = KNeighborsClassifier(n_neighbors = 5)\n",
    "\n",
    "#Train\n",
    "model.fit(train_x, train_y.ravel())\n",
    "\n",
    "#Predict\n",
    "Btest_y = model.predict(test_x).reshape(len(test_x),1)"
   ]
  },
  {
   "cell_type": "code",
   "execution_count": 15,
   "metadata": {},
   "outputs": [
    {
     "name": "stdout",
     "output_type": "stream",
     "text": [
      "Error of KNN classifier is 0.17\n"
     ]
    }
   ],
   "source": [
    "eknn = error(Btest_y, test_y)\n",
    "print(\"Error of KNN classifier is %.2f\"%eknn)"
   ]
  },
  {
   "cell_type": "markdown",
   "metadata": {},
   "source": [
    "(d) Logistic regression"
   ]
  },
  {
   "cell_type": "code",
   "execution_count": 16,
   "metadata": {},
   "outputs": [],
   "source": [
    "from sklearn.linear_model import LogisticRegression\n",
    "\n",
    "model = LogisticRegression(random_state = 0, solver = \"lbfgs\")\n",
    "\n",
    "#Train\n",
    "model.fit(train_x, train_y.ravel())\n",
    "\n",
    "#Predict\n",
    "Btest_y = model.predict(test_x).reshape(len(test_x),1)"
   ]
  },
  {
   "cell_type": "code",
   "execution_count": 17,
   "metadata": {},
   "outputs": [
    {
     "name": "stdout",
     "output_type": "stream",
     "text": [
      "Error of Logistic Regression classifier is 0.155\n"
     ]
    }
   ],
   "source": [
    "elr = error(Btest_y, test_y)\n",
    "print(\"Error of Logistic Regression classifier is %.3f\"%elr)"
   ]
  },
  {
   "cell_type": "markdown",
   "metadata": {},
   "source": [
    "(e) Depict graphically training set"
   ]
  },
  {
   "cell_type": "code",
   "execution_count": 18,
   "metadata": {},
   "outputs": [
    {
     "data": {
      "image/png": "[encoded data removed]",
      "text/plain": [
       "<Figure size 432x288 with 1 Axes>"
      ]
     },
     "metadata": {
      "needs_background": "light"
     },
     "output_type": "display_data"
    }
   ],
   "source": [
    "plt.plot(train_x[indx[0],0],train_x[indx[0],1],'*',label='class 1')\n",
    "plt.plot(train_x[indx[1],0],train_x[indx[1],1],'o',label='class 2')\n",
    "plt.title('Training set')\n",
    "plt.legend()\n",
    "plt.show()"
   ]
  },
  {
   "cell_type": "markdown",
   "metadata": {},
   "source": [
    "(f) Comment on results"
   ]
  },
  {
   "cell_type": "code",
   "execution_count": 20,
   "metadata": {},
   "outputs": [
    {
     "name": "stdout",
     "output_type": "stream",
     "text": [
      "Errors\n",
      "-Bayes: 0.15\n",
      "-Naive Bayes: 0.165\n",
      "-K-NN: 0.17\n",
      "-Logistic regression:  0.155\n"
     ]
    }
   ],
   "source": [
    "print(\"Errors\")\n",
    "print(\"-Bayes:\", eb)\n",
    "print(\"-Naive Bayes:\", enb)\n",
    "print(\"-K-NN:\", eknn)\n",
    "print(\"-Logistic regression: \", elr)"
   ]
  },
  {
   "cell_type": "markdown",
   "metadata": {},
   "source": [
    "By looking at the errors we can see that the Bayes classifier gives the best results. Thus the Naive Bayes' assumption about the independance between the features is wrong. Although it is wrong, the results obtained by Naive Bayes are only slightly worse than Bayes'. Since Logistic Regression's results lay close to Bayes' we could say that the assumption of linearly seperable classes of Logistic Regression seems to be valid."
   ]
  },
  {
   "cell_type": "code",
   "execution_count": null,
   "metadata": {},
   "outputs": [],
   "source": []
  }
 ],
 "metadata": {
  "kernelspec": {
   "display_name": "Python 3",
   "language": "python",
   "name": "python3"
  },
  "language_info": {
   "codemirror_mode": {
    "name": "ipython",
    "version": 3
   },
   "file_extension": ".py",
   "mimetype": "text/x-python",
   "name": "python",
   "nbconvert_exporter": "python",
   "pygments_lexer": "ipython3",
   "version": "3.7.1"
  }
 },
 "nbformat": 4,
 "nbformat_minor": 2
}
