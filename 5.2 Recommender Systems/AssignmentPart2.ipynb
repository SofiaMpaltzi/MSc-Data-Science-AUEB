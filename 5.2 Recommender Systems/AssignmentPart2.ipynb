{
 "cells": [
  {
   "cell_type": "markdown",
   "metadata": {},
   "source": [
    "# Recommender Systems\n",
    "## Project Part 2 - Federated Learning\n",
    "#### Library imports"
   ]
  },
  {
   "cell_type": "code",
   "execution_count": 1,
   "metadata": {},
   "outputs": [],
   "source": [
    "import pandas as pd\n",
    "import numpy as np\n",
    "import os\n",
    "import matplotlib.pyplot as plt\n",
    "\n",
    "from math import log2\n",
    "from scipy.sparse import csr_matrix\n",
    "from itertools import combinations\n",
    "from sklearn.feature_extraction.text import CountVectorizer, TfidfVectorizer\n",
    "from sklearn.cluster import MiniBatchKMeans\n",
    "from collections import Counter\n",
    "from sklearn.model_selection import train_test_split\n",
    "from tabulate import tabulate\n",
    "from sklearn.metrics import mean_squared_error\n",
    "from sklearn.metrics import accuracy_score\n",
    "\n",
    "project_path = r'C:\\Users\\Owner\\Desktop\\Msc Data Science\\Recommender Systems\\Project\\BX-CSV-Dump'\n",
    "np.set_printoptions(suppress=True)"
   ]
  },
  {
   "cell_type": "markdown",
   "metadata": {},
   "source": [
    "### 1. Data Import/Exploration\n",
    "* import `BX-Books.csv` dataset with book titles and general information\n",
    "* import `BX-Book-Ratings.csv` dataset with book information\n",
    "* import `BX-Users.csv` dataset with user information\n",
    "* create dictionaries that map `user` and `book` ids with proper index ids\n",
    "* create `numpy` matrix with ratings using index-valued ids\n",
    "* divide ratings by `10` for scaling"
   ]
  },
  {
   "cell_type": "code",
   "execution_count": 2,
   "metadata": {},
   "outputs": [
    {
     "name": "stderr",
     "output_type": "stream",
     "text": [
      "b'Skipping line 6452: expected 8 fields, saw 9\\nSkipping line 43667: expected 8 fields, saw 10\\nSkipping line 51751: expected 8 fields, saw 9\\nSkipping line 92038: expected 8 fields, saw 9\\nSkipping line 104319: expected 8 fields, saw 9\\nSkipping line 121768: expected 8 fields, saw 9\\nSkipping line 144058: expected 8 fields, saw 9\\nSkipping line 150789: expected 8 fields, saw 9\\nSkipping line 157128: expected 8 fields, saw 9\\nSkipping line 180189: expected 8 fields, saw 9\\nSkipping line 185738: expected 8 fields, saw 9\\nSkipping line 209388: expected 8 fields, saw 9\\nSkipping line 220626: expected 8 fields, saw 9\\nSkipping line 227933: expected 8 fields, saw 11\\nSkipping line 228957: expected 8 fields, saw 10\\nSkipping line 245933: expected 8 fields, saw 9\\nSkipping line 251296: expected 8 fields, saw 9\\nSkipping line 259941: expected 8 fields, saw 9\\nSkipping line 261529: expected 8 fields, saw 9\\n'\n"
     ]
    },
    {
     "name": "stdout",
     "output_type": "stream",
     "text": [
      "             Book-Title           Book-Author Year-Of-Publication                Publisher\n",
      "0   Classical Mythology    Mark P. O. Morford                2002  Oxford University Press\n",
      "1          Clara Callan  Richard Bruce Wright                2001    HarperFlamingo Canada\n",
      "2  Decision in Normandy          Carlo D'Este                1991          HarperPerennial\n",
      "\n",
      "Number of books:271360\n"
     ]
    }
   ],
   "source": [
    "# function to print dataframes\n",
    "def pprint_df(dframe):\n",
    "    print (tabulate(dframe, headers='keys', tablefmt='psql', showindex=False))\n",
    "    \n",
    "books = pd.read_csv(os.path.join(project_path, 'BX-Books.csv'), \n",
    "                    delimiter=';',\n",
    "                    encoding='latin-1',\n",
    "                    low_memory=False,\n",
    "                    error_bad_lines=False\n",
    ")\n",
    "with pd.option_context('expand_frame_repr', False):\n",
    "    print(books.iloc[0:3,1:5])\n",
    "print('\\nNumber of books:'+str(len(books)))"
   ]
  },
  {
   "cell_type": "code",
   "execution_count": 3,
   "metadata": {},
   "outputs": [
    {
     "name": "stdout",
     "output_type": "stream",
     "text": [
      "+-----------+------------------------------------+-------+\n",
      "|   User-ID | Location                           |   Age |\n",
      "|-----------+------------------------------------+-------|\n",
      "|         1 | nyc, new york, usa                 |   nan |\n",
      "|         2 | stockton, california, usa          |    18 |\n",
      "|         3 | moscow, yukon territory, russia    |   nan |\n",
      "|         4 | porto, v.n.gaia, portugal          |    17 |\n",
      "|         5 | farnborough, hants, united kingdom |   nan |\n",
      "+-----------+------------------------------------+-------+\n",
      "None\n",
      "\n",
      "Distinct users:278858\n"
     ]
    }
   ],
   "source": [
    "users = pd.read_csv(os.path.join(project_path, 'BX-Users.csv'), \n",
    "                    delimiter=';',\n",
    "                    encoding='ISO-8859–1'             \n",
    ")\n",
    "print(pprint_df(users.head(5)))\n",
    "print('\\nDistinct users:'+str(len(users)))"
   ]
  },
  {
   "cell_type": "code",
   "execution_count": 33,
   "metadata": {
    "scrolled": false
   },
   "outputs": [
    {
     "name": "stdout",
     "output_type": "stream",
     "text": [
      "-------------------------------------------------\n",
      "Original ratings sample: \n",
      "   User-ID        ISBN  Book-Rating\n",
      "0   276725  034545104X            0\n",
      "1   276726  0155061224            5\n",
      "2   276727  0446520802            0\n",
      "3   276729  052165615X            3\n",
      "4   276729  0521795028            6\n",
      "-------------------------------------------------\n",
      "\n",
      "Unique users: 105283\n",
      "Unique books: 340556\n",
      "Total number of ratings:  1149780\n",
      "\n",
      "Transformed dataset sample: \n",
      "[[0.  0.  0. ]\n",
      " [1.  1.  0.5]\n",
      " [2.  2.  0. ]\n",
      " [3.  3.  0.3]\n",
      " [3.  4.  0.6]]\n"
     ]
    },
    {
     "data": {
      "image/png": "[encoded data removed]",
      "text/plain": [
       "<Figure size 864x360 with 1 Axes>"
      ]
     },
     "metadata": {
      "needs_background": "light"
     },
     "output_type": "display_data"
    }
   ],
   "source": [
    "# import dataset\n",
    "ratings = pd.read_csv(os.path.join(project_path, 'BX-Book-Ratings.csv'), \n",
    "                        delimiter=';',\n",
    "                        encoding='ISO-8859–1'             \n",
    ")\n",
    "print('-------------------------------------------------')\n",
    "print('Original ratings sample: ')\n",
    "print(ratings.head(5))\n",
    "\n",
    "# histogram:\n",
    "fig = plt.figure(figsize=(12,5))\n",
    "ax = fig.add_subplot(1,1,1)\n",
    "ax.hist(ratings['Book-Rating'])\n",
    "ax.title.set_text('Ratings histogram')\n",
    "\n",
    "# create dictionaries with id mappings\n",
    "n_users = ratings['User-ID'].nunique()\n",
    "n_books = ratings['ISBN'].nunique()\n",
    "\n",
    "unique_user_ids = ratings['User-ID'].unique()\n",
    "user_dict = dict(zip(unique_user_ids,np.arange(n_users)))\n",
    "user_dict_inv = dict(zip(np.arange(n_users),unique_user_ids))\n",
    "\n",
    "unique_book_isbns = ratings['ISBN'].unique()\n",
    "books_dict = dict(zip(unique_book_isbns,np.arange(n_books)))\n",
    "books_dict_inv = dict(zip(np.arange(n_books),unique_book_isbns))\n",
    "\n",
    "# create clean matrix with \n",
    "ratings['ISBN'] = ratings['ISBN'].map(books_dict).fillna(ratings['ISBN'])\n",
    "ratings['User-ID'] = ratings['User-ID'].map(user_dict).fillna(ratings['User-ID']) \n",
    "ratings['Book-Rating'] = ratings['Book-Rating'].div(10)\n",
    "ratings_df = ratings.copy(deep=True)\n",
    "ratings = ratings.to_numpy(copy=True)\n",
    "print('-------------------------------------------------')\n",
    "print('\\nUnique users: '+str(n_users))\n",
    "print('Unique books: '+str(n_books))\n",
    "print('Total number of ratings: ',len(ratings_df))\n",
    "print('\\nTransformed dataset sample: ')\n",
    "print(ratings[:5])"
   ]
  },
  {
   "cell_type": "markdown",
   "metadata": {},
   "source": [
    "* split dataset into training and test set"
   ]
  },
  {
   "cell_type": "code",
   "execution_count": 5,
   "metadata": {},
   "outputs": [
    {
     "name": "stdout",
     "output_type": "stream",
     "text": [
      "Train_ratings set:\n",
      "\n",
      "[[ 51525.  20888.      0.]\n",
      " [ 81139. 269955.      0.]\n",
      " [ 87402.  42184.      0.]]\n",
      "Train test number of ratings:  804846\n",
      "\n",
      "Test_ratings set:\n",
      "\n",
      "[[ 15560.   99291.       0. ]\n",
      " [ 49582.   59185.       0.8]\n",
      " [ 99796.  121427.       0. ]]\n",
      "Test test number of ratings:  344934\n"
     ]
    }
   ],
   "source": [
    "train_ratings, test_ratings = train_test_split(ratings, test_size=0.30, random_state=42, shuffle=True)\n",
    "\n",
    "print('Train_ratings set:\\n')\n",
    "print(train_ratings[:3])\n",
    "print('Train test number of ratings: ',len(train_ratings))\n",
    "print('\\nTest_ratings set:\\n')\n",
    "print(test_ratings[:3])\n",
    "print('Test test number of ratings: ',len(test_ratings))"
   ]
  },
  {
   "cell_type": "markdown",
   "metadata": {},
   "source": [
    "### 2. Latent Factors with Baselines\n",
    "Factorize Ratings matrix as $A = PQ $ where `P` is the user matrix of dimension $m \\times k$ and `Q` is the item matrix of dimension $k \\times n$\n",
    "<br/>Estimate the unknown parameters by minimizing:\n",
    "$$\n",
    "\\sum_{r_{ui} \\in R_{train}}(r_{ui}-\\hat{r_{ui}})^2 + \\lambda (b_i^2 + b_u^2 + ||q_i||^2 + ||p_u||^2)\n",
    "$$\n",
    "where\n",
    "* $\\hat{r_{ui}}$ is the predicted ratings of user `u` to the item `i`\n",
    "* $r_{ui}$ is the ratings of user `u` to the item `i`\n",
    "* $b_u$ the user biases\n",
    "* $b_i$ the item biases\n",
    "* $p_i$ the user factors\n",
    "* $q_i$ the item factors\n",
    "* $\\lambda$ the regularization hyperparameter term\n",
    "* $\\mu$ is the global mean rating\n",
    "\n",
    "The minimization is performed by stohastic gradient descent:\n",
    "$$\n",
    "b_u \\leftarrow b_u + \\gamma(e_{ui} - \\lambda b_u) \\\\\n",
    "b_i \\leftarrow b_i + \\gamma(e_{ui} - \\lambda b_i) \\\\\n",
    "p_u \\leftarrow p_u + \\gamma(e_{ui}q_i - \\lambda p_u) \\\\\n",
    "q_i \\leftarrow q_i + \\gamma(e_{ui}p_u - \\lambda q_u)\n",
    "$$\n",
    "where $e_{ui} = r_{ui}-\\hat{r_{ui}}$ and the prediction $\\hat{r_{ui}} = \\mu + b_u +b_i + q_i^Tp_u$"
   ]
  },
  {
   "cell_type": "markdown",
   "metadata": {},
   "source": [
    "#### Metrics:\n",
    "* Rooted Mean Squared Error: $RMSE= \\sqrt{\\frac{\\sum(r_{ui} - \\hat{r_{ui}})^2}{N}}$\n",
    "* Mean Squared Error: $MSE= \\frac{\\sum(r_{ui} - \\hat{r_{ui}})^2}{N}$\n",
    "* Accuracy: $\\frac{(TP + TN)}{(TP + TN + FP + FN)}$"
   ]
  },
  {
   "cell_type": "code",
   "execution_count": 6,
   "metadata": {},
   "outputs": [],
   "source": [
    "def get_rmse(ratings, P, Q, bias_u, bias_i, m):\n",
    "    N = ratings.shape[0]\n",
    "    sum_errors = 0\n",
    "    for u,i,r_ui in ratings:\n",
    "        u_int = int(u)\n",
    "        i_int = int(i)\n",
    "        predicted = m + bias_u[u_int] + bias_i[i_int] + np.dot(P[u_int],Q[i_int])\n",
    "        sum_errors += (predicted-r_ui)**2\n",
    "    \n",
    "    return np.sqrt(sum_errors/N) \n",
    "\n",
    "def get_mse(ratings, P, Q, bias_u, bias_i, m):\n",
    "    predicted = []\n",
    "    for u,i,r_ui in ratings:\n",
    "        u_int = int(u)\n",
    "        i_int = int(i)\n",
    "        predicted.append(m + bias_u[u_int] + bias_i[i_int] + np.dot(P[u_int],Q[i_int]) )\n",
    "    \n",
    "    return mean_squared_error(ratings[:,2], predicted)\n",
    "\n",
    "def get_accuracy(ratings, P, Q, bias_u, bias_i, m):\n",
    "    predicted = []\n",
    "    for u,i,r_ui in ratings:\n",
    "        u_int = int(u)\n",
    "        i_int = int(i)\n",
    "        pred = m + bias_u[u_int] + bias_i[i_int] + np.dot(P[u_int],Q[i_int])\n",
    "        pred = 1 if pred> 1 else 0 if pred < 0 else np.round(pred,1) \n",
    "        predicted.append(pred)\n",
    "    \n",
    "    return accuracy_score([int(10*i) for i in ratings[:,2]], [int(10*i) for i in predicted])"
   ]
  },
  {
   "cell_type": "markdown",
   "metadata": {},
   "source": [
    "### Full method\n",
    "* train using the whole training set for a number of epochs\n",
    "* `decay`: reduces learning rate by a factor as epochs progress"
   ]
  },
  {
   "cell_type": "code",
   "execution_count": 11,
   "metadata": {},
   "outputs": [
    {
     "name": "stdout",
     "output_type": "stream",
     "text": [
      "Epoch:  0 \t RMSE:      0.313 \t lr: 0.100\n",
      "Epoch:  1 \t RMSE:      0.295 \t lr: 0.100\n",
      "Epoch:  2 \t RMSE:      0.283 \t lr: 0.100\n",
      "Epoch:  3 \t RMSE:      0.271 \t lr: 0.100\n",
      "Epoch:  4 \t RMSE:      0.262 \t lr: 0.100\n",
      "Epoch:  5 \t RMSE:      0.253 \t lr: 0.100\n",
      "Epoch:  6 \t RMSE:      0.245 \t lr: 0.100\n",
      "Epoch:  7 \t RMSE:      0.237 \t lr: 0.100\n",
      "Epoch:  8 \t RMSE:      0.230 \t lr: 0.100\n",
      "Epoch:  9 \t RMSE:      0.223 \t lr: 0.100\n",
      "Epoch:  10 \t RMSE:      0.218 \t lr: 0.100\n",
      "Epoch:  11 \t RMSE:      0.213 \t lr: 0.100\n",
      "Epoch:  12 \t RMSE:      0.208 \t lr: 0.100\n",
      "Epoch:  13 \t RMSE:      0.204 \t lr: 0.100\n",
      "Epoch:  14 \t RMSE:      0.201 \t lr: 0.100\n",
      "Epoch:  15 \t RMSE:      0.197 \t lr: 0.100\n",
      "Epoch:  16 \t RMSE:      0.194 \t lr: 0.100\n",
      "Epoch:  17 \t RMSE:      0.192 \t lr: 0.100\n",
      "Epoch:  18 \t RMSE:      0.190 \t lr: 0.100\n",
      "Epoch:  19 \t RMSE:      0.187 \t lr: 0.100\n"
     ]
    }
   ],
   "source": [
    "#source: https://surprise.readthedocs.io/en/stable/matrix_factorization.html\n",
    "\n",
    "num_epochs = 20\n",
    "n_factors = 4\n",
    "\n",
    "alpha = 1e-1 # learning rate\n",
    "decay=0 #alpha/num_epochs # https://machinelearningmastery.com/using-learning-rate-schedules-deep-learning-models-python-keras/\n",
    "lamda = 0.01 # regularization parameter\n",
    "\n",
    "# overall mean\n",
    "overall_m_rating = train_ratings[:,2].mean()\n",
    "#randomly initialize user/item factors from a Gaussian\n",
    "P = np.random.normal(0,.1,(n_users,n_factors))\n",
    "Q = np.random.normal(0,.1,(n_books,n_factors))\n",
    "b_user = np.zeros(n_users)\n",
    "b_item = np.zeros(n_books)\n",
    "\n",
    "\n",
    "full_train_rmse = []\n",
    "for epoch in range(num_epochs):\n",
    "    for u,i,r_ui in train_ratings[np.random.permutation(train_ratings.shape[0])]:\n",
    "        u_int = int(u)\n",
    "        i_int = int(i)\n",
    "        \n",
    "        r_ui_pred = overall_m_rating + b_user[u_int] + b_item[i_int] + np.dot(P[u_int],Q[i_int])\n",
    "        residual = r_ui - r_ui_pred\n",
    "        \n",
    "        # SGD Updates        \n",
    "        b_user[u_int] += alpha*(residual - lamda*b_user[u_int])\n",
    "        b_item[i_int] += alpha*(residual - lamda*b_item[i_int]) \n",
    "        temp = P[u_int] # we want to update them at the same time, so we make a temporary variable. \n",
    "        P[u_int] +=  alpha * (residual * Q[i_int] - lamda*temp)\n",
    "        Q[i_int] +=  alpha * (residual * temp - lamda*Q[i_int])\n",
    "    rmse = get_rmse(train_ratings, P, Q, b_user, b_item, overall_m_rating)\n",
    "    full_train_rmse.append(rmse)\n",
    "    print('Epoch: ',epoch,'\\t RMSE: %10.3f' % rmse,'\\t lr: %1.3f' %  alpha)\n",
    "    # reduce learning rate:\n",
    "    alpha *= 1/(1 + decay * epoch)\n",
    "    "
   ]
  },
  {
   "cell_type": "code",
   "execution_count": 12,
   "metadata": {},
   "outputs": [
    {
     "data": {
      "image/png": "[encoded data removed]",
      "text/plain": [
       "<Figure size 864x360 with 1 Axes>"
      ]
     },
     "metadata": {
      "needs_background": "light"
     },
     "output_type": "display_data"
    }
   ],
   "source": [
    "fig = plt.figure(figsize=(12,5))\n",
    "ax = fig.add_subplot(1,1,1)\n",
    "ax.plot(full_train_rmse, '-bs')\n",
    "ax.set_ylabel('$RMSE$')\n",
    "ax.set_xlabel('epoch')\n",
    "ax.title.set_text('Train RMSE - Full model')\n",
    "ax.grid()"
   ]
  },
  {
   "cell_type": "markdown",
   "metadata": {},
   "source": [
    "#### Train and Test error metrics:"
   ]
  },
  {
   "cell_type": "code",
   "execution_count": 13,
   "metadata": {
    "scrolled": true
   },
   "outputs": [
    {
     "name": "stdout",
     "output_type": "stream",
     "text": [
      "Train RMSE: 0.19\n",
      "Test RMSE: 0.39\n",
      "==========================\n",
      "Train MSE: 0.04\n",
      "Test MSE: 0.15\n",
      "==========================\n",
      "Train accuracy: 0.46\n",
      "Test accuracy: 0.22\n"
     ]
    }
   ],
   "source": [
    "# Rooted Mean Squared Error\n",
    "train_rmse = get_rmse(train_ratings, P, Q, b_user, b_item, overall_m_rating)\n",
    "print('Train RMSE: %2.2f' % train_rmse)\n",
    "test_rmse = get_rmse(test_ratings, P, Q, b_user, b_item, overall_m_rating)\n",
    "print('Test RMSE: %2.2f' % test_rmse)\n",
    "\n",
    "print('==========================')\n",
    "\n",
    "train_mse = get_mse(train_ratings, P, Q, b_user, b_item, overall_m_rating)\n",
    "print('Train MSE: %2.2f' % train_mse)\n",
    "test_mse = get_mse(test_ratings, P, Q, b_user, b_item, overall_m_rating)\n",
    "print('Test MSE: %2.2f' % test_mse)\n",
    "\n",
    "print('==========================')\n",
    "\n",
    "train_acc = get_accuracy(train_ratings, P, Q, b_user, b_item, overall_m_rating)\n",
    "print('Train accuracy: %2.2f' % train_acc)\n",
    "test_acc = get_accuracy(test_ratings, P, Q, b_user, b_item, overall_m_rating)\n",
    "print('Test accuracy: %2.2f' % test_acc)"
   ]
  },
  {
   "cell_type": "markdown",
   "metadata": {},
   "source": [
    "#### Check true ratings vs predictions for specific user:"
   ]
  },
  {
   "cell_type": "code",
   "execution_count": 23,
   "metadata": {},
   "outputs": [
    {
     "name": "stdout",
     "output_type": "stream",
     "text": [
      "     User-ID                  Location  Age\n",
      "325      326  parkville, missouri, usa  NaN\n",
      "\n",
      " Original ratings\n",
      "       User-ID  ISBN  Book-Rating\n",
      "10398      963  9643          1.0\n",
      "----------------------------------------------------\n",
      "Predicted rating of item:  9643  is:  0.94\n"
     ]
    }
   ],
   "source": [
    "user = 963\n",
    "print(users[users['User-ID']==user_dict_inv[user]])\n",
    "original_ratings = ratings_df.loc[ratings_df['User-ID']==user]\n",
    "\n",
    "print('\\n Original ratings')\n",
    "print(original_ratings)\n",
    "\n",
    "predicted_ratings=[]\n",
    "for item in books_dict.values():\n",
    "    predicted_ratings.append(overall_m_rating + b_user[user] + b_item[item] + np.dot(P[user],Q[item]))\n",
    "\n",
    "print('----------------------------------------------------')\n",
    "\n",
    "for item in original_ratings['ISBN'].values:\n",
    "    print('Predicted rating of item: ',item,' is: ',np.round(predicted_ratings[item],2))\n"
   ]
  },
  {
   "cell_type": "markdown",
   "metadata": {},
   "source": [
    "#### Top 10 recommendations for specific user"
   ]
  },
  {
   "cell_type": "code",
   "execution_count": 34,
   "metadata": {},
   "outputs": [
    {
     "name": "stdout",
     "output_type": "stream",
     "text": [
      "----------------------------------------------------\n",
      "Top 10 predictions: \n"
     ]
    },
    {
     "data": {
      "text/html": [
       "<div>\n",
       "<style scoped>\n",
       "    .dataframe tbody tr th:only-of-type {\n",
       "        vertical-align: middle;\n",
       "    }\n",
       "\n",
       "    .dataframe tbody tr th {\n",
       "        vertical-align: top;\n",
       "    }\n",
       "\n",
       "    .dataframe thead th {\n",
       "        text-align: right;\n",
       "    }\n",
       "</style>\n",
       "<table border=\"1\" class=\"dataframe\">\n",
       "  <thead>\n",
       "    <tr style=\"text-align: right;\">\n",
       "      <th></th>\n",
       "      <th>ISBN</th>\n",
       "      <th>Book-Title</th>\n",
       "      <th>Book-Author</th>\n",
       "      <th>Year-Of-Publication</th>\n",
       "      <th>Publisher</th>\n",
       "      <th>Image-URL-S</th>\n",
       "      <th>Image-URL-M</th>\n",
       "      <th>Image-URL-L</th>\n",
       "    </tr>\n",
       "  </thead>\n",
       "  <tbody>\n",
       "    <tr>\n",
       "      <th>44521</th>\n",
       "      <td>1570827893</td>\n",
       "      <td>Disney's Pooh's 123 (Learn and Grow.)</td>\n",
       "      <td>Lisa Ann Marsoli</td>\n",
       "      <td>1998</td>\n",
       "      <td>Disney Press</td>\n",
       "      <td>http://images.amazon.com/images/P/1570827893.0...</td>\n",
       "      <td>http://images.amazon.com/images/P/1570827893.0...</td>\n",
       "      <td>http://images.amazon.com/images/P/1570827893.0...</td>\n",
       "    </tr>\n",
       "    <tr>\n",
       "      <th>140549</th>\n",
       "      <td>068982047X</td>\n",
       "      <td>The Bestest Mom (Rugrats)</td>\n",
       "      <td>Susan Hood</td>\n",
       "      <td>1998</td>\n",
       "      <td>Simon Spotlight/Nickelodeon</td>\n",
       "      <td>http://images.amazon.com/images/P/068982047X.0...</td>\n",
       "      <td>http://images.amazon.com/images/P/068982047X.0...</td>\n",
       "      <td>http://images.amazon.com/images/P/068982047X.0...</td>\n",
       "    </tr>\n",
       "    <tr>\n",
       "      <th>172880</th>\n",
       "      <td>0803281781</td>\n",
       "      <td>Little Britches: Father and I Were Ranchers</td>\n",
       "      <td>Ralph Moody</td>\n",
       "      <td>1991</td>\n",
       "      <td>University of Nebraska Press</td>\n",
       "      <td>http://images.amazon.com/images/P/0803281781.0...</td>\n",
       "      <td>http://images.amazon.com/images/P/0803281781.0...</td>\n",
       "      <td>http://images.amazon.com/images/P/0803281781.0...</td>\n",
       "    </tr>\n",
       "    <tr>\n",
       "      <th>199879</th>\n",
       "      <td>0762102977</td>\n",
       "      <td>Yoga for Everybody/Not Everybody: Simple Routi...</td>\n",
       "      <td>Paul Harvey</td>\n",
       "      <td>2001</td>\n",
       "      <td>Reader's Digest Association</td>\n",
       "      <td>http://images.amazon.com/images/P/0762102977.0...</td>\n",
       "      <td>http://images.amazon.com/images/P/0762102977.0...</td>\n",
       "      <td>http://images.amazon.com/images/P/0762102977.0...</td>\n",
       "    </tr>\n",
       "    <tr>\n",
       "      <th>200440</th>\n",
       "      <td>0425091465</td>\n",
       "      <td>Inside the Green Berets</td>\n",
       "      <td>Charles M. Simpson</td>\n",
       "      <td>1986</td>\n",
       "      <td>Natl Book Network</td>\n",
       "      <td>http://images.amazon.com/images/P/0425091465.0...</td>\n",
       "      <td>http://images.amazon.com/images/P/0425091465.0...</td>\n",
       "      <td>http://images.amazon.com/images/P/0425091465.0...</td>\n",
       "    </tr>\n",
       "    <tr>\n",
       "      <th>200969</th>\n",
       "      <td>0446949280</td>\n",
       "      <td>Lots of Funny Riddles</td>\n",
       "      <td>Joseph Kiernan</td>\n",
       "      <td>1981</td>\n",
       "      <td>Warner Books</td>\n",
       "      <td>http://images.amazon.com/images/P/0446949280.0...</td>\n",
       "      <td>http://images.amazon.com/images/P/0446949280.0...</td>\n",
       "      <td>http://images.amazon.com/images/P/0446949280.0...</td>\n",
       "    </tr>\n",
       "  </tbody>\n",
       "</table>\n",
       "</div>"
      ],
      "text/plain": [
       "              ISBN                                         Book-Title  \\\n",
       "44521   1570827893              Disney's Pooh's 123 (Learn and Grow.)   \n",
       "140549  068982047X                          The Bestest Mom (Rugrats)   \n",
       "172880  0803281781        Little Britches: Father and I Were Ranchers   \n",
       "199879  0762102977  Yoga for Everybody/Not Everybody: Simple Routi...   \n",
       "200440  0425091465                            Inside the Green Berets   \n",
       "200969  0446949280                              Lots of Funny Riddles   \n",
       "\n",
       "               Book-Author Year-Of-Publication                     Publisher  \\\n",
       "44521     Lisa Ann Marsoli                1998                  Disney Press   \n",
       "140549          Susan Hood                1998   Simon Spotlight/Nickelodeon   \n",
       "172880         Ralph Moody                1991  University of Nebraska Press   \n",
       "199879         Paul Harvey                2001   Reader's Digest Association   \n",
       "200440  Charles M. Simpson                1986             Natl Book Network   \n",
       "200969      Joseph Kiernan                1981                  Warner Books   \n",
       "\n",
       "                                              Image-URL-S  \\\n",
       "44521   http://images.amazon.com/images/P/1570827893.0...   \n",
       "140549  http://images.amazon.com/images/P/068982047X.0...   \n",
       "172880  http://images.amazon.com/images/P/0803281781.0...   \n",
       "199879  http://images.amazon.com/images/P/0762102977.0...   \n",
       "200440  http://images.amazon.com/images/P/0425091465.0...   \n",
       "200969  http://images.amazon.com/images/P/0446949280.0...   \n",
       "\n",
       "                                              Image-URL-M  \\\n",
       "44521   http://images.amazon.com/images/P/1570827893.0...   \n",
       "140549  http://images.amazon.com/images/P/068982047X.0...   \n",
       "172880  http://images.amazon.com/images/P/0803281781.0...   \n",
       "199879  http://images.amazon.com/images/P/0762102977.0...   \n",
       "200440  http://images.amazon.com/images/P/0425091465.0...   \n",
       "200969  http://images.amazon.com/images/P/0446949280.0...   \n",
       "\n",
       "                                              Image-URL-L  \n",
       "44521   http://images.amazon.com/images/P/1570827893.0...  \n",
       "140549  http://images.amazon.com/images/P/068982047X.0...  \n",
       "172880  http://images.amazon.com/images/P/0803281781.0...  \n",
       "199879  http://images.amazon.com/images/P/0762102977.0...  \n",
       "200440  http://images.amazon.com/images/P/0425091465.0...  \n",
       "200969  http://images.amazon.com/images/P/0446949280.0...  "
      ]
     },
     "execution_count": 34,
     "metadata": {},
     "output_type": "execute_result"
    }
   ],
   "source": [
    "top_10_predictions = np.argsort(predicted_ratings)[::-1][:10]\n",
    "top_10_ISBNs = [books_dict_inv[index] for index in top_10_predictions]\n",
    "\n",
    "print('----------------------------------------------------')\n",
    "print('Top 10 predictions: ')\n",
    "books[books.ISBN .isin(top_10_ISBNs)]"
   ]
  },
  {
   "cell_type": "markdown",
   "metadata": {},
   "source": [
    "## Federated Averaging\n",
    "1) Each user is a client with its own data, updates run iteratively for a few epochs on each client and server performs aggregations"
   ]
  },
  {
   "cell_type": "code",
   "execution_count": 39,
   "metadata": {},
   "outputs": [
    {
     "name": "stdout",
     "output_type": "stream",
     "text": [
      "Finished round:  0\n",
      "After round:  0 \t RMSE:      0.386\n",
      "Finished round:  1\n",
      "After round:  1 \t RMSE:      0.386\n",
      "Finished round:  2\n",
      "After round:  2 \t RMSE:      0.386\n",
      "Finished round:  3\n",
      "After round:  3 \t RMSE:      0.385\n",
      "Finished round:  4\n",
      "After round:  4 \t RMSE:      0.385\n",
      "Finished round:  5\n",
      "After round:  5 \t RMSE:      0.385\n",
      "Finished round:  6\n",
      "After round:  6 \t RMSE:      0.385\n",
      "Finished round:  7\n",
      "After round:  7 \t RMSE:      0.385\n",
      "Finished round:  8\n",
      "After round:  8 \t RMSE:      0.385\n",
      "Finished round:  9\n",
      "After round:  9 \t RMSE:      0.384\n"
     ]
    }
   ],
   "source": [
    "num_rounds = 10\n",
    "num_epochs = 3\n",
    "n_factors = 4\n",
    "\n",
    "alpha = 1e-1\n",
    "\n",
    "# server initialization\n",
    "overall_m_rating = train_ratings[:,2].mean()\n",
    "P = np.random.normal(0,.1,(n_users,n_factors))\n",
    "Q = np.random.normal(0,.1,(n_books,n_factors))\n",
    "b_user = np.zeros(n_users)\n",
    "b_item = np.zeros(n_books)\n",
    "lamda = 0.1\n",
    "N = train_ratings.shape[0]\n",
    "\n",
    "fl_train_rmse=[]\n",
    "for round in range(num_rounds):\n",
    "    P_sum = np.zeros((n_users,n_factors))\n",
    "    Q_sum = np.zeros((n_books,n_factors))\n",
    "    b_user_sum = np.zeros(n_users)\n",
    "    b_item_sum = np.zeros(n_books)\n",
    "    # for each user-client\n",
    "    for user in range(n_users):\n",
    "        \n",
    "        # broadcast server weights to client:\n",
    "        P_client = P.copy()\n",
    "        Q_client = Q.copy()\n",
    "        b_user_client = b_user.copy()\n",
    "        b_item_client = b_item.copy()\n",
    "        # update weights using only client's dataset\n",
    "        user_dataset = train_ratings[train_ratings[:,0]==user]\n",
    "        user_dataset = user_dataset[np.random.permutation(user_dataset.shape[0])] #shuffle\n",
    "        N_client = user_dataset.shape[0]\n",
    "        for epoch in range(num_epochs):\n",
    "            for u,i,r_ui in user_dataset:\n",
    "                u_int = int(u)\n",
    "                i_int = int(i)\n",
    "\n",
    "                r_ui_pred = overall_m_rating + b_user_client[u_int] + b_item_client[i_int] + np.dot(P_client[u_int], Q_client[i_int])\n",
    "                residual = r_ui - r_ui_pred\n",
    "\n",
    "                # SGD Updates        \n",
    "                b_user_client[u_int] += alpha*(residual - lamda*b_user_client[u_int])\n",
    "                b_item_client[i_int] += alpha*(residual - lamda*b_item_client[i_int]) \n",
    "                temp = P_client[u_int] # we want to update them at the same time, so we make a temporary variable. \n",
    "                P_client[u_int] +=  alpha * (residual * Q_client[i_int] - lamda*temp)\n",
    "                Q_client[i_int] +=  alpha * (residual * temp - lamda*Q_client[i_int])\n",
    "        \n",
    "        # running average:\n",
    "        P_sum += (N_client/N)*P_client\n",
    "        Q_sum += (N_client/N)*Q_client\n",
    "        b_user_sum += (N_client/N)*b_user_client\n",
    "        b_item_sum += (N_client/N)*b_item_client\n",
    "        \n",
    "        #if user % 1000 == 0:\n",
    "        #    print('Completed for user: ',user,' percentage: ', 100*round(user/n_users,2),'%')\n",
    "    P = P_sum.copy()\n",
    "    Q = Q_sum.copy()\n",
    "    b_user = b_user_sum.copy()\n",
    "    b_item = b_item_sum.copy()\n",
    "    print('Finished round: ', round)\n",
    "    rmse = get_rmse(train_ratings, P, Q, b_user, b_item, overall_m_rating)\n",
    "    fl_train_rmse.append(rmse)\n",
    "    print('After round: ',round,'\\t RMSE: %10.3f' % rmse)\n",
    "        "
   ]
  },
  {
   "cell_type": "code",
   "execution_count": 40,
   "metadata": {},
   "outputs": [
    {
     "data": {
      "image/png": "[encoded data removed]",
      "text/plain": [
       "<Figure size 864x360 with 1 Axes>"
      ]
     },
     "metadata": {
      "needs_background": "light"
     },
     "output_type": "display_data"
    }
   ],
   "source": [
    "fig = plt.figure(figsize=(12,5))\n",
    "ax = fig.add_subplot(1,1,1)\n",
    "ax.plot(fl_train_rmse, '-bs')\n",
    "ax.set_ylabel('$RMSE$')\n",
    "ax.set_xlabel('epoch')\n",
    "ax.title.set_text('Train RMSE - FederatedAvg model 1')\n",
    "ax.grid()"
   ]
  },
  {
   "cell_type": "code",
   "execution_count": 41,
   "metadata": {},
   "outputs": [
    {
     "name": "stdout",
     "output_type": "stream",
     "text": [
      "Train RMSE: 0.38\n",
      "Test RMSE: 0.38\n",
      "==========================\n",
      "Train MSE: 0.15\n",
      "Test MSE: 0.15\n",
      "==========================\n",
      "Train accuracy: 0.01\n",
      "Test accuracy: 0.01\n"
     ]
    }
   ],
   "source": [
    "# Rooted Mean Squared Error\n",
    "train_rmse = get_rmse(train_ratings, P, Q, b_user, b_item, overall_m_rating)\n",
    "print('Train RMSE: %2.2f' % train_rmse)\n",
    "test_rmse = get_rmse(test_ratings, P, Q, b_user, b_item, overall_m_rating)\n",
    "print('Test RMSE: %2.2f' % test_rmse)\n",
    "\n",
    "print('==========================')\n",
    "\n",
    "train_mse = get_mse(train_ratings, P, Q, b_user, b_item, overall_m_rating)\n",
    "print('Train MSE: %2.2f' % train_mse)\n",
    "test_mse = get_mse(test_ratings, P, Q, b_user, b_item, overall_m_rating)\n",
    "print('Test MSE: %2.2f' % test_mse)\n",
    "\n",
    "print('==========================')\n",
    "\n",
    "train_acc = get_accuracy(train_ratings, P, Q, b_user, b_item, overall_m_rating)\n",
    "print('Train accuracy: %2.2f' % train_acc)\n",
    "test_acc = get_accuracy(test_ratings, P, Q, b_user, b_item, overall_m_rating)\n",
    "print('Test accuracy: %2.2f' % test_acc)"
   ]
  },
  {
   "cell_type": "markdown",
   "metadata": {},
   "source": [
    "2) Divide dataset into 100 clients, run for a few epochs on each client"
   ]
  },
  {
   "cell_type": "code",
   "execution_count": 36,
   "metadata": {},
   "outputs": [
    {
     "name": "stdout",
     "output_type": "stream",
     "text": [
      "Finished round:  0\n",
      "After round:  0 \t RMSE:      0.356\n",
      "Finished round:  1\n",
      "After round:  1 \t RMSE:      0.349\n",
      "Finished round:  2\n",
      "After round:  2 \t RMSE:      0.344\n",
      "Finished round:  3\n",
      "After round:  3 \t RMSE:      0.341\n",
      "Finished round:  4\n",
      "After round:  4 \t RMSE:      0.338\n",
      "Finished round:  5\n",
      "After round:  5 \t RMSE:      0.336\n",
      "Finished round:  6\n",
      "After round:  6 \t RMSE:      0.334\n",
      "Finished round:  7\n",
      "After round:  7 \t RMSE:      0.332\n",
      "Finished round:  8\n",
      "After round:  8 \t RMSE:      0.330\n",
      "Finished round:  9\n",
      "After round:  9 \t RMSE:      0.328\n",
      "Finished round:  10\n",
      "After round:  10 \t RMSE:      0.327\n",
      "Finished round:  11\n",
      "After round:  11 \t RMSE:      0.326\n",
      "Finished round:  12\n",
      "After round:  12 \t RMSE:      0.324\n",
      "Finished round:  13\n",
      "After round:  13 \t RMSE:      0.323\n",
      "Finished round:  14\n",
      "After round:  14 \t RMSE:      0.322\n",
      "Finished round:  15\n",
      "After round:  15 \t RMSE:      0.321\n",
      "Finished round:  16\n",
      "After round:  16 \t RMSE:      0.320\n",
      "Finished round:  17\n",
      "After round:  17 \t RMSE:      0.319\n",
      "Finished round:  18\n",
      "After round:  18 \t RMSE:      0.318\n",
      "Finished round:  19\n",
      "After round:  19 \t RMSE:      0.317\n",
      "Finished round:  20\n",
      "After round:  20 \t RMSE:      0.316\n",
      "Finished round:  21\n",
      "After round:  21 \t RMSE:      0.315\n",
      "Finished round:  22\n",
      "After round:  22 \t RMSE:      0.314\n",
      "Finished round:  23\n",
      "After round:  23 \t RMSE:      0.313\n",
      "Finished round:  24\n",
      "After round:  24 \t RMSE:      0.313\n",
      "Finished round:  25\n",
      "After round:  25 \t RMSE:      0.312\n",
      "Finished round:  26\n",
      "After round:  26 \t RMSE:      0.311\n",
      "Finished round:  27\n",
      "After round:  27 \t RMSE:      0.310\n",
      "Finished round:  28\n",
      "After round:  28 \t RMSE:      0.310\n",
      "Finished round:  29\n",
      "After round:  29 \t RMSE:      0.309\n",
      "Finished round:  30\n",
      "After round:  30 \t RMSE:      0.308\n",
      "Finished round:  31\n",
      "After round:  31 \t RMSE:      0.308\n",
      "Finished round:  32\n",
      "After round:  32 \t RMSE:      0.307\n",
      "Finished round:  33\n",
      "After round:  33 \t RMSE:      0.306\n",
      "Finished round:  34\n",
      "After round:  34 \t RMSE:      0.306\n",
      "Finished round:  35\n",
      "After round:  35 \t RMSE:      0.305\n",
      "Finished round:  36\n",
      "After round:  36 \t RMSE:      0.305\n",
      "Finished round:  37\n",
      "After round:  37 \t RMSE:      0.304\n",
      "Finished round:  38\n",
      "After round:  38 \t RMSE:      0.303\n",
      "Finished round:  39\n",
      "After round:  39 \t RMSE:      0.303\n",
      "Finished round:  40\n",
      "After round:  40 \t RMSE:      0.302\n",
      "Finished round:  41\n",
      "After round:  41 \t RMSE:      0.302\n",
      "Finished round:  42\n",
      "After round:  42 \t RMSE:      0.301\n",
      "Finished round:  43\n",
      "After round:  43 \t RMSE:      0.301\n",
      "Finished round:  44\n",
      "After round:  44 \t RMSE:      0.300\n",
      "Finished round:  45\n",
      "After round:  45 \t RMSE:      0.300\n",
      "Finished round:  46\n",
      "After round:  46 \t RMSE:      0.299\n",
      "Finished round:  47\n",
      "After round:  47 \t RMSE:      0.299\n",
      "Finished round:  48\n",
      "After round:  48 \t RMSE:      0.298\n",
      "Finished round:  49\n",
      "After round:  49 \t RMSE:      0.298\n",
      "Finished round:  50\n",
      "After round:  50 \t RMSE:      0.297\n",
      "Finished round:  51\n",
      "After round:  51 \t RMSE:      0.297\n",
      "Finished round:  52\n",
      "After round:  52 \t RMSE:      0.296\n",
      "Finished round:  53\n",
      "After round:  53 \t RMSE:      0.296\n",
      "Finished round:  54\n",
      "After round:  54 \t RMSE:      0.295\n",
      "Finished round:  55\n",
      "After round:  55 \t RMSE:      0.295\n",
      "Finished round:  56\n",
      "After round:  56 \t RMSE:      0.295\n",
      "Finished round:  57\n",
      "After round:  57 \t RMSE:      0.294\n",
      "Finished round:  58\n",
      "After round:  58 \t RMSE:      0.294\n",
      "Finished round:  59\n",
      "After round:  59 \t RMSE:      0.293\n",
      "Finished round:  60\n",
      "After round:  60 \t RMSE:      0.293\n",
      "Finished round:  61\n",
      "After round:  61 \t RMSE:      0.293\n",
      "Finished round:  62\n",
      "After round:  62 \t RMSE:      0.292\n",
      "Finished round:  63\n",
      "After round:  63 \t RMSE:      0.292\n",
      "Finished round:  64\n",
      "After round:  64 \t RMSE:      0.291\n",
      "Finished round:  65\n",
      "After round:  65 \t RMSE:      0.291\n",
      "Finished round:  66\n",
      "After round:  66 \t RMSE:      0.291\n",
      "Finished round:  67\n",
      "After round:  67 \t RMSE:      0.290\n",
      "Finished round:  68\n",
      "After round:  68 \t RMSE:      0.290\n",
      "Finished round:  69\n",
      "After round:  69 \t RMSE:      0.290\n",
      "Finished round:  70\n",
      "After round:  70 \t RMSE:      0.289\n",
      "Finished round:  71\n",
      "After round:  71 \t RMSE:      0.289\n",
      "Finished round:  72\n",
      "After round:  72 \t RMSE:      0.289\n",
      "Finished round:  73\n",
      "After round:  73 \t RMSE:      0.288\n",
      "Finished round:  74\n",
      "After round:  74 \t RMSE:      0.288\n",
      "Finished round:  75\n",
      "After round:  75 \t RMSE:      0.288\n",
      "Finished round:  76\n",
      "After round:  76 \t RMSE:      0.287\n",
      "Finished round:  77\n",
      "After round:  77 \t RMSE:      0.287\n",
      "Finished round:  78\n",
      "After round:  78 \t RMSE:      0.287\n",
      "Finished round:  79\n",
      "After round:  79 \t RMSE:      0.286\n"
     ]
    }
   ],
   "source": [
    "num_rounds = 80\n",
    "num_epochs = 5\n",
    "n_factors = 4\n",
    "num_clients=100\n",
    "alpha = 1e-1\n",
    "lamda = 0.1\n",
    "\n",
    "np.random.seed(94)\n",
    "\n",
    "# server initialization\n",
    "overall_m_rating = train_ratings[:,2].mean()\n",
    "P = np.random.normal(0,.1,(n_users,n_factors))\n",
    "Q = np.random.normal(0,.1,(n_books,n_factors))\n",
    "b_user = np.zeros(n_users)\n",
    "b_item = np.zeros(n_books)\n",
    "\n",
    "N = train_ratings.shape[0]\n",
    "chunk_size = N //num_clients\n",
    "\n",
    "fl_train_rmse2=[]\n",
    "for round in range(num_rounds):\n",
    "    P_sum = np.zeros((n_users,n_factors))\n",
    "    Q_sum = np.zeros((n_books,n_factors))\n",
    "    b_user_sum = np.zeros(n_users)\n",
    "    b_item_sum = np.zeros(n_books)\n",
    "    # for each user-client\n",
    "    for client in range(num_clients):\n",
    "        \n",
    "        # broadcast server weights to client:\n",
    "        P_client = P.copy()\n",
    "        Q_client = Q.copy()\n",
    "        b_user_client = b_user.copy()\n",
    "        b_item_client = b_item.copy()\n",
    "        # update weights using only client's dataset\n",
    "        client_dataset = train_ratings[client*chunk_size+1:(client+1)*chunk_size]\n",
    "        N_client = client_dataset.shape[0]\n",
    "        for epoch in range(num_epochs):\n",
    "            for u,i,r_ui in client_dataset[np.random.permutation(client_dataset.shape[0])]:\n",
    "                u_int = int(u)    \n",
    "                i_int = int(i)\n",
    "\n",
    "                r_ui_pred = overall_m_rating + b_user_client[u_int] + b_item_client[i_int] + np.dot(P_client[u_int], Q_client[i_int])\n",
    "                residual = r_ui - r_ui_pred\n",
    "\n",
    "                # SGD Updates        \n",
    "                b_user_client[u_int] += alpha*(residual - lamda*b_user_client[u_int])\n",
    "                b_item_client[i_int] += alpha*(residual - lamda*b_item_client[i_int]) \n",
    "                temp = P_client[u_int] # we want to update them at the same time, so we make a temporary variable. \n",
    "                P_client[u_int] +=  alpha * (residual * Q_client[i_int] - lamda*temp)\n",
    "                Q_client[i_int] +=  alpha * (residual * temp - lamda*Q_client[i_int])\n",
    "        \n",
    "        # running average:\n",
    "        P_sum += (N_client/N)*P_client\n",
    "        Q_sum += (N_client/N)*Q_client\n",
    "        b_user_sum += (N_client/N)*b_user_client\n",
    "        b_item_sum += (N_client/N)*b_item_client\n",
    "        \n",
    "        #if user % 4000 == 0:\n",
    "        #    print('Completed for user: ',user,' percentage: ', 100*round(user/n_users,2),'%')\n",
    "    P = P_sum.copy()\n",
    "    Q = Q_sum.copy()\n",
    "    b_user = b_user_sum.copy()\n",
    "    b_item = b_item_sum.copy()\n",
    "    print('Finished round: ', round)\n",
    "    rmse = get_rmse(train_ratings, P, Q, b_user, b_item, overall_m_rating)\n",
    "    fl_train_rmse2.append(rmse)\n",
    "    print('After round: ',round,'\\t RMSE: %10.3f' % rmse)\n",
    "        \n"
   ]
  },
  {
   "cell_type": "code",
   "execution_count": 37,
   "metadata": {},
   "outputs": [
    {
     "data": {
      "image/png": "[encoded data removed]",
      "text/plain": [
       "<Figure size 864x360 with 1 Axes>"
      ]
     },
     "metadata": {
      "needs_background": "light"
     },
     "output_type": "display_data"
    }
   ],
   "source": [
    "fig = plt.figure(figsize=(12,5))\n",
    "ax = fig.add_subplot(1,1,1)\n",
    "ax.plot(fl_train_rmse2, '-bs')\n",
    "ax.set_ylabel('$RMSE$')\n",
    "ax.set_xlabel('epoch')\n",
    "ax.title.set_text('Train RMSE - FederatedAvg model 2')\n",
    "ax.grid()"
   ]
  },
  {
   "cell_type": "code",
   "execution_count": 38,
   "metadata": {},
   "outputs": [
    {
     "name": "stdout",
     "output_type": "stream",
     "text": [
      "Train RMSE: 0.29\n",
      "Test RMSE: 0.34\n",
      "==========================\n",
      "Train MSE: 0.08\n",
      "Test MSE: 0.12\n",
      "==========================\n",
      "Train accuracy: 0.13\n",
      "Test accuracy: 0.11\n"
     ]
    }
   ],
   "source": [
    "# Rooted Mean Squared Error\n",
    "train_rmse = get_rmse(train_ratings, P, Q, b_user, b_item, overall_m_rating)\n",
    "print('Train RMSE: %2.2f' % train_rmse)\n",
    "test_rmse = get_rmse(test_ratings, P, Q, b_user, b_item, overall_m_rating)\n",
    "print('Test RMSE: %2.2f' % test_rmse)\n",
    "\n",
    "print('==========================')\n",
    "# Mean Squared Error\n",
    "train_mse = get_mse(train_ratings, P, Q, b_user, b_item, overall_m_rating)\n",
    "print('Train MSE: %2.2f' % train_mse)\n",
    "test_mse = get_mse(test_ratings, P, Q, b_user, b_item, overall_m_rating)\n",
    "print('Test MSE: %2.2f' % test_mse)\n",
    "\n",
    "print('==========================')\n",
    "# Accuracy\n",
    "train_acc = get_accuracy(train_ratings, P, Q, b_user, b_item, overall_m_rating)\n",
    "print('Train accuracy: %2.2f' % train_acc)\n",
    "test_acc = get_accuracy(test_ratings, P, Q, b_user, b_item, overall_m_rating)\n",
    "print('Test accuracy: %2.2f' % test_acc)"
   ]
  },
  {
   "cell_type": "code",
   "execution_count": null,
   "metadata": {},
   "outputs": [],
   "source": []
  }
 ],
 "metadata": {
  "kernelspec": {
   "display_name": "Python 3",
   "language": "python",
   "name": "python3"
  },
  "language_info": {
   "codemirror_mode": {
    "name": "ipython",
    "version": 3
   },
   "file_extension": ".py",
   "mimetype": "text/x-python",
   "name": "python",
   "nbconvert_exporter": "python",
   "pygments_lexer": "ipython3",
   "version": "3.6.5"
  }
 },
 "nbformat": 4,
 "nbformat_minor": 2
}
